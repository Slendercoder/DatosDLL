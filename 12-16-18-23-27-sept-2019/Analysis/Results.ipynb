{
 "cells": [
  {
   "cell_type": "markdown",
   "metadata": {},
   "source": [
    "# Data Analysis of Division of Linguistic Labor Experiment"
   ]
  },
  {
   "cell_type": "code",
   "execution_count": 1,
   "metadata": {},
   "outputs": [],
   "source": [
    "import pandas as pd\n",
    "import matplotlib.pyplot as plt\n",
    "import seaborn as sns\n",
    "import numpy as np\n",
    "from statsmodels.formula.api import ols\n",
    "from scipy import stats"
   ]
  },
  {
   "cell_type": "code",
   "execution_count": 2,
   "metadata": {},
   "outputs": [
    {
     "data": {
      "text/html": [
       "<div>\n",
       "<style scoped>\n",
       "    .dataframe tbody tr th:only-of-type {\n",
       "        vertical-align: middle;\n",
       "    }\n",
       "\n",
       "    .dataframe tbody tr th {\n",
       "        vertical-align: top;\n",
       "    }\n",
       "\n",
       "    .dataframe thead th {\n",
       "        text-align: right;\n",
       "    }\n",
       "</style>\n",
       "<table border=\"1\" class=\"dataframe\">\n",
       "  <thead>\n",
       "    <tr style=\"text-align: right;\">\n",
       "      <th></th>\n",
       "      <th>pareja</th>\n",
       "      <th>jugador</th>\n",
       "      <th>experto_en</th>\n",
       "      <th>novato_en</th>\n",
       "      <th>etapa</th>\n",
       "      <th>ronda</th>\n",
       "      <th>perro</th>\n",
       "      <th>clasificacion</th>\n",
       "      <th>raza</th>\n",
       "      <th>clasificacion_correcta</th>\n",
       "      <th>tratamiento</th>\n",
       "    </tr>\n",
       "  </thead>\n",
       "  <tbody>\n",
       "    <tr>\n",
       "      <th>0</th>\n",
       "      <td>32519-32519</td>\n",
       "      <td>325192931513079</td>\n",
       "      <td>terrier</td>\n",
       "      <td>hound</td>\n",
       "      <td>Training rounds</td>\n",
       "      <td>1</td>\n",
       "      <td>Perro1</td>\n",
       "      <td>C</td>\n",
       "      <td>C</td>\n",
       "      <td>1</td>\n",
       "      <td>Single</td>\n",
       "    </tr>\n",
       "    <tr>\n",
       "      <th>1</th>\n",
       "      <td>32519-32519</td>\n",
       "      <td>325192931513079</td>\n",
       "      <td>terrier</td>\n",
       "      <td>hound</td>\n",
       "      <td>Training rounds</td>\n",
       "      <td>1</td>\n",
       "      <td>Perro2</td>\n",
       "      <td>C</td>\n",
       "      <td>A</td>\n",
       "      <td>0</td>\n",
       "      <td>Single</td>\n",
       "    </tr>\n",
       "    <tr>\n",
       "      <th>2</th>\n",
       "      <td>32519-32519</td>\n",
       "      <td>325192931513079</td>\n",
       "      <td>terrier</td>\n",
       "      <td>hound</td>\n",
       "      <td>Training rounds</td>\n",
       "      <td>1</td>\n",
       "      <td>Perro3</td>\n",
       "      <td>A</td>\n",
       "      <td>A</td>\n",
       "      <td>1</td>\n",
       "      <td>Single</td>\n",
       "    </tr>\n",
       "    <tr>\n",
       "      <th>3</th>\n",
       "      <td>32519-32519</td>\n",
       "      <td>325192931513079</td>\n",
       "      <td>terrier</td>\n",
       "      <td>hound</td>\n",
       "      <td>Training rounds</td>\n",
       "      <td>1</td>\n",
       "      <td>Perro4</td>\n",
       "      <td>A</td>\n",
       "      <td>A</td>\n",
       "      <td>1</td>\n",
       "      <td>Single</td>\n",
       "    </tr>\n",
       "    <tr>\n",
       "      <th>4</th>\n",
       "      <td>32519-32519</td>\n",
       "      <td>325192931513079</td>\n",
       "      <td>terrier</td>\n",
       "      <td>hound</td>\n",
       "      <td>Training rounds</td>\n",
       "      <td>1</td>\n",
       "      <td>Perro5</td>\n",
       "      <td>A</td>\n",
       "      <td>A</td>\n",
       "      <td>1</td>\n",
       "      <td>Single</td>\n",
       "    </tr>\n",
       "  </tbody>\n",
       "</table>\n",
       "</div>"
      ],
      "text/plain": [
       "        pareja          jugador experto_en novato_en            etapa  ronda  \\\n",
       "0  32519-32519  325192931513079    terrier     hound  Training rounds      1   \n",
       "1  32519-32519  325192931513079    terrier     hound  Training rounds      1   \n",
       "2  32519-32519  325192931513079    terrier     hound  Training rounds      1   \n",
       "3  32519-32519  325192931513079    terrier     hound  Training rounds      1   \n",
       "4  32519-32519  325192931513079    terrier     hound  Training rounds      1   \n",
       "\n",
       "    perro clasificacion raza  clasificacion_correcta tratamiento  \n",
       "0  Perro1             C    C                       1      Single  \n",
       "1  Perro2             C    A                       0      Single  \n",
       "2  Perro3             A    A                       1      Single  \n",
       "3  Perro4             A    A                       1      Single  \n",
       "4  Perro5             A    A                       1      Single  "
      ]
     },
     "execution_count": 2,
     "metadata": {},
     "output_type": "execute_result"
    }
   ],
   "source": [
    "data = pd.read_csv('performance.csv')\n",
    "data.head()"
   ]
  },
  {
   "cell_type": "code",
   "execution_count": 3,
   "metadata": {},
   "outputs": [
    {
     "ename": "KeyError",
     "evalue": "'Treatment'",
     "output_type": "error",
     "traceback": [
      "\u001b[0;31m---------------------------------------------------------------------------\u001b[0m",
      "\u001b[0;31mKeyError\u001b[0m                                  Traceback (most recent call last)",
      "\u001b[0;32m/usr/local/lib/python3.8/site-packages/pandas/core/indexes/base.py\u001b[0m in \u001b[0;36mget_loc\u001b[0;34m(self, key, method, tolerance)\u001b[0m\n\u001b[1;32m   2645\u001b[0m             \u001b[0;32mtry\u001b[0m\u001b[0;34m:\u001b[0m\u001b[0;34m\u001b[0m\u001b[0;34m\u001b[0m\u001b[0m\n\u001b[0;32m-> 2646\u001b[0;31m                 \u001b[0;32mreturn\u001b[0m \u001b[0mself\u001b[0m\u001b[0;34m.\u001b[0m\u001b[0m_engine\u001b[0m\u001b[0;34m.\u001b[0m\u001b[0mget_loc\u001b[0m\u001b[0;34m(\u001b[0m\u001b[0mkey\u001b[0m\u001b[0;34m)\u001b[0m\u001b[0;34m\u001b[0m\u001b[0;34m\u001b[0m\u001b[0m\n\u001b[0m\u001b[1;32m   2647\u001b[0m             \u001b[0;32mexcept\u001b[0m \u001b[0mKeyError\u001b[0m\u001b[0;34m:\u001b[0m\u001b[0;34m\u001b[0m\u001b[0;34m\u001b[0m\u001b[0m\n",
      "\u001b[0;32mpandas/_libs/index.pyx\u001b[0m in \u001b[0;36mpandas._libs.index.IndexEngine.get_loc\u001b[0;34m()\u001b[0m\n",
      "\u001b[0;32mpandas/_libs/index.pyx\u001b[0m in \u001b[0;36mpandas._libs.index.IndexEngine.get_loc\u001b[0;34m()\u001b[0m\n",
      "\u001b[0;32mpandas/_libs/hashtable_class_helper.pxi\u001b[0m in \u001b[0;36mpandas._libs.hashtable.PyObjectHashTable.get_item\u001b[0;34m()\u001b[0m\n",
      "\u001b[0;32mpandas/_libs/hashtable_class_helper.pxi\u001b[0m in \u001b[0;36mpandas._libs.hashtable.PyObjectHashTable.get_item\u001b[0;34m()\u001b[0m\n",
      "\u001b[0;31mKeyError\u001b[0m: 'Treatment'",
      "\nDuring handling of the above exception, another exception occurred:\n",
      "\u001b[0;31mKeyError\u001b[0m                                  Traceback (most recent call last)",
      "\u001b[0;32m<ipython-input-3-13e0b568812d>\u001b[0m in \u001b[0;36m<module>\u001b[0;34m\u001b[0m\n\u001b[0;32m----> 1\u001b[0;31m \u001b[0mprint\u001b[0m\u001b[0;34m(\u001b[0m\u001b[0mdata\u001b[0m\u001b[0;34m[\u001b[0m\u001b[0mdata\u001b[0m\u001b[0;34m[\u001b[0m\u001b[0;34m'Treatment'\u001b[0m\u001b[0;34m]\u001b[0m\u001b[0;34m==\u001b[0m\u001b[0;34m'Single'\u001b[0m\u001b[0;34m]\u001b[0m\u001b[0;34m[\u001b[0m\u001b[0;34m'Player'\u001b[0m\u001b[0;34m]\u001b[0m\u001b[0;34m.\u001b[0m\u001b[0munique\u001b[0m\u001b[0;34m(\u001b[0m\u001b[0;34m)\u001b[0m\u001b[0;34m.\u001b[0m\u001b[0mshape\u001b[0m\u001b[0;34m)\u001b[0m\u001b[0;34m\u001b[0m\u001b[0;34m\u001b[0m\u001b[0m\n\u001b[0m\u001b[1;32m      2\u001b[0m \u001b[0mprint\u001b[0m\u001b[0;34m(\u001b[0m\u001b[0mdata\u001b[0m\u001b[0;34m[\u001b[0m\u001b[0mdata\u001b[0m\u001b[0;34m[\u001b[0m\u001b[0;34m'Treatment'\u001b[0m\u001b[0;34m]\u001b[0m\u001b[0;34m==\u001b[0m\u001b[0;34m'Dyad'\u001b[0m\u001b[0;34m]\u001b[0m\u001b[0;34m[\u001b[0m\u001b[0;34m'Player'\u001b[0m\u001b[0;34m]\u001b[0m\u001b[0;34m.\u001b[0m\u001b[0munique\u001b[0m\u001b[0;34m(\u001b[0m\u001b[0;34m)\u001b[0m\u001b[0;34m.\u001b[0m\u001b[0mshape\u001b[0m\u001b[0;34m)\u001b[0m\u001b[0;34m\u001b[0m\u001b[0;34m\u001b[0m\u001b[0m\n",
      "\u001b[0;32m/usr/local/lib/python3.8/site-packages/pandas/core/frame.py\u001b[0m in \u001b[0;36m__getitem__\u001b[0;34m(self, key)\u001b[0m\n\u001b[1;32m   2798\u001b[0m             \u001b[0;32mif\u001b[0m \u001b[0mself\u001b[0m\u001b[0;34m.\u001b[0m\u001b[0mcolumns\u001b[0m\u001b[0;34m.\u001b[0m\u001b[0mnlevels\u001b[0m \u001b[0;34m>\u001b[0m \u001b[0;36m1\u001b[0m\u001b[0;34m:\u001b[0m\u001b[0;34m\u001b[0m\u001b[0;34m\u001b[0m\u001b[0m\n\u001b[1;32m   2799\u001b[0m                 \u001b[0;32mreturn\u001b[0m \u001b[0mself\u001b[0m\u001b[0;34m.\u001b[0m\u001b[0m_getitem_multilevel\u001b[0m\u001b[0;34m(\u001b[0m\u001b[0mkey\u001b[0m\u001b[0;34m)\u001b[0m\u001b[0;34m\u001b[0m\u001b[0;34m\u001b[0m\u001b[0m\n\u001b[0;32m-> 2800\u001b[0;31m             \u001b[0mindexer\u001b[0m \u001b[0;34m=\u001b[0m \u001b[0mself\u001b[0m\u001b[0;34m.\u001b[0m\u001b[0mcolumns\u001b[0m\u001b[0;34m.\u001b[0m\u001b[0mget_loc\u001b[0m\u001b[0;34m(\u001b[0m\u001b[0mkey\u001b[0m\u001b[0;34m)\u001b[0m\u001b[0;34m\u001b[0m\u001b[0;34m\u001b[0m\u001b[0m\n\u001b[0m\u001b[1;32m   2801\u001b[0m             \u001b[0;32mif\u001b[0m \u001b[0mis_integer\u001b[0m\u001b[0;34m(\u001b[0m\u001b[0mindexer\u001b[0m\u001b[0;34m)\u001b[0m\u001b[0;34m:\u001b[0m\u001b[0;34m\u001b[0m\u001b[0;34m\u001b[0m\u001b[0m\n\u001b[1;32m   2802\u001b[0m                 \u001b[0mindexer\u001b[0m \u001b[0;34m=\u001b[0m \u001b[0;34m[\u001b[0m\u001b[0mindexer\u001b[0m\u001b[0;34m]\u001b[0m\u001b[0;34m\u001b[0m\u001b[0;34m\u001b[0m\u001b[0m\n",
      "\u001b[0;32m/usr/local/lib/python3.8/site-packages/pandas/core/indexes/base.py\u001b[0m in \u001b[0;36mget_loc\u001b[0;34m(self, key, method, tolerance)\u001b[0m\n\u001b[1;32m   2646\u001b[0m                 \u001b[0;32mreturn\u001b[0m \u001b[0mself\u001b[0m\u001b[0;34m.\u001b[0m\u001b[0m_engine\u001b[0m\u001b[0;34m.\u001b[0m\u001b[0mget_loc\u001b[0m\u001b[0;34m(\u001b[0m\u001b[0mkey\u001b[0m\u001b[0;34m)\u001b[0m\u001b[0;34m\u001b[0m\u001b[0;34m\u001b[0m\u001b[0m\n\u001b[1;32m   2647\u001b[0m             \u001b[0;32mexcept\u001b[0m \u001b[0mKeyError\u001b[0m\u001b[0;34m:\u001b[0m\u001b[0;34m\u001b[0m\u001b[0;34m\u001b[0m\u001b[0m\n\u001b[0;32m-> 2648\u001b[0;31m                 \u001b[0;32mreturn\u001b[0m \u001b[0mself\u001b[0m\u001b[0;34m.\u001b[0m\u001b[0m_engine\u001b[0m\u001b[0;34m.\u001b[0m\u001b[0mget_loc\u001b[0m\u001b[0;34m(\u001b[0m\u001b[0mself\u001b[0m\u001b[0;34m.\u001b[0m\u001b[0m_maybe_cast_indexer\u001b[0m\u001b[0;34m(\u001b[0m\u001b[0mkey\u001b[0m\u001b[0;34m)\u001b[0m\u001b[0;34m)\u001b[0m\u001b[0;34m\u001b[0m\u001b[0;34m\u001b[0m\u001b[0m\n\u001b[0m\u001b[1;32m   2649\u001b[0m         \u001b[0mindexer\u001b[0m \u001b[0;34m=\u001b[0m \u001b[0mself\u001b[0m\u001b[0;34m.\u001b[0m\u001b[0mget_indexer\u001b[0m\u001b[0;34m(\u001b[0m\u001b[0;34m[\u001b[0m\u001b[0mkey\u001b[0m\u001b[0;34m]\u001b[0m\u001b[0;34m,\u001b[0m \u001b[0mmethod\u001b[0m\u001b[0;34m=\u001b[0m\u001b[0mmethod\u001b[0m\u001b[0;34m,\u001b[0m \u001b[0mtolerance\u001b[0m\u001b[0;34m=\u001b[0m\u001b[0mtolerance\u001b[0m\u001b[0;34m)\u001b[0m\u001b[0;34m\u001b[0m\u001b[0;34m\u001b[0m\u001b[0m\n\u001b[1;32m   2650\u001b[0m         \u001b[0;32mif\u001b[0m \u001b[0mindexer\u001b[0m\u001b[0;34m.\u001b[0m\u001b[0mndim\u001b[0m \u001b[0;34m>\u001b[0m \u001b[0;36m1\u001b[0m \u001b[0;32mor\u001b[0m \u001b[0mindexer\u001b[0m\u001b[0;34m.\u001b[0m\u001b[0msize\u001b[0m \u001b[0;34m>\u001b[0m \u001b[0;36m1\u001b[0m\u001b[0;34m:\u001b[0m\u001b[0;34m\u001b[0m\u001b[0;34m\u001b[0m\u001b[0m\n",
      "\u001b[0;32mpandas/_libs/index.pyx\u001b[0m in \u001b[0;36mpandas._libs.index.IndexEngine.get_loc\u001b[0;34m()\u001b[0m\n",
      "\u001b[0;32mpandas/_libs/index.pyx\u001b[0m in \u001b[0;36mpandas._libs.index.IndexEngine.get_loc\u001b[0;34m()\u001b[0m\n",
      "\u001b[0;32mpandas/_libs/hashtable_class_helper.pxi\u001b[0m in \u001b[0;36mpandas._libs.hashtable.PyObjectHashTable.get_item\u001b[0;34m()\u001b[0m\n",
      "\u001b[0;32mpandas/_libs/hashtable_class_helper.pxi\u001b[0m in \u001b[0;36mpandas._libs.hashtable.PyObjectHashTable.get_item\u001b[0;34m()\u001b[0m\n",
      "\u001b[0;31mKeyError\u001b[0m: 'Treatment'"
     ]
    }
   ],
   "source": [
    "print(data[data['Treatment']=='Single']['Player'].unique().shape)\n",
    "print(data[data['Treatment']=='Dyad']['Player'].unique().shape)"
   ]
  },
  {
   "cell_type": "markdown",
   "metadata": {},
   "source": [
    "### Data frames"
   ]
  },
  {
   "cell_type": "code",
   "execution_count": null,
   "metadata": {},
   "outputs": [],
   "source": [
    "data.head()\n",
    "data_group = data[(data['Treatment']=='Dyad') & (data['Stage']=='Game rounds')]\n",
    "data_group = data_group[['Dyad', 'Expert', 'Novice', 'Player', 'Round', 'Perro', 'Kind', 'Label', 'Correct']]\n",
    "data_group.head()"
   ]
  },
  {
   "cell_type": "code",
   "execution_count": null,
   "metadata": {},
   "outputs": [],
   "source": [
    "data_comunicacion = pd.read_csv('comunicacion.csv')\n",
    "data_comunicacion = data_comunicacion[['Dyad', 'Player', 'Round', 'Perro', 'Kind', 'suposicion', 'Rotulo', 'Recibido', 'Correctitud']]\n",
    "data_comunicacion.head()"
   ]
  },
  {
   "cell_type": "code",
   "execution_count": null,
   "metadata": {},
   "outputs": [],
   "source": [
    "df1 = pd.merge(data_group, data_comunicacion, how='left', on=['Player', 'Round', 'Perro'])\n",
    "df1 = df1[['Dyad_x', 'Expert', 'Novice', 'Player', 'Round', 'Perro', 'Kind_x', 'Label', 'Correct', 'suposicion', 'Rotulo', 'Recibido', 'Correctitud']]\n",
    "df1['respondido'] = df1['Recibido'].apply(lambda x: 'Si' if (x=='Si') or (x=='No') else 'No')\n",
    "df1.columns = ['pareja', 'experto_en', 'novato_en', 'jugador', 'ronda', 'perro', 'raza', 'clasificacion', 'clasificacion_correcta', 'suposicion', 'rotulo_enviado', 'respuesta', 'respuesta_correcta', 'respondido']\n",
    "df1.head()\n"
   ]
  },
  {
   "cell_type": "code",
   "execution_count": null,
   "metadata": {},
   "outputs": [],
   "source": [
    "dict_razas = {'A':'Cairn\\n Terrier', 'C':'Norwich\\n Terrier', 'B':'Irish\\n Wolfhound', 'D':'Scottish\\n Deerhound'}\n",
    "dict_orden = {'A':1, 'C':2, 'B':3, 'D':4}\n",
    "df = df1[df1['rotulo_enviado'].isnull()==False]\n",
    "df = df.groupby('raza')['respondido'].value_counts(normalize=True).reset_index(name='cuenta')\n",
    "df = df[df['respondido'] == 'Si']\n",
    "df['indice'] = df['raza']\n",
    "df['raza'] = df['indice'].map(dict_razas)\n",
    "df['indice'] = df['indice'].map(dict_orden)\n",
    "df.sort_values(by='indice', inplace=True)\n",
    "del df['respondido']\n",
    "del df['indice']\n",
    "df.columns = ['raza', 'respondido']\n",
    "df_respondido = df\n",
    "df_respondido"
   ]
  },
  {
   "cell_type": "code",
   "execution_count": null,
   "metadata": {},
   "outputs": [],
   "source": [
    "dict_razas = {'A':'Cairn\\n Terrier', 'C':'Norwich\\n Terrier', 'B':'Irish\\n Wolfhound', 'D':'Scottish\\n Deerhound'}\n",
    "dict_orden = {'A':1, 'C':2, 'B':3, 'D':4}\n",
    "df = df1[df1['rotulo_enviado'].isnull()==False]\n",
    "df = df.groupby('raza')['respuesta_correcta'].value_counts(dropna=True, normalize=True).reset_index(name='cuenta')\n",
    "df = df[df['respuesta_correcta'] == 1]\n",
    "df['indice'] = df['raza']\n",
    "df['raza'] = df['indice'].map(dict_razas)\n",
    "df['indice'] = df['indice'].map(dict_orden)\n",
    "del df['respuesta_correcta']\n",
    "del df['indice']\n",
    "df.columns = ['raza', 'respuesta_correcta']\n",
    "df_correcto = df\n",
    "df_correcto"
   ]
  },
  {
   "cell_type": "code",
   "execution_count": null,
   "metadata": {},
   "outputs": [],
   "source": [
    "df_accu = data.copy()\n",
    "df_accu = df_accu[df_accu['Stage'] == 'Game rounds']\n",
    "del df_accu['Raza']\n",
    "del df_accu['Stage']\n",
    "del df_accu['Perro']\n",
    "del df_accu['Object']\n",
    "df_accu.columns = ['pareja', 'jugador', 'ronda', 'clasificado_como', 'raza', 'clasificacion_correcta', 'Treatment', 'experto_en', 'novato_en']\n",
    "df_accu['tipo_ejemplar'] = df_accu['raza'].apply(lambda x: 'terrier' if (x=='A' or x=='C') else 'hound')\n",
    "dfN = df_accu[(df_accu['novato_en'] == df_accu['tipo_ejemplar'])]\n",
    "#dfN = df_accu_novatos.groupby(['Treatment', 'ronda'])['clasificacion_correcta'].mean().reset_index(name='Accuracy')\n",
    "dfE = df_accu[(df_accu['experto_en'] == df_accu['tipo_ejemplar'])]\n",
    "#dfE = df_accu_expertos.groupby(['Treatment', 'ronda'])['clasificacion_correcta'].mean().reset_index(name='Accuracy')\n",
    "dfN.head()"
   ]
  },
  {
   "cell_type": "markdown",
   "metadata": {},
   "source": [
    "----"
   ]
  },
  {
   "cell_type": "code",
   "execution_count": null,
   "metadata": {},
   "outputs": [],
   "source": [
    "reporte_comprension = pd.read_csv('./rep-comprension.csv')\n",
    "reporte_comprension.head()"
   ]
  },
  {
   "cell_type": "code",
   "execution_count": null,
   "metadata": {},
   "outputs": [],
   "source": [
    "df_1 = reporte_comprension[reporte_comprension['experto_en']=='terrier']\n",
    "df_1 = df_1[['jugador', 'Treatment', 'experto_en', 'GradingB', 'GradingD']]\n",
    "df_1 = pd.melt(df_1, ['jugador', 'Treatment'], ['GradingB', 'GradingD'])\n",
    "df_1['variable'] = df_1['variable'].apply(lambda x: x[-1])\n",
    "df_1 = df_1[['Treatment', 'jugador', 'value', 'variable']]\n",
    "df_1.columns = ['Treatment', 'jugador', 'Report', 'raza']\n",
    "df_1.head()"
   ]
  },
  {
   "cell_type": "code",
   "execution_count": null,
   "metadata": {},
   "outputs": [],
   "source": [
    "df_1 = reporte_comprension[reporte_comprension['experto_en']=='terrier']\n",
    "df_1 = df_1[['jugador', 'Treatment', 'experto_en', 'GradingB', 'GradingD']]\n",
    "df_1 = pd.melt(df_1, ['jugador', 'Treatment'], ['GradingB', 'GradingD'])\n",
    "df_1['variable'] = df_1['variable'].apply(lambda x: x[-1])\n",
    "df_1 = df_1[['Treatment', 'jugador', 'value', 'variable']]\n",
    "df_1.columns = ['Treatment', 'jugador', 'Report', 'raza']\n",
    "\n",
    "df_2 = reporte_comprension[reporte_comprension['experto_en']=='hound']\n",
    "df_2 = df_2[['jugador', 'Treatment', 'experto_en', 'GradingA', 'GradingC']]\n",
    "df_2 = pd.melt(df_2, ['jugador', 'Treatment'], ['GradingA', 'GradingC'])\n",
    "df_2['variable'] = df_2['variable'].apply(lambda x: x[-1])\n",
    "df_2 = df_2[['Treatment', 'jugador', 'value', 'variable']]\n",
    "df_2.columns = ['Treatment', 'jugador', 'Report', 'raza']\n",
    "\n",
    "df_novatos = pd.concat([df_1, df_2])\n",
    "df_novatos['Expertise'] = 'Novices'\n",
    "df_novatos.head()\n"
   ]
  },
  {
   "cell_type": "code",
   "execution_count": null,
   "metadata": {},
   "outputs": [],
   "source": [
    "df_1 = reporte_comprension[reporte_comprension['experto_en']=='terrier']\n",
    "df_1 = df_1[['jugador', 'Treatment', 'experto_en', 'GradingA', 'GradingC']]\n",
    "df_1 = pd.melt(df_1, ['jugador', 'Treatment'], ['GradingA', 'GradingC'])\n",
    "df_1['variable'] = df_1['variable'].apply(lambda x: x[-1])\n",
    "df_1 = df_1[['Treatment', 'jugador', 'value', 'variable']]\n",
    "df_1.columns = ['Treatment', 'jugador', 'Report', 'raza']\n",
    "\n",
    "df_2 = reporte_comprension[reporte_comprension['experto_en']=='hound']\n",
    "df_2 = df_2[['jugador', 'Treatment', 'experto_en', 'GradingB', 'GradingD']]\n",
    "df_2 = pd.melt(df_2, ['jugador', 'Treatment'], ['GradingB', 'GradingD'])\n",
    "df_2['variable'] = df_2['variable'].apply(lambda x: x[-1])\n",
    "df_2 = df_2[['Treatment', 'jugador', 'value', 'variable']]\n",
    "df_2.columns = ['Treatment', 'jugador', 'Report', 'raza']\n",
    "\n",
    "df_expertos = pd.concat([df_1, df_2])\n",
    "df_expertos['Expertise'] = 'Experts'\n",
    "df_expertos.head()"
   ]
  },
  {
   "cell_type": "code",
   "execution_count": null,
   "metadata": {},
   "outputs": [],
   "source": [
    "reporte_comprension = pd.concat([df_expertos, df_novatos])\n",
    "reporte_comprension.head()"
   ]
  },
  {
   "cell_type": "code",
   "execution_count": null,
   "metadata": {},
   "outputs": [],
   "source": [
    "# Expertos entre tratamientos\n",
    "x = reporte_comprension[(reporte_comprension['Treatment']=='Single') & (reporte_comprension['Expertise']=='Experts')]['Report']\n",
    "y = reporte_comprension[(reporte_comprension['Treatment']=='Dyad') & (reporte_comprension['Expertise']=='Experts')]['Report']\n",
    "print(\"Diferencia de medias entre expertos en los dos tratamientos:\", stats.ttest_ind(x,y).pvalue)\n",
    "\n",
    "# Novatos entre tratamientos\n",
    "x = reporte_comprension[(reporte_comprension['Treatment']=='Single') & (reporte_comprension['Expertise']=='Novices')]['Report']\n",
    "y = reporte_comprension[(reporte_comprension['Treatment']=='Dyad') & (reporte_comprension['Expertise']=='Novices')]['Report']\n",
    "print(\"Diferencia de medias entre novatos en los dos tratamientos:\", stats.ttest_ind(x,y).pvalue)\n",
    "\n",
    "# Individual entre experticia\n",
    "x = reporte_comprension[(reporte_comprension['Treatment']=='Single') & (reporte_comprension['Expertise']=='Experts')]['Report']\n",
    "y = reporte_comprension[(reporte_comprension['Treatment']=='Single') & (reporte_comprension['Expertise']=='Novices')]['Report']\n",
    "print(\"Diferencia de medias entre experticia en individuos:\", stats.ttest_ind(x,y).pvalue)\n",
    "\n",
    "# Parejas entre experticia\n",
    "x = reporte_comprension[(reporte_comprension['Treatment']=='Dyad') & (reporte_comprension['Expertise']=='Experts')]['Report']\n",
    "y = reporte_comprension[(reporte_comprension['Treatment']=='Dyad') & (reporte_comprension['Expertise']=='Novices')]['Report']\n",
    "print(\"Diferencia de medias entre experticia en parejas:\", stats.ttest_ind(x,y).pvalue)\n"
   ]
  },
  {
   "cell_type": "code",
   "execution_count": null,
   "metadata": {},
   "outputs": [],
   "source": [
    "df_comp = data[data['Stage']=='Game rounds']\n",
    "#df_comp = df_comp[df_comp['Round'] > 15]\n",
    "df_comp = df_comp[['Player', 'Kind', 'Round', 'Correct', 'Treatment']]\n",
    "df_comp.columns = ['jugador', 'raza', 'ronda', 'clasificacion_correcta', 'Treatment']\n",
    "df_comp = df_comp.groupby(['Treatment', 'jugador', 'raza'])['clasificacion_correcta'].mean().reset_index()\n",
    "reporte_comprension = pd.merge(df_comp, reporte_comprension, on=['Treatment', 'jugador', 'raza'])#, how = 'outer')\n",
    "reporte_comprension.tail()\n"
   ]
  },
  {
   "cell_type": "code",
   "execution_count": null,
   "metadata": {},
   "outputs": [],
   "source": [
    "df_comp = df1.copy()\n",
    "#df_comp = df_comp[df_comp['Round'] > 15]\n",
    "df_comp = df_comp[['jugador', 'raza', 'ronda', 'rotulo_enviado']]\n",
    "df_comp['envio'] = df_comp['rotulo_enviado'].apply(lambda x: 'Si' if (x=='A') or (x=='B') or (x=='C') or (x=='D') else 'No')\n",
    "df_comp = df_comp.groupby(['jugador', 'raza'])['envio'].value_counts(normalize=True).reset_index(name='query')\n",
    "df_comp = df_comp[df_comp['envio']=='Si']\n",
    "del df_comp['envio']\n",
    "reporte_comprension_novatos = pd.merge(reporte_comprension[reporte_comprension['Expertise']=='Novices'], df_comp, on=['jugador', 'raza'])\n",
    "reporte_comprension_novatos.head()\n"
   ]
  },
  {
   "cell_type": "code",
   "execution_count": null,
   "metadata": {},
   "outputs": [],
   "source": [
    "dfA = df1[df1['rotulo_enviado'].isnull()==False]\n",
    "df = dfA.groupby(['jugador', 'raza'])['respondido'].value_counts(normalize=True).reset_index(name='answered')\n",
    "df = df[df['respondido']=='Si']\n",
    "del df['respondido']\n",
    "reporte_comprension_novatos = pd.merge(reporte_comprension_novatos, df, on=['jugador', 'raza'])\n",
    "reporte_comprension_novatos.head()\n"
   ]
  },
  {
   "cell_type": "code",
   "execution_count": null,
   "metadata": {},
   "outputs": [],
   "source": [
    "df_novatos_single = df_novatos[df_novatos['Treatment']=='Single']\n",
    "df_novatos_single = df_novatos_single.groupby('jugador')['Report'].mean().reset_index()\n",
    "df_novatos_single.head()\n"
   ]
  },
  {
   "cell_type": "code",
   "execution_count": null,
   "metadata": {},
   "outputs": [],
   "source": [
    "dfN_ = dfN[dfN['Treatment']=='Single']\n",
    "dfN_ = dfN_.groupby('jugador')['clasificacion_correcta'].mean().reset_index()\n",
    "df_novatos_single = pd.merge(df_novatos_single, dfN_, on='jugador')\n",
    "df_novatos_single.head()\n"
   ]
  },
  {
   "cell_type": "code",
   "execution_count": null,
   "metadata": {},
   "outputs": [],
   "source": [
    "dict_razas = {'A':'Cairn\\n Terrier', 'C':'Norwich\\n Terrier', 'B':'Irish\\n Wolf-\\n hound', 'D':'Scottish\\n Deer-\\nhound'}\n",
    "dict_orden = {'A':1, 'C':2, 'B':3, 'D':4}\n",
    "df_novatos_terriers = df1[df1['novato_en'] == 'terrier']\n",
    "df = df_novatos_terriers.groupby('raza')['rotulo_enviado'].value_counts(normalize=True, dropna=False).reset_index(name='conteo')\n",
    "df['preguntar'] = df['rotulo_enviado'].apply(lambda x: 0 if pd.isnull(x) else 1)\n",
    "df = df[df['preguntar'] == 0]\n",
    "df['pregunto'] = (1 - df['conteo']) * 100\n",
    "df['indice'] = df['raza']\n",
    "df['raza'] = df['indice'].map(dict_razas)\n",
    "df['indice'] = df['indice'].map(dict_orden)\n",
    "df.sort_values(by='indice', inplace=True)\n",
    "df['Novice in'] = 'terriers'\n",
    "df_preguntas_terriers = df\n",
    "df_novatos_hounds = df1[df1['novato_en'] == 'hound']\n",
    "df = df_novatos_hounds.groupby('raza')['rotulo_enviado'].value_counts(normalize=True, dropna=False).reset_index(name='conteo')\n",
    "df['preguntar'] = df['rotulo_enviado'].apply(lambda x: 0 if pd.isnull(x) else 1)\n",
    "df = df[df['preguntar'] == 0]\n",
    "df['pregunto'] = (1 - df['conteo']) * 100\n",
    "df['indice'] = df['raza']\n",
    "df['raza'] = df['indice'].map(dict_razas)\n",
    "df['indice'] = df['indice'].map(dict_orden)\n",
    "df.sort_values(by='indice', inplace=True)\n",
    "df['Novice in'] = 'hounds'\n",
    "df_preguntas_hounds = df\n",
    "df_preguntas = pd.concat([df_preguntas_terriers, df_preguntas_hounds])\n",
    "df_preguntas.head()"
   ]
  },
  {
   "cell_type": "code",
   "execution_count": null,
   "metadata": {},
   "outputs": [],
   "source": [
    "data_training = data[data['Stage']=='Training rounds']\n",
    "\n",
    "fig, ax = plt.subplots(1, 3, figsize=(10,3), dpi=600)\n",
    "sns.lineplot(x='Round', y='Correct', hue='Treatment', data=data_training, ci=95, ax=ax[0])\n",
    "sns.lineplot(x='ronda', y='clasificacion_correcta', hue='Treatment', data=dfE, ci=95, ax=ax[1])\n",
    "sns.lineplot(x='ronda', y='clasificacion_correcta', hue='Treatment', data=dfN, ci=95, ax=ax[2])\n",
    "ax[0].set_ylim(0.4, 1)\n",
    "ax[0].set_xlabel('Training rounds')\n",
    "ax[0].set_ylabel('% Classification success')\n",
    "ax[0].set_ylim(0.4, 1)\n",
    "ax[1].set_title(\"Expert-Dogs\")\n",
    "ax[1].set_xlabel(\"Game rounds\")\n",
    "ax[1].set_ylabel('% Classification success')\n",
    "ax[1].set_ylim(0.4, 1)\n",
    "ax[2].set_title(\"Novice-Dogs\")\n",
    "ax[2].set_xlabel(\"Game rounds\")\n",
    "ax[2].set_ylabel(\"\")\n",
    "ax[2].set_ylim(0.4, 1)\n",
    "ax[2].get_legend().remove()\n",
    "\n",
    "fig.tight_layout()\n"
   ]
  },
  {
   "cell_type": "code",
   "execution_count": null,
   "metadata": {
    "scrolled": false
   },
   "outputs": [],
   "source": [
    "fig, ax = plt.subplots(2, 2, figsize=(6, 6), dpi=600)\n",
    "\n",
    "sns.barplot(x='raza', y='pregunto', hue='Novice in', data=df_preguntas, ax=ax[0, 0])\n",
    "ax[0, 0].set_xlabel(\"Dog shown to player\")\n",
    "ax[0, 0].set(ylim=(0, 60))\n",
    "ax[0, 0].set_ylabel(\"% of queries\")\n",
    "ax[0, 0].legend(title=\"Novices in\", ncol=2, loc='upper center')#bbox_to_anchor=(0., 1.02, 1., .102), loc='lower left', ncol=2, mode=\"expand\", borderaxespad=0.)\n",
    "\n",
    "df_respuestas = pd.merge(df_respondido, df_correcto, on='raza')\n",
    "respondido = df_respuestas['respondido'].mean()\n",
    "correcto = df_respuestas['respuesta_correcta'].mean()\n",
    "sns.barplot(x=['answered', 'correct'], y=[100, 100], color = \"cyan\", ax=ax[0, 1])\n",
    "sns.barplot(x=['answered', 'correct'], y=[respondido*100, correcto*100], color = \"green\", ax=ax[0, 1])\n",
    "ax[0, 1].set_title(\"Experts' answers\")\n",
    "ax[0, 1].set_ylabel(\"% of messages\")\n",
    "topbar = plt.Rectangle((0,0),1,1,fc=\"cyan\", edgecolor = 'none')\n",
    "bottombar = plt.Rectangle((0,0),1,1,fc='green',  edgecolor = 'none')\n",
    "ax[0, 1].legend([bottombar, topbar], ['Yes', 'No'], loc='lower right', ncol = 1, prop={'size':10})\n",
    "\n",
    "\n",
    "df_msgs = df1.groupby(['jugador', 'ronda'])['rotulo_enviado'].count().reset_index(name='#msg')\n",
    "sns.lineplot(x='ronda', y='#msg', data=df_msgs, ax=ax[1, 0], ci=95)\n",
    "ax[1, 0].set_xlabel(\"Game rounds\")\n",
    "ax[1, 0].set(ylim=(0, 2))\n",
    "ax[1, 0].set_ylabel(\"Av. # of queries\")\n",
    "ax[1, 0].set_title(\"Number of queries per round\")\n",
    "\n",
    "sns.regplot(x='query', y='clasificacion_correcta', data=reporte_comprension_novatos, ax=ax[1, 1])\n",
    "ax[1, 1].set_title('Accuracy vs. Queries')\n",
    "ax[1, 1].set_xlabel('Rate of dogs queried')\n",
    "ax[1, 1].set_ylabel('Accuracy')\n",
    "ax[1, 1].set(xlim=(0, 1.05))\n",
    "\n",
    "fig.tight_layout()\n"
   ]
  },
  {
   "cell_type": "code",
   "execution_count": null,
   "metadata": {},
   "outputs": [],
   "source": [
    "reporte_comprension_novatos[['query', 'clasificacion_correcta']].corr()"
   ]
  },
  {
   "cell_type": "code",
   "execution_count": null,
   "metadata": {},
   "outputs": [],
   "source": [
    "parejas_dict = {}\n",
    "for pareja, grp in df1.groupby('pareja'):\n",
    "    jugadores = grp.jugador.unique()\n",
    "    parejas_dict[jugadores[0]] = jugadores[1]\n",
    "    parejas_dict[jugadores[1]] = jugadores[0]\n",
    "    \n",
    "#parejas_dict"
   ]
  },
  {
   "cell_type": "code",
   "execution_count": null,
   "metadata": {},
   "outputs": [],
   "source": [
    "dfA = df1[df1['rotulo_enviado'].isnull()==False]\n",
    "df = dfA.groupby(['jugador', 'raza'])['respondido'].value_counts(normalize=True).reset_index(name='answered')\n",
    "df = df[df['respondido']=='Si']\n",
    "del df['respondido']\n",
    "df['jugador'] = df['jugador'].map(parejas_dict)\n",
    "df['llave'] = df.apply(lambda x: (x['jugador'], x['raza']), axis=1)\n",
    "print(df.head())\n",
    "dict_respuesta = dict(zip(df['llave'], df['answered']))\n",
    "#dict_respuesta"
   ]
  },
  {
   "cell_type": "code",
   "execution_count": null,
   "metadata": {},
   "outputs": [],
   "source": [
    "reporte_comprension_expertos = pd.DataFrame(reporte_comprension[reporte_comprension['Expertise']=='Experts'])\n",
    "reporte_comprension_expertos['llave'] = reporte_comprension_expertos.apply(lambda x: (x['jugador'], x['raza']), axis=1)\n",
    "reporte_comprension_expertos['answered'] = reporte_comprension_expertos['llave'].map(dict_respuesta)\n",
    "del reporte_comprension_expertos['llave']\n",
    "reporte_comprension_expertos = reporte_comprension_expertos[reporte_comprension_expertos['Treatment']=='Dyad']\n",
    "reporte_comprension_expertos = reporte_comprension_expertos.dropna()\n",
    "reporte_comprension_expertos.head()\n"
   ]
  },
  {
   "cell_type": "code",
   "execution_count": null,
   "metadata": {},
   "outputs": [],
   "source": [
    "fig, axes = plt.subplots(1, 3, figsize=(9,3), dpi=600)\n",
    "sns.boxplot(x='Expertise', y='Report', hue='Treatment', data=reporte_comprension, ax=axes[0])\n",
    "sns.regplot(y='Report', x='clasificacion_correcta', data=reporte_comprension_expertos, ax=axes[1])\n",
    "sns.regplot(y='Report', x='answered', data=reporte_comprension_expertos, ax=axes[2])\n",
    "axes[0].set_title('Distribution of Report')\n",
    "axes[0].set_ylabel('Report on term understanding')\n",
    "axes[0].set(ylim=(0.75, 7.25))\n",
    "axes[1].set_title('Report vs. Accuracy')\n",
    "axes[1].set_xlabel('Accuracy')\n",
    "axes[1].set_ylabel('')\n",
    "axes[1].set(xlim=(0.05, 1.05))\n",
    "axes[1].set(ylim=(0.75, 7.25))\n",
    "axes[2].set_title('Report vs. Answers')\n",
    "axes[2].set_xlabel('Rate of queries answered')\n",
    "axes[2].set_ylabel('')\n",
    "axes[2].set(xlim=(0.05, 1.05))\n",
    "axes[2].set(ylim=(0.75, 7.25))\n",
    "fig.tight_layout()"
   ]
  },
  {
   "cell_type": "code",
   "execution_count": null,
   "metadata": {
    "scrolled": false
   },
   "outputs": [],
   "source": [
    "fig, axes = plt.subplots(2, 2, figsize=(6,6), dpi=600)\n",
    "sns.regplot(x='clasificacion_correcta', y='Report', data=df_novatos_single, ax=axes[0,0])\n",
    "sns.regplot(x='clasificacion_correcta', y='Report', data=reporte_comprension_novatos, ax=axes[0,1])\n",
    "sns.regplot(x='query', y='Report', data=reporte_comprension_novatos, ax=axes[1,0])\n",
    "sns.regplot(x='answered', y='Report', data=reporte_comprension_novatos, ax=axes[1,1])\n",
    "axes[0,0].set_title('Treatment Single\\n Report vs. Accuracy')\n",
    "axes[0,0].set_xlabel('Accuracy')\n",
    "axes[0,0].set_ylabel('')\n",
    "axes[0,0].set(xlim=(0.45, 1.05))\n",
    "axes[0,0].set(ylim=(0.75, 7.25))\n",
    "axes[0,1].set_title('Treatment Dyad\\n Report vs. Accuracy')\n",
    "axes[0,1].set_xlabel('Accuracy')\n",
    "axes[0,1].set_ylabel('')\n",
    "axes[0,1].set(xlim=(0.45, 1.05))\n",
    "#axes[0,0].set(ylim=(1, 7))\n",
    "\n",
    "axes[1,0].set_title('Report vs. Queries')\n",
    "axes[1,0].set_xlabel('Rate of dogs queried')\n",
    "axes[1,0].set_ylabel('')\n",
    "axes[1,0].set(xlim=(0, 1.05))\n",
    "#axes[0,1].set(ylim=(1, 7))\n",
    "axes[1,1].set_title('Report vs. Answers')\n",
    "axes[1,1].set_xlabel('Rate of queries answered')\n",
    "axes[1,1].set_ylabel('')\n",
    "axes[1,1].set(xlim=(0, 1.05))\n",
    "#axes[0,2].set(ylim=(1, 7))\n",
    "\n",
    "fig.tight_layout()"
   ]
  },
  {
   "cell_type": "markdown",
   "metadata": {},
   "source": [
    "### Regression models"
   ]
  },
  {
   "cell_type": "code",
   "execution_count": null,
   "metadata": {},
   "outputs": [],
   "source": [
    "df_novatos_single[['Report', 'clasificacion_correcta']].corr()"
   ]
  },
  {
   "cell_type": "code",
   "execution_count": null,
   "metadata": {},
   "outputs": [],
   "source": [
    "model = ols(\"Report ~ clasificacion_correcta\", data=df_novatos_single)\n",
    "results = model.fit()\n",
    "results.summary()"
   ]
  },
  {
   "cell_type": "code",
   "execution_count": null,
   "metadata": {},
   "outputs": [],
   "source": [
    "corr_mat = reporte_comprension_novatos[['Report', 'clasificacion_correcta', 'query', 'answered']].corr()\n",
    "corr_mat"
   ]
  },
  {
   "cell_type": "code",
   "execution_count": null,
   "metadata": {},
   "outputs": [],
   "source": [
    "sns.heatmap(corr_mat,cmap=sns.diverging_palette(220, 10, as_cmap=True))\n",
    "plt.title(\"Correlation Matrix\")"
   ]
  },
  {
   "cell_type": "code",
   "execution_count": null,
   "metadata": {},
   "outputs": [],
   "source": [
    "model = ols(\"Report ~ clasificacion_correcta + query + answered\", data=reporte_comprension_novatos)\n",
    "results = model.fit()\n",
    "results.summary()"
   ]
  },
  {
   "cell_type": "code",
   "execution_count": null,
   "metadata": {},
   "outputs": [],
   "source": [
    "model = ols(\"Report ~ clasificacion_correcta + query * answered\", data=reporte_comprension_novatos)\n",
    "results = model.fit()\n",
    "results.summary()"
   ]
  },
  {
   "cell_type": "code",
   "execution_count": null,
   "metadata": {},
   "outputs": [],
   "source": [
    "model = ols(\"clasificacion_correcta ~ query + answered\", data=reporte_comprension_novatos)\n",
    "results = model.fit()\n",
    "results.summary()"
   ]
  },
  {
   "cell_type": "code",
   "execution_count": null,
   "metadata": {},
   "outputs": [],
   "source": [
    "corr_mat = df[['Report', 'clasificacion_correcta', 'answered']].corr()\n",
    "corr_mat"
   ]
  },
  {
   "cell_type": "code",
   "execution_count": null,
   "metadata": {},
   "outputs": [],
   "source": [
    "sns.heatmap(corr_mat,cmap=sns.diverging_palette(220, 10, as_cmap=True))\n",
    "plt.title(\"Correlation Matrix\")"
   ]
  },
  {
   "cell_type": "code",
   "execution_count": null,
   "metadata": {
    "scrolled": false
   },
   "outputs": [],
   "source": [
    "model = ols(\"Report ~ clasificacion_correcta + answered\", data=df)\n",
    "results = model.fit()\n",
    "results.summary()"
   ]
  },
  {
   "cell_type": "code",
   "execution_count": null,
   "metadata": {
    "scrolled": false
   },
   "outputs": [],
   "source": [
    "variables = ['Report', 'clasificacion_correcta', 'answered']\n",
    "for var in variables:\n",
    "    datos = df[var]\n",
    "    datos_ajustados, fitted_lambda = stats.boxcox(datos)\n",
    "    print(f\"Box-Cox {var} = {round(fitted_lambda,2)}\")\n",
    "    df[var + '_adj'] = datos_ajustados\n",
    "\n",
    "df.head()"
   ]
  },
  {
   "cell_type": "code",
   "execution_count": null,
   "metadata": {},
   "outputs": [],
   "source": [
    "original_data = df['answered']\n",
    "  \n",
    "# transform training data & save lambda value \n",
    "fitted_data, fitted_lambda = stats.boxcox(original_data) \n",
    "  \n",
    "# creating axes to draw plots \n",
    "fig, ax = plt.subplots(1, 2) \n",
    "  \n",
    "# plotting the original data(non-normal) and  \n",
    "# fitted data (normal) \n",
    "sns.distplot(original_data, hist = False, kde = True, \n",
    "            kde_kws = {'shade': True, 'linewidth': 2},  \n",
    "            label = \"Non-Normal\", color =\"green\", ax = ax[0]) \n",
    "  \n",
    "sns.distplot(fitted_data, hist = False, kde = True, \n",
    "            kde_kws = {'shade': True, 'linewidth': 2},  \n",
    "            label = \"Normal\", color =\"green\", ax = ax[1])"
   ]
  },
  {
   "cell_type": "code",
   "execution_count": null,
   "metadata": {},
   "outputs": [],
   "source": [
    "model = ols(\"Report_adj ~ clasificacion_correcta_adj + answered_adj\", data=df)\n",
    "results = model.fit()\n",
    "results.summary()"
   ]
  },
  {
   "cell_type": "code",
   "execution_count": null,
   "metadata": {},
   "outputs": [],
   "source": [
    "fig, axes = plt.subplots(1, 3, figsize=(12,4))\n",
    "sns.distplot(reporte_comprension_novatos['Report'], ax=axes[0])\n",
    "sns.distplot(reporte_comprension_novatos['clasificacion_correcta'], ax=axes[1])\n",
    "sns.distplot(reporte_comprension_novatos['%query'], ax=axes[2])"
   ]
  },
  {
   "cell_type": "code",
   "execution_count": null,
   "metadata": {},
   "outputs": [],
   "source": [
    "fig, axes = plt.subplots(1, 3, figsize=(9,3), dpi=300)\n",
    "sns.regplot(y='Report', x='clasificacion_correcta', data=reporte_comprension_novatos, ax=axes[1])\n",
    "sns.regplot(y='Report', x='%query', data=reporte_comprension_novatos, ax=axes[2])\n"
   ]
  },
  {
   "cell_type": "code",
   "execution_count": null,
   "metadata": {},
   "outputs": [],
   "source": []
  }
 ],
 "metadata": {
  "kernelspec": {
   "display_name": "Python 3",
   "language": "python",
   "name": "python3"
  },
  "language_info": {
   "codemirror_mode": {
    "name": "ipython",
    "version": 3
   },
   "file_extension": ".py",
   "mimetype": "text/x-python",
   "name": "python",
   "nbconvert_exporter": "python",
   "pygments_lexer": "ipython3",
   "version": "3.8.3"
  }
 },
 "nbformat": 4,
 "nbformat_minor": 4
}
