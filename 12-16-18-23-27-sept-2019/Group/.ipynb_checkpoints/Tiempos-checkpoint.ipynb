{
 "cells": [
  {
   "cell_type": "code",
   "execution_count": 1,
   "metadata": {},
   "outputs": [],
   "source": [
    "import pandas as pd\n",
    "import json\n",
    "import seaborn as sns"
   ]
  },
  {
   "cell_type": "code",
   "execution_count": 2,
   "metadata": {},
   "outputs": [],
   "source": [
    "data_archivo = 'data_lgc1.json'\n",
    "with open(data_archivo) as data_file:\n",
    "    Data = json.load(data_file)\n",
    "data_file.close()"
   ]
  },
  {
   "cell_type": "code",
   "execution_count": 21,
   "metadata": {},
   "outputs": [],
   "source": [
    "pl1 = []\n",
    "player1 = ''\n",
    "pl2 = []\n",
    "player2 = ''\n",
    "for d in Data:\n",
    "    if player1 == '':\n",
    "        player1 = d[u'player']\n",
    "        pl1.append(d)\n",
    "    else:\n",
    "        if d[u'player'] == player1:\n",
    "            pl1.append(d)\n",
    "        else:\n",
    "            pl2.append(d)\n",
    "player2 = pl2[0][u'player']"
   ]
  },
  {
   "cell_type": "code",
   "execution_count": 29,
   "metadata": {},
   "outputs": [
    {
     "data": {
      "text/plain": [
       "505"
      ]
     },
     "execution_count": 29,
     "metadata": {},
     "output_type": "execute_result"
    }
   ],
   "source": [
    "len(pl1)"
   ]
  },
  {
   "cell_type": "code",
   "execution_count": 37,
   "metadata": {},
   "outputs": [
    {
     "data": {
      "text/plain": [
       "{'time': 18524,\n",
       " 'timeup': False,\n",
       " 'valores_demogra': {'id': 'demo1',\n",
       "  'order': [0, 1, 2],\n",
       "  'forms': {'gender': {'id': 'gender',\n",
       "    'choice': '0',\n",
       "    'time': 3965,\n",
       "    'nClicks': 1,\n",
       "    'value': 'Masculino',\n",
       "    'isCorrect': True,\n",
       "    'attempts': []},\n",
       "   'age': {'id': 'age',\n",
       "    'choice': '0',\n",
       "    'time': 5573,\n",
       "    'nClicks': 1,\n",
       "    'value': '18-20',\n",
       "    'isCorrect': True,\n",
       "    'attempts': []},\n",
       "   'carreer': {'id': 'carreer',\n",
       "    'choice': '6',\n",
       "    'time': 8973,\n",
       "    'nClicks': 1,\n",
       "    'value': 'Facultad de Jurisprudencia',\n",
       "    'isCorrect': True,\n",
       "    'attempts': []}},\n",
       "  'missValues': []},\n",
       " 'valores_strat': {'id': 'demo2',\n",
       "  'order': [0],\n",
       "  'forms': {'strategy': {'id': 'strategy',\n",
       "    'choice': '2',\n",
       "    'time': 17461,\n",
       "    'nClicks': 1,\n",
       "    'value': 'aprendí a clasificar todos los perros',\n",
       "    'isCorrect': True,\n",
       "    'attempts': []}},\n",
       "  'missValues': []},\n",
       " 'done': True,\n",
       " 'player': '38174543864515',\n",
       " 'stage': {'stage': 4, 'step': 1, 'round': 1},\n",
       " 'timestamp': 1568832426793}"
      ]
     },
     "execution_count": 37,
     "metadata": {},
     "output_type": "execute_result"
    }
   ],
   "source": [
    "pl2[504]"
   ]
  },
  {
   "cell_type": "code",
   "execution_count": 7,
   "metadata": {},
   "outputs": [
    {
     "name": "stdout",
     "output_type": "stream",
     "text": [
      "{'Raza': 'terrier', 'player': '38174543864515', 'stage': {'stage': 1, 'step': 1, 'round': 1}, 'timestamp': 1568830344020}\n"
     ]
    }
   ],
   "source": [
    "print(Data[1])"
   ]
  },
  {
   "cell_type": "code",
   "execution_count": 18,
   "metadata": {},
   "outputs": [
    {
     "name": "stdout",
     "output_type": "stream",
     "text": [
      "{'Comunicacion': ['D', 'Perro4', 'Nada', 1], 'player': '38174543864515', 'stage': {'stage': 2, 'step': 1, 'round': 6}, 'timestamp': 1568831182048} 78\n",
      "{'Respuesta': ['Si', 'Perro4', '1'], 'player': '459819203408978', 'stage': {'stage': 2, 'step': 1, 'round': 6}, 'timestamp': 1568831185466} 78\n"
     ]
    }
   ],
   "source": [
    "comms = []\n",
    "resps = []\n",
    "for i in range(len(Data)):\n",
    "    llaves = list(Data[i].keys())\n",
    "    if 'Comunicacion' in llaves:\n",
    "        comms.append(i)\n",
    "    if 'Respuesta' in llaves:\n",
    "        resps.append(i)\n",
    "\n",
    "n = 10\n",
    "print(Data[comms[n]], len(comms))\n",
    "print(Data[resps[n]], len(resps))\n",
    "\n"
   ]
  },
  {
   "cell_type": "code",
   "execution_count": 19,
   "metadata": {},
   "outputs": [],
   "source": [
    "assert(len(comms) == len(resps))"
   ]
  },
  {
   "cell_type": "code",
   "execution_count": 21,
   "metadata": {},
   "outputs": [
    {
     "data": {
      "text/html": [
       "<div>\n",
       "<style scoped>\n",
       "    .dataframe tbody tr th:only-of-type {\n",
       "        vertical-align: middle;\n",
       "    }\n",
       "\n",
       "    .dataframe tbody tr th {\n",
       "        vertical-align: top;\n",
       "    }\n",
       "\n",
       "    .dataframe thead th {\n",
       "        text-align: right;\n",
       "    }\n",
       "</style>\n",
       "<table border=\"1\" class=\"dataframe\">\n",
       "  <thead>\n",
       "    <tr style=\"text-align: right;\">\n",
       "      <th></th>\n",
       "      <th>Dyad</th>\n",
       "      <th>Player</th>\n",
       "      <th>Raza</th>\n",
       "      <th>Stage</th>\n",
       "      <th>Round</th>\n",
       "      <th>Contador</th>\n",
       "      <th>Perro</th>\n",
       "      <th>Rotulo</th>\n",
       "      <th>suposicion</th>\n",
       "      <th>Recibido</th>\n",
       "      <th>Time_sent</th>\n",
       "      <th>Time_received</th>\n",
       "      <th>Kind</th>\n",
       "      <th>Correctitud</th>\n",
       "    </tr>\n",
       "  </thead>\n",
       "  <tbody>\n",
       "    <tr>\n",
       "      <th>0</th>\n",
       "      <td>45981-38174</td>\n",
       "      <td>38174543864515</td>\n",
       "      <td>terrier</td>\n",
       "      <td>2</td>\n",
       "      <td>2</td>\n",
       "      <td>1</td>\n",
       "      <td>Perro1</td>\n",
       "      <td>D</td>\n",
       "      <td>Nada</td>\n",
       "      <td>Si</td>\n",
       "      <td>1568830940132</td>\n",
       "      <td>1.568831e+12</td>\n",
       "      <td>D</td>\n",
       "      <td>1</td>\n",
       "    </tr>\n",
       "    <tr>\n",
       "      <th>1</th>\n",
       "      <td>45981-38174</td>\n",
       "      <td>38174543864515</td>\n",
       "      <td>terrier</td>\n",
       "      <td>2</td>\n",
       "      <td>2</td>\n",
       "      <td>2</td>\n",
       "      <td>Perro5</td>\n",
       "      <td>B</td>\n",
       "      <td>Nada</td>\n",
       "      <td>Si</td>\n",
       "      <td>1568830943667</td>\n",
       "      <td>1.568831e+12</td>\n",
       "      <td>B</td>\n",
       "      <td>1</td>\n",
       "    </tr>\n",
       "    <tr>\n",
       "      <th>2</th>\n",
       "      <td>45981-38174</td>\n",
       "      <td>459819203408978</td>\n",
       "      <td>hound</td>\n",
       "      <td>2</td>\n",
       "      <td>2</td>\n",
       "      <td>1</td>\n",
       "      <td>Perro4</td>\n",
       "      <td>C</td>\n",
       "      <td>Nada</td>\n",
       "      <td>Si</td>\n",
       "      <td>1568830946053</td>\n",
       "      <td>1.568831e+12</td>\n",
       "      <td>A</td>\n",
       "      <td>0</td>\n",
       "    </tr>\n",
       "    <tr>\n",
       "      <th>3</th>\n",
       "      <td>45981-38174</td>\n",
       "      <td>459819203408978</td>\n",
       "      <td>hound</td>\n",
       "      <td>2</td>\n",
       "      <td>3</td>\n",
       "      <td>1</td>\n",
       "      <td>Perro1</td>\n",
       "      <td>A</td>\n",
       "      <td>Nada</td>\n",
       "      <td>Si</td>\n",
       "      <td>1568831011210</td>\n",
       "      <td>1.568831e+12</td>\n",
       "      <td>A</td>\n",
       "      <td>1</td>\n",
       "    </tr>\n",
       "    <tr>\n",
       "      <th>4</th>\n",
       "      <td>45981-38174</td>\n",
       "      <td>459819203408978</td>\n",
       "      <td>hound</td>\n",
       "      <td>2</td>\n",
       "      <td>3</td>\n",
       "      <td>2</td>\n",
       "      <td>Perro2</td>\n",
       "      <td>C</td>\n",
       "      <td>Nada</td>\n",
       "      <td>Si</td>\n",
       "      <td>1568831021810</td>\n",
       "      <td>1.568831e+12</td>\n",
       "      <td>C</td>\n",
       "      <td>1</td>\n",
       "    </tr>\n",
       "  </tbody>\n",
       "</table>\n",
       "</div>"
      ],
      "text/plain": [
       "          Dyad           Player     Raza  Stage  Round  Contador   Perro  \\\n",
       "0  45981-38174   38174543864515  terrier      2      2         1  Perro1   \n",
       "1  45981-38174   38174543864515  terrier      2      2         2  Perro5   \n",
       "2  45981-38174  459819203408978    hound      2      2         1  Perro4   \n",
       "3  45981-38174  459819203408978    hound      2      3         1  Perro1   \n",
       "4  45981-38174  459819203408978    hound      2      3         2  Perro2   \n",
       "\n",
       "  Rotulo suposicion Recibido      Time_sent  Time_received Kind  Correctitud  \n",
       "0      D       Nada       Si  1568830940132   1.568831e+12    D            1  \n",
       "1      B       Nada       Si  1568830943667   1.568831e+12    B            1  \n",
       "2      C       Nada       Si  1568830946053   1.568831e+12    A            0  \n",
       "3      A       Nada       Si  1568831011210   1.568831e+12    A            1  \n",
       "4      C       Nada       Si  1568831021810   1.568831e+12    C            1  "
      ]
     },
     "execution_count": 21,
     "metadata": {},
     "output_type": "execute_result"
    }
   ],
   "source": [
    "df = pd.read_csv('comunicacion.csv')\n",
    "df.head()"
   ]
  },
  {
   "cell_type": "code",
   "execution_count": 22,
   "metadata": {},
   "outputs": [],
   "source": [
    "df['Espera'] = df['Time_received'] - df['Time_sent']"
   ]
  },
  {
   "cell_type": "code",
   "execution_count": 35,
   "metadata": {},
   "outputs": [
    {
     "data": {
      "text/html": [
       "<div>\n",
       "<style scoped>\n",
       "    .dataframe tbody tr th:only-of-type {\n",
       "        vertical-align: middle;\n",
       "    }\n",
       "\n",
       "    .dataframe tbody tr th {\n",
       "        vertical-align: top;\n",
       "    }\n",
       "\n",
       "    .dataframe thead th {\n",
       "        text-align: right;\n",
       "    }\n",
       "</style>\n",
       "<table border=\"1\" class=\"dataframe\">\n",
       "  <thead>\n",
       "    <tr style=\"text-align: right;\">\n",
       "      <th></th>\n",
       "      <th>Dyad</th>\n",
       "      <th>Player</th>\n",
       "      <th>Round</th>\n",
       "      <th>Espera</th>\n",
       "      <th>Contador</th>\n",
       "      <th>Query_next</th>\n",
       "      <th>Shift</th>\n",
       "    </tr>\n",
       "  </thead>\n",
       "  <tbody>\n",
       "    <tr>\n",
       "      <th>0</th>\n",
       "      <td>12379-51238</td>\n",
       "      <td>123795257479166</td>\n",
       "      <td>1</td>\n",
       "      <td>19167.5</td>\n",
       "      <td>2</td>\n",
       "      <td>2.0</td>\n",
       "      <td>0.0</td>\n",
       "    </tr>\n",
       "    <tr>\n",
       "      <th>1</th>\n",
       "      <td>12379-51238</td>\n",
       "      <td>123795257479166</td>\n",
       "      <td>2</td>\n",
       "      <td>12793.0</td>\n",
       "      <td>2</td>\n",
       "      <td>2.0</td>\n",
       "      <td>0.0</td>\n",
       "    </tr>\n",
       "    <tr>\n",
       "      <th>2</th>\n",
       "      <td>12379-51238</td>\n",
       "      <td>123795257479166</td>\n",
       "      <td>3</td>\n",
       "      <td>21501.5</td>\n",
       "      <td>2</td>\n",
       "      <td>3.0</td>\n",
       "      <td>1.0</td>\n",
       "    </tr>\n",
       "    <tr>\n",
       "      <th>3</th>\n",
       "      <td>12379-51238</td>\n",
       "      <td>123795257479166</td>\n",
       "      <td>4</td>\n",
       "      <td>6298.0</td>\n",
       "      <td>3</td>\n",
       "      <td>1.0</td>\n",
       "      <td>-2.0</td>\n",
       "    </tr>\n",
       "    <tr>\n",
       "      <th>4</th>\n",
       "      <td>12379-51238</td>\n",
       "      <td>123795257479166</td>\n",
       "      <td>6</td>\n",
       "      <td>8347.0</td>\n",
       "      <td>1</td>\n",
       "      <td>1.0</td>\n",
       "      <td>0.0</td>\n",
       "    </tr>\n",
       "  </tbody>\n",
       "</table>\n",
       "</div>"
      ],
      "text/plain": [
       "          Dyad           Player  Round   Espera  Contador  Query_next  Shift\n",
       "0  12379-51238  123795257479166      1  19167.5         2         2.0    0.0\n",
       "1  12379-51238  123795257479166      2  12793.0         2         2.0    0.0\n",
       "2  12379-51238  123795257479166      3  21501.5         2         3.0    1.0\n",
       "3  12379-51238  123795257479166      4   6298.0         3         1.0   -2.0\n",
       "4  12379-51238  123795257479166      6   8347.0         1         1.0    0.0"
      ]
     },
     "execution_count": 35,
     "metadata": {},
     "output_type": "execute_result"
    }
   ],
   "source": [
    "df1 = df.groupby(['Dyad','Player','Round']).agg({'Espera':'mean', 'Contador':'max'}).reset_index()\n",
    "df1['Query_next'] = df1.groupby(['Dyad','Player'])['Contador'].shift(-1)\n",
    "df1['Shift'] = df1['Query_next'] - df1['Contador']\n",
    "df1.head()"
   ]
  },
  {
   "cell_type": "code",
   "execution_count": 37,
   "metadata": {},
   "outputs": [
    {
     "data": {
      "text/plain": [
       "<AxesSubplot:xlabel='Espera', ylabel='Shift'>"
      ]
     },
     "execution_count": 37,
     "metadata": {},
     "output_type": "execute_result"
    },
    {
     "data": {
      "image/png": "[encoded data removed]",
      "text/plain": [
       "<Figure size 432x288 with 1 Axes>"
      ]
     },
     "metadata": {
      "needs_background": "light"
     },
     "output_type": "display_data"
    }
   ],
   "source": [
    "sns.regplot(x='Espera',y='Shift',data=df1)"
   ]
  }
 ],
 "metadata": {
  "kernelspec": {
   "display_name": "Python 3",
   "language": "python",
   "name": "python3"
  },
  "language_info": {
   "codemirror_mode": {
    "name": "ipython",
    "version": 3
   },
   "file_extension": ".py",
   "mimetype": "text/x-python",
   "name": "python",
   "nbconvert_exporter": "python",
   "pygments_lexer": "ipython3",
   "version": "3.9.7"
  }
 },
 "nbformat": 4,
 "nbformat_minor": 4
}
