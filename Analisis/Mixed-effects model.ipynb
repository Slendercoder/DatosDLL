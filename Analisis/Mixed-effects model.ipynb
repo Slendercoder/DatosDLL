{
 "cells": [
  {
   "cell_type": "code",
   "execution_count": 12,
   "metadata": {},
   "outputs": [],
   "source": [
    "import pandas as pd\n",
    "import researchpy as rp\n",
    "import matplotlib.pyplot as plt\n",
    "from matplotlib.gridspec import GridSpec\n",
    "import seaborn as sns\n",
    "import numpy as np\n",
    "import statsmodels.api as sm\n",
    "from statsmodels.formula.api import ols\n",
    "import statsmodels.formula.api as smf\n",
    "from statsmodels.genmod.bayes_mixed_glm import BinomialBayesMixedGLM\n",
    "from scipy import stats\n",
    "import scipy.stats.distributions as dist"
   ]
  },
  {
   "cell_type": "code",
   "execution_count": 13,
   "metadata": {},
   "outputs": [],
   "source": [
    "def filter_variables(df, dict_variables) :\n",
    "    inicial = True\n",
    "    for key in dict_variables.keys() :\n",
    "        if type(dict_variables[key]) == str:\n",
    "            if inicial :\n",
    "                filtro = f\"({key}\\'{dict_variables[key]}\\')\"\n",
    "                inicial = False\n",
    "            else:\n",
    "                filtro = filtro + f\" and ({key}\\'{dict_variables[key]}\\')\"\n",
    "        else:\n",
    "            if inicial :\n",
    "                filtro = f\"({key}{dict_variables[key]})\"\n",
    "                inicial = False\n",
    "            else:\n",
    "                filtro = filtro + f\" and ({key}{dict_variables[key]})\"\n",
    "\n",
    "    return pd.DataFrame(df.query(filtro))"
   ]
  },
  {
   "cell_type": "code",
   "execution_count": 14,
   "metadata": {},
   "outputs": [],
   "source": [
    "data = pd.read_csv('performances.csv')\n",
    "data = filter_variables(data,{\n",
    "    'stage==':'Training rounds'\n",
    "})\n",
    "data = data.groupby(['treatment','player','round'])['accuracy'].mean().reset_index()\n"
   ]
  },
  {
   "cell_type": "code",
   "execution_count": 15,
   "metadata": {},
   "outputs": [
    {
     "name": "stdout",
     "output_type": "stream",
     "text": [
      "<class 'pandas.core.frame.DataFrame'>\n",
      "RangeIndex: 2070 entries, 0 to 2069\n",
      "Data columns (total 4 columns):\n",
      " #   Column     Non-Null Count  Dtype  \n",
      "---  ------     --------------  -----  \n",
      " 0   treatment  2070 non-null   object \n",
      " 1   player     2070 non-null   int64  \n",
      " 2   round      2070 non-null   int64  \n",
      " 3   accuracy   2070 non-null   float64\n",
      "dtypes: float64(1), int64(2), object(1)\n",
      "memory usage: 64.8+ KB\n"
     ]
    }
   ],
   "source": [
    "data.info()"
   ]
  },
  {
   "cell_type": "code",
   "execution_count": 16,
   "metadata": {},
   "outputs": [
    {
     "name": "stdout",
     "output_type": "stream",
     "text": [
      "\n",
      "\n"
     ]
    },
    {
     "data": {
      "text/html": [
       "<div>\n",
       "<style scoped>\n",
       "    .dataframe tbody tr th:only-of-type {\n",
       "        vertical-align: middle;\n",
       "    }\n",
       "\n",
       "    .dataframe tbody tr th {\n",
       "        vertical-align: top;\n",
       "    }\n",
       "\n",
       "    .dataframe thead th {\n",
       "        text-align: right;\n",
       "    }\n",
       "</style>\n",
       "<table border=\"1\" class=\"dataframe\">\n",
       "  <thead>\n",
       "    <tr style=\"text-align: right;\">\n",
       "      <th></th>\n",
       "      <th>N</th>\n",
       "      <th>Mean</th>\n",
       "      <th>SD</th>\n",
       "      <th>SE</th>\n",
       "      <th>95% Conf.</th>\n",
       "      <th>Interval</th>\n",
       "    </tr>\n",
       "    <tr>\n",
       "      <th>treatment</th>\n",
       "      <th></th>\n",
       "      <th></th>\n",
       "      <th></th>\n",
       "      <th></th>\n",
       "      <th></th>\n",
       "      <th></th>\n",
       "    </tr>\n",
       "  </thead>\n",
       "  <tbody>\n",
       "    <tr>\n",
       "      <th>dyad</th>\n",
       "      <td>979</td>\n",
       "      <td>0.9213</td>\n",
       "      <td>0.1615</td>\n",
       "      <td>0.0052</td>\n",
       "      <td>0.9112</td>\n",
       "      <td>0.9315</td>\n",
       "    </tr>\n",
       "    <tr>\n",
       "      <th>single</th>\n",
       "      <td>1091</td>\n",
       "      <td>0.8840</td>\n",
       "      <td>0.1908</td>\n",
       "      <td>0.0058</td>\n",
       "      <td>0.8726</td>\n",
       "      <td>0.8953</td>\n",
       "    </tr>\n",
       "  </tbody>\n",
       "</table>\n",
       "</div>"
      ],
      "text/plain": [
       "              N    Mean      SD      SE  95% Conf.  Interval\n",
       "treatment                                                   \n",
       "dyad        979  0.9213  0.1615  0.0052     0.9112    0.9315\n",
       "single     1091  0.8840  0.1908  0.0058     0.8726    0.8953"
      ]
     },
     "execution_count": 16,
     "metadata": {},
     "output_type": "execute_result"
    }
   ],
   "source": [
    "rp.summary_cont(data.groupby(['treatment'])['accuracy'])"
   ]
  },
  {
   "cell_type": "code",
   "execution_count": 17,
   "metadata": {},
   "outputs": [
    {
     "data": {
      "text/plain": [
       "Text(0, 0.5, 'Accuracy')"
      ]
     },
     "execution_count": 17,
     "metadata": {},
     "output_type": "execute_result"
    },
    {
     "data": {
      "image/png": "[encoded data removed]",
      "text/plain": [
       "<Figure size 1152x648 with 1 Axes>"
      ]
     },
     "metadata": {
      "needs_background": "light"
     },
     "output_type": "display_data"
    }
   ],
   "source": [
    "boxplot = data.boxplot([\"accuracy\"], by = [\"treatment\",'round'],\n",
    "                     figsize = (16, 9),\n",
    "                     showmeans = True,\n",
    "                     notch = True)\n",
    "\n",
    "boxplot.set_xlabel(\"Categories\")\n",
    "boxplot.set_ylabel(\"Accuracy\")"
   ]
  },
  {
   "cell_type": "code",
   "execution_count": 33,
   "metadata": {},
   "outputs": [
    {
     "ename": "ValueError",
     "evalue": "ident must be a one-dimensional array",
     "output_type": "error",
     "traceback": [
      "\u001b[0;31m---------------------------------------------------------------------------\u001b[0m",
      "\u001b[0;31mValueError\u001b[0m                                Traceback (most recent call last)",
      "\u001b[0;32m<ipython-input-33-aced340c7cee>\u001b[0m in \u001b[0;36m<module>\u001b[0;34m\u001b[0m\n\u001b[0;32m----> 1\u001b[0;31m model = BinomialBayesMixedGLM(\n\u001b[0m\u001b[1;32m      2\u001b[0m     \u001b[0mendog\u001b[0m\u001b[0;34m=\u001b[0m\u001b[0mdata\u001b[0m\u001b[0;34m[\u001b[0m\u001b[0;34m'accuracy'\u001b[0m\u001b[0;34m]\u001b[0m\u001b[0;34m,\u001b[0m\u001b[0;34m\u001b[0m\u001b[0;34m\u001b[0m\u001b[0m\n\u001b[1;32m      3\u001b[0m     \u001b[0mexog\u001b[0m\u001b[0;34m=\u001b[0m\u001b[0mdata\u001b[0m\u001b[0;34m[\u001b[0m\u001b[0;34m'treatment'\u001b[0m\u001b[0;34m]\u001b[0m\u001b[0;34m,\u001b[0m\u001b[0;34m\u001b[0m\u001b[0;34m\u001b[0m\u001b[0m\n\u001b[1;32m      4\u001b[0m     \u001b[0mexog_vc\u001b[0m\u001b[0;34m=\u001b[0m\u001b[0mdata\u001b[0m\u001b[0;34m[\u001b[0m\u001b[0;34m'round'\u001b[0m\u001b[0;34m]\u001b[0m\u001b[0;34m,\u001b[0m\u001b[0;34m\u001b[0m\u001b[0;34m\u001b[0m\u001b[0m\n\u001b[1;32m      5\u001b[0m     \u001b[0mident\u001b[0m\u001b[0;34m=\u001b[0m\u001b[0;34m{\u001b[0m\u001b[0;34m'0'\u001b[0m\u001b[0;34m:\u001b[0m\u001b[0;34m'0 + round'\u001b[0m\u001b[0;34m}\u001b[0m\u001b[0;34m\u001b[0m\u001b[0;34m\u001b[0m\u001b[0m\n",
      "\u001b[0;32m/usr/local/lib/python3.9/site-packages/statsmodels/genmod/bayes_mixed_glm.py\u001b[0m in \u001b[0;36m__init__\u001b[0;34m(self, endog, exog, exog_vc, ident, vcp_p, fe_p, fep_names, vcp_names, vc_names)\u001b[0m\n\u001b[1;32m   1018\u001b[0m                  vc_names=None):\n\u001b[1;32m   1019\u001b[0m \u001b[0;34m\u001b[0m\u001b[0m\n\u001b[0;32m-> 1020\u001b[0;31m         super(BinomialBayesMixedGLM, self).__init__(\n\u001b[0m\u001b[1;32m   1021\u001b[0m             \u001b[0mendog\u001b[0m\u001b[0;34m,\u001b[0m\u001b[0;34m\u001b[0m\u001b[0;34m\u001b[0m\u001b[0m\n\u001b[1;32m   1022\u001b[0m             \u001b[0mexog\u001b[0m\u001b[0;34m,\u001b[0m\u001b[0;34m\u001b[0m\u001b[0;34m\u001b[0m\u001b[0m\n",
      "\u001b[0;32m/usr/local/lib/python3.9/site-packages/statsmodels/genmod/bayes_mixed_glm.py\u001b[0m in \u001b[0;36m__init__\u001b[0;34m(self, endog, exog, exog_vc, ident, family, vcp_p, fe_p, fep_names, vcp_names, vc_names, **kwargs)\u001b[0m\n\u001b[1;32m    224\u001b[0m         \u001b[0;32mif\u001b[0m \u001b[0mident\u001b[0m\u001b[0;34m.\u001b[0m\u001b[0mndim\u001b[0m \u001b[0;34m!=\u001b[0m \u001b[0;36m1\u001b[0m\u001b[0;34m:\u001b[0m\u001b[0;34m\u001b[0m\u001b[0;34m\u001b[0m\u001b[0m\n\u001b[1;32m    225\u001b[0m             \u001b[0mmsg\u001b[0m \u001b[0;34m=\u001b[0m \u001b[0;34m\"ident must be a one-dimensional array\"\u001b[0m\u001b[0;34m\u001b[0m\u001b[0;34m\u001b[0m\u001b[0m\n\u001b[0;32m--> 226\u001b[0;31m             \u001b[0;32mraise\u001b[0m \u001b[0mValueError\u001b[0m\u001b[0;34m(\u001b[0m\u001b[0mmsg\u001b[0m\u001b[0;34m)\u001b[0m\u001b[0;34m\u001b[0m\u001b[0;34m\u001b[0m\u001b[0m\n\u001b[0m\u001b[1;32m    227\u001b[0m \u001b[0;34m\u001b[0m\u001b[0m\n\u001b[1;32m    228\u001b[0m         \u001b[0;32mif\u001b[0m \u001b[0mlen\u001b[0m\u001b[0;34m(\u001b[0m\u001b[0mident\u001b[0m\u001b[0;34m)\u001b[0m \u001b[0;34m!=\u001b[0m \u001b[0mexog_vc\u001b[0m\u001b[0;34m.\u001b[0m\u001b[0mshape\u001b[0m\u001b[0;34m[\u001b[0m\u001b[0;36m1\u001b[0m\u001b[0;34m]\u001b[0m\u001b[0;34m:\u001b[0m\u001b[0;34m\u001b[0m\u001b[0;34m\u001b[0m\u001b[0m\n",
      "\u001b[0;31mValueError\u001b[0m: ident must be a one-dimensional array"
     ]
    }
   ],
   "source": [
    "model = BinomialBayesMixedGLM(\n",
    "    endog=data['accuracy'],\n",
    "    exog=data['treatment'],\n",
    "    exog_vc=data['round'],\n",
    "    ident={'0':'0 + round'}\n",
    ")\n",
    "result = model.fit_vb()"
   ]
  },
  {
   "cell_type": "code",
   "execution_count": null,
   "metadata": {},
   "outputs": [],
   "source": [
    "model = smf.mixedlm('accuracy ~ C(treatment)',\n",
    "                    data,\n",
    "                    groups='round').fit()\n",
    "\n",
    "model.summary()"
   ]
  },
  {
   "cell_type": "code",
   "execution_count": null,
   "metadata": {},
   "outputs": [],
   "source": [
    "fig = plt.figure(figsize = (16, 9))\n",
    "\n",
    "ax = sns.distplot(model.resid, hist = False, kde_kws = {\"shade\" : True, \"lw\": 1}, fit = stats.norm)\n",
    "\n",
    "ax.set_title(\"KDE Plot of Model Residuals (Blue) and Normal Distribution (Black)\")\n",
    "ax.set_xlabel(\"Residuals\")"
   ]
  },
  {
   "cell_type": "code",
   "execution_count": null,
   "metadata": {},
   "outputs": [],
   "source": [
    "## Q-Q PLot\n",
    "\n",
    "fig = plt.figure(figsize = (16, 9))\n",
    "ax = fig.add_subplot(111)\n",
    "\n",
    "sm.qqplot(model.resid, dist = stats.norm, line = 's', ax = ax)\n",
    "\n",
    "ax.set_title(\"Q-Q Plot\")"
   ]
  },
  {
   "cell_type": "code",
   "execution_count": null,
   "metadata": {},
   "outputs": [],
   "source": [
    "labels = [\"Statistic\", \"p-value\"]\n",
    "\n",
    "norm_res = stats.shapiro(model.resid)\n",
    "\n",
    "for key, val in dict(zip(labels, norm_res)).items():\n",
    "    print(key, val)"
   ]
  },
  {
   "cell_type": "code",
   "execution_count": null,
   "metadata": {},
   "outputs": [],
   "source": [
    "fig = plt.figure(figsize = (16, 9))\n",
    "\n",
    "ax = sns.scatterplot(y = model.resid, x = model.fittedvalues)\n",
    "\n",
    "ax.set_title(\"RVF Plot\")\n",
    "ax.set_xlabel(\"Fitted Values\")\n",
    "ax.set_ylabel(\"Residuals\")"
   ]
  },
  {
   "cell_type": "code",
   "execution_count": null,
   "metadata": {},
   "outputs": [],
   "source": [
    "fig = plt.figure(figsize = (16, 9))\n",
    "\n",
    "ax = sns.boxplot(x = model.model.groups, y = model.resid)\n",
    "\n",
    "ax.set_title(\"Distribution of Residuals for Weight by Litter\")\n",
    "ax.set_ylabel(\"Residuals\")\n",
    "ax.set_xlabel(\"Litter\")"
   ]
  },
  {
   "cell_type": "code",
   "execution_count": null,
   "metadata": {},
   "outputs": [],
   "source": [
    "from statsmodels.stats.diagnostic import het_white\n",
    "\n",
    "het_white_res = het_white(model.resid, model.model.exog)\n",
    "\n",
    "labels = [\"LM Statistic\", \"LM-Test p-value\", \"F-Statistic\", \"F-Test p-value\"]\n",
    "\n",
    "for key, val in dict(zip(labels, het_white_res)).items():\n",
    "    print(key, val)"
   ]
  },
  {
   "cell_type": "code",
   "execution_count": null,
   "metadata": {},
   "outputs": [],
   "source": []
  }
 ],
 "metadata": {
  "kernelspec": {
   "display_name": "Python 3",
   "language": "python",
   "name": "python3"
  },
  "language_info": {
   "codemirror_mode": {
    "name": "ipython",
    "version": 3
   },
   "file_extension": ".py",
   "mimetype": "text/x-python",
   "name": "python",
   "nbconvert_exporter": "python",
   "pygments_lexer": "ipython3",
   "version": "3.9.7"
  }
 },
 "nbformat": 4,
 "nbformat_minor": 4
}
