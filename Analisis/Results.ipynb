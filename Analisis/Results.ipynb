{
 "cells": [
  {
   "cell_type": "markdown",
   "metadata": {},
   "source": [
    "# Data analysis of the \"Classifying dog breeds\" experiment\n",
    "\n",
    "\n",
    "### Table of contents\n",
    "\n",
    "1. [Project description](#description)\n",
    "2. [Protocol](#protocol)\n",
    "3. [Datasets](#datasets)\n",
    "4. [Helper functions](#helper)\n",
    "5. [Statistical tests](#tests)\n",
    "6. [Figures](#figures)\n",
    "\n",
    "### Project description <a class=\"anchor\" id=\"description\"></a>\n",
    "\n",
    "Principal Investigator / Contact person: Edgar J. Andrade-Lotero, Universidad del Rosario, Bogota, Colombia,  edgar.andrade@urosario.edu.co\n",
    "\n",
    "In collaboration with: Robert L. Goldstone, Indiana University, Bloomington, Indiana, USA, rgoldsto@indiana.edu\n",
    "\n",
    "In collaboration with: Javier Alejandro Velazco Garcia, Universidad del Rosario, Bogota, Colombia, javier.velasco8@gmail.com\n",
    "\n",
    "In collaboration with: Julián Marcel Ortiz Duque, Independent Scholar, Bogota, Colombia, ortizd.julianUR@gmail.com\n",
    "\n",
    "Publications using these data:\n",
    "\n",
    "[1] Andrade-Lotero, E., & Goldstone, R. L., & Ortiz-Duque, J. M., & Velazco-Garcia, J. A. (2021). *The Division of Linguistic Labor as a Form of Cognitive Offloading*. In preparation.\n",
    "\n",
    "### Protocol <a class=\"anchor\" id=\"protocol\"></a>\n",
    "\n",
    "A thorough presentation of the *Classifying dog breeds* protocol can be found in the protocols repository https://www.protocols.io/view/classifying-dog-breeds-bvm6n49e. The task was implemented in the nodeGame platform (https://nodegame.org/). The code implementing the game is freely available. The paired condition can be downloaded from https://github.com/Slendercoder/DLL and the solo condition can be downloaded from https://github.com/Slendercoder/DLL_single. In both cases, the interface is in Spanish.\n",
    "\n",
    "\n",
    "### Datasets <a class=\"anchor\" id=\"datasets\"></a>\n",
    "\n",
    "Datasets described here:\n",
    "- performances.csv\n",
    "- rep-understanding.csv\n",
    "\n",
    "=======================\n",
    "\n",
    "Filename: performances.csv\n",
    "\n",
    "Location: https://github.com/EAndrade-Lotero/SPUoDLL/blob/master/performances.csv\n",
    "\n",
    "Behavioral data of 20 dyads playing the \"Classifying dog breeds\" experiment in the paired condition and 44 individuals playing the solo condition (see https://www.protocols.io/edit/classifying-dog-breeds-bvm6n49e). Data was obtained from raw json files output from nodeGame and processed into a single dataframe.\n",
    "\n",
    "Date of data collection: From 09/16/2019 to 09/23/2019.\n",
    "\n",
    "Method of data collection: nodeGame platform. Freely available at: https://github.com/Slendercoder/DLL (paired condition; Spanish interface) and at: https://github.com/Slendercoder/DLL_single (solo condition; Spanish interface).\n",
    "\n",
    "Methods of data processing: Dataset generated from raw data via python scripts to create a single csv from multiple json output from nodeGame.\n",
    "\n",
    "Number of variables: 17\n",
    "\n",
    "Number of rows: 20735\n",
    "\n",
    "Variables:\n",
    "1. treatment: single or dyad.\n",
    "2. stage: experiment's stage (training or game).\n",
    "3. dyad: dyad's name.\n",
    "4. player: player's id.\n",
    "5. expert_in: refers to the kind of dog  (terriers or hounds) on which the player trained during training rounds.\n",
    "6. novice_in: refers to the kind of dog  (terriers or hounds) on which the player did not train during the training rounds.\n",
    "7. round: round of the respective stage.\n",
    "8. object: refers to the particular dog, referred to by the image's file name.\n",
    "9. position: refers to the frame (1,2,...,5) on which this dog's image was shown. \n",
    "10. kind: dog's kind.\n",
    "11. classif: refers to the label the player used to classify the dog.\n",
    "12. accuracy: whether classification was correct (0=incorrect/1=correct).\n",
    "13. expert_dog: whether dog is from a breed on which subject received training (true, false or NaN if stage is training round).\n",
    "14. queried: number of times the player asked partner about dog (NaN if no query was made or if player belongs to treatment==single).\n",
    "15. answered: proportion of times query was answered by partner.\n",
    "16. answer_correct: whether partner's answer was correct or not (0=incorrect/1=correct).\n",
    "17. Yes/No: proportion of 'Yes' answers by partner.\n",
    "\n",
    "=======================\n",
    "\n",
    "Filename: rep-understanding.csv\n",
    "\n",
    "Location: https://github.com/EAndrade-Lotero/SPUoDLL/blob/master/rep-understanding.csv\n",
    "\n",
    "Self-understanding reports from each participant for each dog breed, obtained at the end of the \"Classifying dog breeds\" experiment.\n",
    "\n",
    "Date of data collection: From 09/16/2019 to 09/23/2019.\n",
    "\n",
    "Method of data collection: nodeGame platform.\n",
    "\n",
    "Methods of data processing: Dataset generated from raw data via a python script to create a single csv from multiple json output from nodeGame.\n",
    "\n",
    "Number of variables: 9\n",
    "\n",
    "Number of rows: 336\n",
    "\n",
    "Variables:\n",
    "1. treatment: single or dyad.\n",
    "2. player: player's id.\n",
    "3. kind: the dog's kind.\n",
    "4. expertise: whether the player was trained on this kind of dog or not (experts or novices).\n",
    "5. report: player's reported understanding score on this kind of dog.\n",
    "6. accuracy: mean accuracy over game rounds on this kind of dog.\n",
    "7. query: proportion of times the player queried their partner on this kind of dog.\n",
    "8. answered: proportion of times queries on this kind of dog were answered by partner.\n",
    "9. player_responded: proportion of times player responded to queries on this kind of dog.\n"
   ]
  },
  {
   "cell_type": "code",
   "execution_count": 2,
   "metadata": {},
   "outputs": [],
   "source": [
    "import pandas as pd\n",
    "import matplotlib.pyplot as plt\n",
    "from matplotlib.gridspec import GridSpec\n",
    "import seaborn as sns\n",
    "import numpy as np\n",
    "#from statsmodels.formula.api import ols\n",
    "from scipy import stats\n",
    "import scipy.stats.distributions as dist"
   ]
  },
  {
   "cell_type": "code",
   "execution_count": 3,
   "metadata": {},
   "outputs": [
    {
     "data": {
      "text/plain": [
       "(20735, 17)"
      ]
     },
     "execution_count": 3,
     "metadata": {},
     "output_type": "execute_result"
    }
   ],
   "source": [
    "data = pd.read_csv('performances.csv')\n",
    "data.shape"
   ]
  },
  {
   "cell_type": "code",
   "execution_count": 4,
   "metadata": {},
   "outputs": [
    {
     "data": {
      "text/html": [
       "<div>\n",
       "<style scoped>\n",
       "    .dataframe tbody tr th:only-of-type {\n",
       "        vertical-align: middle;\n",
       "    }\n",
       "\n",
       "    .dataframe tbody tr th {\n",
       "        vertical-align: top;\n",
       "    }\n",
       "\n",
       "    .dataframe thead th {\n",
       "        text-align: right;\n",
       "    }\n",
       "</style>\n",
       "<table border=\"1\" class=\"dataframe\">\n",
       "  <thead>\n",
       "    <tr style=\"text-align: right;\">\n",
       "      <th></th>\n",
       "      <th>treatment</th>\n",
       "      <th>stage</th>\n",
       "      <th>dyad</th>\n",
       "      <th>player</th>\n",
       "      <th>expert_in</th>\n",
       "      <th>novice_in</th>\n",
       "      <th>round</th>\n",
       "      <th>object</th>\n",
       "      <th>position</th>\n",
       "      <th>kind</th>\n",
       "      <th>classif</th>\n",
       "      <th>accuracy</th>\n",
       "      <th>expert_dog</th>\n",
       "      <th>queried</th>\n",
       "      <th>answer_correct</th>\n",
       "      <th>answered</th>\n",
       "      <th>yes/no</th>\n",
       "    </tr>\n",
       "  </thead>\n",
       "  <tbody>\n",
       "    <tr>\n",
       "      <th>0</th>\n",
       "      <td>solo</td>\n",
       "      <td>Training rounds</td>\n",
       "      <td>32519-32519</td>\n",
       "      <td>325192931513079</td>\n",
       "      <td>terrier</td>\n",
       "      <td>hound</td>\n",
       "      <td>1</td>\n",
       "      <td>C11.jpg</td>\n",
       "      <td>frame1</td>\n",
       "      <td>C</td>\n",
       "      <td>C</td>\n",
       "      <td>1</td>\n",
       "      <td>True</td>\n",
       "      <td>NaN</td>\n",
       "      <td>NaN</td>\n",
       "      <td>NaN</td>\n",
       "      <td>NaN</td>\n",
       "    </tr>\n",
       "    <tr>\n",
       "      <th>1</th>\n",
       "      <td>solo</td>\n",
       "      <td>Training rounds</td>\n",
       "      <td>32519-32519</td>\n",
       "      <td>325192931513079</td>\n",
       "      <td>terrier</td>\n",
       "      <td>hound</td>\n",
       "      <td>1</td>\n",
       "      <td>A1.jpg</td>\n",
       "      <td>frame2</td>\n",
       "      <td>A</td>\n",
       "      <td>C</td>\n",
       "      <td>0</td>\n",
       "      <td>True</td>\n",
       "      <td>NaN</td>\n",
       "      <td>NaN</td>\n",
       "      <td>NaN</td>\n",
       "      <td>NaN</td>\n",
       "    </tr>\n",
       "    <tr>\n",
       "      <th>2</th>\n",
       "      <td>solo</td>\n",
       "      <td>Training rounds</td>\n",
       "      <td>32519-32519</td>\n",
       "      <td>325192931513079</td>\n",
       "      <td>terrier</td>\n",
       "      <td>hound</td>\n",
       "      <td>1</td>\n",
       "      <td>A7.jpg</td>\n",
       "      <td>frame3</td>\n",
       "      <td>A</td>\n",
       "      <td>A</td>\n",
       "      <td>1</td>\n",
       "      <td>True</td>\n",
       "      <td>NaN</td>\n",
       "      <td>NaN</td>\n",
       "      <td>NaN</td>\n",
       "      <td>NaN</td>\n",
       "    </tr>\n",
       "    <tr>\n",
       "      <th>3</th>\n",
       "      <td>solo</td>\n",
       "      <td>Training rounds</td>\n",
       "      <td>32519-32519</td>\n",
       "      <td>325192931513079</td>\n",
       "      <td>terrier</td>\n",
       "      <td>hound</td>\n",
       "      <td>1</td>\n",
       "      <td>A6.jpg</td>\n",
       "      <td>frame4</td>\n",
       "      <td>A</td>\n",
       "      <td>A</td>\n",
       "      <td>1</td>\n",
       "      <td>True</td>\n",
       "      <td>NaN</td>\n",
       "      <td>NaN</td>\n",
       "      <td>NaN</td>\n",
       "      <td>NaN</td>\n",
       "    </tr>\n",
       "    <tr>\n",
       "      <th>4</th>\n",
       "      <td>solo</td>\n",
       "      <td>Training rounds</td>\n",
       "      <td>32519-32519</td>\n",
       "      <td>325192931513079</td>\n",
       "      <td>terrier</td>\n",
       "      <td>hound</td>\n",
       "      <td>1</td>\n",
       "      <td>A5.jpg</td>\n",
       "      <td>frame5</td>\n",
       "      <td>A</td>\n",
       "      <td>A</td>\n",
       "      <td>1</td>\n",
       "      <td>True</td>\n",
       "      <td>NaN</td>\n",
       "      <td>NaN</td>\n",
       "      <td>NaN</td>\n",
       "      <td>NaN</td>\n",
       "    </tr>\n",
       "  </tbody>\n",
       "</table>\n",
       "</div>"
      ],
      "text/plain": [
       "  treatment            stage         dyad           player expert_in  \\\n",
       "0      solo  Training rounds  32519-32519  325192931513079   terrier   \n",
       "1      solo  Training rounds  32519-32519  325192931513079   terrier   \n",
       "2      solo  Training rounds  32519-32519  325192931513079   terrier   \n",
       "3      solo  Training rounds  32519-32519  325192931513079   terrier   \n",
       "4      solo  Training rounds  32519-32519  325192931513079   terrier   \n",
       "\n",
       "  novice_in  round   object position kind classif  accuracy  expert_dog  \\\n",
       "0     hound      1  C11.jpg   frame1    C       C         1        True   \n",
       "1     hound      1   A1.jpg   frame2    A       C         0        True   \n",
       "2     hound      1   A7.jpg   frame3    A       A         1        True   \n",
       "3     hound      1   A6.jpg   frame4    A       A         1        True   \n",
       "4     hound      1   A5.jpg   frame5    A       A         1        True   \n",
       "\n",
       "   queried  answer_correct  answered  yes/no  \n",
       "0      NaN             NaN       NaN     NaN  \n",
       "1      NaN             NaN       NaN     NaN  \n",
       "2      NaN             NaN       NaN     NaN  \n",
       "3      NaN             NaN       NaN     NaN  \n",
       "4      NaN             NaN       NaN     NaN  "
      ]
     },
     "execution_count": 4,
     "metadata": {},
     "output_type": "execute_result"
    }
   ],
   "source": [
    "data.head()"
   ]
  },
  {
   "cell_type": "code",
   "execution_count": 5,
   "metadata": {},
   "outputs": [
    {
     "data": {
      "text/plain": [
       "(336, 9)"
      ]
     },
     "execution_count": 5,
     "metadata": {},
     "output_type": "execute_result"
    }
   ],
   "source": [
    "report_understanding = pd.read_csv('rep-understanding.csv')\n",
    "report_understanding.shape"
   ]
  },
  {
   "cell_type": "code",
   "execution_count": 6,
   "metadata": {},
   "outputs": [
    {
     "data": {
      "text/html": [
       "<div>\n",
       "<style scoped>\n",
       "    .dataframe tbody tr th:only-of-type {\n",
       "        vertical-align: middle;\n",
       "    }\n",
       "\n",
       "    .dataframe tbody tr th {\n",
       "        vertical-align: top;\n",
       "    }\n",
       "\n",
       "    .dataframe thead th {\n",
       "        text-align: right;\n",
       "    }\n",
       "</style>\n",
       "<table border=\"1\" class=\"dataframe\">\n",
       "  <thead>\n",
       "    <tr style=\"text-align: right;\">\n",
       "      <th></th>\n",
       "      <th>treatment</th>\n",
       "      <th>player</th>\n",
       "      <th>kind</th>\n",
       "      <th>expertise</th>\n",
       "      <th>report</th>\n",
       "      <th>accuracy</th>\n",
       "      <th>queried</th>\n",
       "      <th>answered</th>\n",
       "      <th>player_responded</th>\n",
       "    </tr>\n",
       "  </thead>\n",
       "  <tbody>\n",
       "    <tr>\n",
       "      <th>0</th>\n",
       "      <td>paired</td>\n",
       "      <td>21409433577947</td>\n",
       "      <td>A</td>\n",
       "      <td>experts</td>\n",
       "      <td>7.0</td>\n",
       "      <td>0.931034</td>\n",
       "      <td>0.022472</td>\n",
       "      <td>0.750000</td>\n",
       "      <td>0.941176</td>\n",
       "    </tr>\n",
       "    <tr>\n",
       "      <th>1</th>\n",
       "      <td>paired</td>\n",
       "      <td>21409433577947</td>\n",
       "      <td>B</td>\n",
       "      <td>novices</td>\n",
       "      <td>7.0</td>\n",
       "      <td>0.828571</td>\n",
       "      <td>0.628571</td>\n",
       "      <td>0.954545</td>\n",
       "      <td>NaN</td>\n",
       "    </tr>\n",
       "    <tr>\n",
       "      <th>2</th>\n",
       "      <td>paired</td>\n",
       "      <td>21409433577947</td>\n",
       "      <td>C</td>\n",
       "      <td>experts</td>\n",
       "      <td>1.0</td>\n",
       "      <td>0.100000</td>\n",
       "      <td>0.011111</td>\n",
       "      <td>1.000000</td>\n",
       "      <td>0.888889</td>\n",
       "    </tr>\n",
       "    <tr>\n",
       "      <th>3</th>\n",
       "      <td>paired</td>\n",
       "      <td>21409433577947</td>\n",
       "      <td>D</td>\n",
       "      <td>novices</td>\n",
       "      <td>7.0</td>\n",
       "      <td>0.571429</td>\n",
       "      <td>0.666667</td>\n",
       "      <td>1.000000</td>\n",
       "      <td>NaN</td>\n",
       "    </tr>\n",
       "    <tr>\n",
       "      <th>4</th>\n",
       "      <td>paired</td>\n",
       "      <td>32111755046981</td>\n",
       "      <td>A</td>\n",
       "      <td>novices</td>\n",
       "      <td>5.0</td>\n",
       "      <td>0.678571</td>\n",
       "      <td>0.107143</td>\n",
       "      <td>0.666667</td>\n",
       "      <td>NaN</td>\n",
       "    </tr>\n",
       "  </tbody>\n",
       "</table>\n",
       "</div>"
      ],
      "text/plain": [
       "  treatment          player kind expertise  report  accuracy   queried  \\\n",
       "0    paired  21409433577947    A   experts     7.0  0.931034  0.022472   \n",
       "1    paired  21409433577947    B   novices     7.0  0.828571  0.628571   \n",
       "2    paired  21409433577947    C   experts     1.0  0.100000  0.011111   \n",
       "3    paired  21409433577947    D   novices     7.0  0.571429  0.666667   \n",
       "4    paired  32111755046981    A   novices     5.0  0.678571  0.107143   \n",
       "\n",
       "   answered  player_responded  \n",
       "0  0.750000          0.941176  \n",
       "1  0.954545               NaN  \n",
       "2  1.000000          0.888889  \n",
       "3  1.000000               NaN  \n",
       "4  0.666667               NaN  "
      ]
     },
     "execution_count": 6,
     "metadata": {},
     "output_type": "execute_result"
    }
   ],
   "source": [
    "report_understanding.head()"
   ]
  },
  {
   "cell_type": "markdown",
   "metadata": {},
   "source": [
    "---"
   ]
  },
  {
   "cell_type": "markdown",
   "metadata": {},
   "source": [
    "### Helper functions <a class=\"anchor\" id=\"helper\"></a>\n"
   ]
  },
  {
   "cell_type": "code",
   "execution_count": 7,
   "metadata": {},
   "outputs": [],
   "source": [
    "def filter_variables(df, dict_variables) :\n",
    "    inicial = True\n",
    "    for key in dict_variables.keys() :\n",
    "        if type(dict_variables[key]) == str:\n",
    "            if inicial :\n",
    "                filtro = f\"({key}\\'{dict_variables[key]}\\')\"\n",
    "                inicial = False\n",
    "            else:\n",
    "                filtro = filtro + f\" and ({key}\\'{dict_variables[key]}\\')\"\n",
    "        else:\n",
    "            if inicial :\n",
    "                filtro = f\"({key}{dict_variables[key]})\"\n",
    "                inicial = False\n",
    "            else:\n",
    "                filtro = filtro + f\" and ({key}{dict_variables[key]})\"\n",
    "\n",
    "    return pd.DataFrame(df.query(filtro))\n",
    "\n",
    "def test_difference_proportions_accuracy(df, variable:str):\n",
    "    treatments = df[variable].unique().tolist()\n",
    "    assert(len(treatments) == 2)\n",
    "    treatment1 = treatments[0]\n",
    "    treatment2 = treatments[1]\n",
    "    total_proportion_accuracy = df['accuracy'].mean()\n",
    "    prop = df.groupby(variable)[\"accuracy\"].agg([lambda z: np.mean(z==1), \"size\"])\n",
    "    prop.columns = ['proportions_accuracy','total_counts']\n",
    "    variance = total_proportion_accuracy * (1 - total_proportion_accuracy)\n",
    "    standard_error = np.sqrt(variance * (1 / prop.total_counts[treatment1] + 1 / prop.total_counts[treatment2]))\n",
    "    best_estimate = (prop.proportions_accuracy[treatment1] - prop.proportions_accuracy[treatment2])\n",
    "    hypothesized_estimate = 0\n",
    "    Z = (best_estimate-hypothesized_estimate) / standard_error\n",
    "    P = 2*dist.norm.cdf(-np.abs(Z)) # Multiplied by two indicates a two tailed testing.\n",
    "    return Z, P "
   ]
  },
  {
   "cell_type": "markdown",
   "metadata": {},
   "source": [
    "----\n",
    "\n",
    "### Statistical tests <a class=\"anchor\" id=\"tests\"></a>\n"
   ]
  },
  {
   "cell_type": "markdown",
   "metadata": {},
   "source": [
    "Comparison of proportions of classification accuracy. We consider five comparisons: \n",
    "\n",
    "* Single vs. Dyad treatments during training rounds; \n",
    "* Single vs. Dyad treatments during the last two training rounds;\n",
    "* Classification accuracy of expert dogs in Single vs. Dyad treatments during game rounds; \n",
    "* Classification accuracy of novice dogs in Single vs. Dyad treatments during game rounds.\n",
    "* Classification accuracy of novice dogs vs. player queried or not."
   ]
  },
  {
   "cell_type": "markdown",
   "metadata": {},
   "source": [
    "**Test 1:**\n",
    "\n",
    "*Single vs. Dyad treatments during training rounds*"
   ]
  },
  {
   "cell_type": "code",
   "execution_count": 15,
   "metadata": {
    "scrolled": true
   },
   "outputs": [
    {
     "data": {
      "text/html": [
       "<div>\n",
       "<style scoped>\n",
       "    .dataframe tbody tr th:only-of-type {\n",
       "        vertical-align: middle;\n",
       "    }\n",
       "\n",
       "    .dataframe tbody tr th {\n",
       "        vertical-align: top;\n",
       "    }\n",
       "\n",
       "    .dataframe thead th {\n",
       "        text-align: right;\n",
       "    }\n",
       "</style>\n",
       "<table border=\"1\" class=\"dataframe\">\n",
       "  <thead>\n",
       "    <tr style=\"text-align: right;\">\n",
       "      <th>treatment</th>\n",
       "      <th>dyad</th>\n",
       "      <th>single</th>\n",
       "    </tr>\n",
       "    <tr>\n",
       "      <th>accuracy</th>\n",
       "      <th></th>\n",
       "      <th></th>\n",
       "    </tr>\n",
       "  </thead>\n",
       "  <tbody>\n",
       "    <tr>\n",
       "      <th>0</th>\n",
       "      <td>385</td>\n",
       "      <td>633</td>\n",
       "    </tr>\n",
       "    <tr>\n",
       "      <th>1</th>\n",
       "      <td>4510</td>\n",
       "      <td>4822</td>\n",
       "    </tr>\n",
       "  </tbody>\n",
       "</table>\n",
       "</div>"
      ],
      "text/plain": [
       "treatment  dyad  single\n",
       "accuracy               \n",
       "0           385     633\n",
       "1          4510    4822"
      ]
     },
     "execution_count": 15,
     "metadata": {},
     "output_type": "execute_result"
    }
   ],
   "source": [
    "df_training = filter_variables(data, {\n",
    "    'stage==':'Training rounds'\n",
    "})\n",
    "\n",
    "pd.crosstab(df_training['accuracy'], df_training['treatment'])"
   ]
  },
  {
   "cell_type": "code",
   "execution_count": 16,
   "metadata": {
    "scrolled": false
   },
   "outputs": [
    {
     "data": {
      "text/html": [
       "<div>\n",
       "<style scoped>\n",
       "    .dataframe tbody tr th:only-of-type {\n",
       "        vertical-align: middle;\n",
       "    }\n",
       "\n",
       "    .dataframe tbody tr th {\n",
       "        vertical-align: top;\n",
       "    }\n",
       "\n",
       "    .dataframe thead th {\n",
       "        text-align: right;\n",
       "    }\n",
       "</style>\n",
       "<table border=\"1\" class=\"dataframe\">\n",
       "  <thead>\n",
       "    <tr style=\"text-align: right;\">\n",
       "      <th>treatment</th>\n",
       "      <th>dyad</th>\n",
       "      <th>single</th>\n",
       "    </tr>\n",
       "    <tr>\n",
       "      <th>accuracy</th>\n",
       "      <th></th>\n",
       "      <th></th>\n",
       "    </tr>\n",
       "  </thead>\n",
       "  <tbody>\n",
       "    <tr>\n",
       "      <th>0</th>\n",
       "      <td>0.078652</td>\n",
       "      <td>0.11604</td>\n",
       "    </tr>\n",
       "    <tr>\n",
       "      <th>1</th>\n",
       "      <td>0.921348</td>\n",
       "      <td>0.88396</td>\n",
       "    </tr>\n",
       "  </tbody>\n",
       "</table>\n",
       "</div>"
      ],
      "text/plain": [
       "treatment      dyad   single\n",
       "accuracy                    \n",
       "0          0.078652  0.11604\n",
       "1          0.921348  0.88396"
      ]
     },
     "execution_count": 16,
     "metadata": {},
     "output_type": "execute_result"
    }
   ],
   "source": [
    "pd.crosstab(df_training['accuracy'], df_training['treatment']).apply(lambda r:r/r.sum(),axis=0)"
   ]
  },
  {
   "cell_type": "code",
   "execution_count": 17,
   "metadata": {},
   "outputs": [
    {
     "name": "stdout",
     "output_type": "stream",
     "text": [
      "Statistics=-6.377, p=0.000\n",
      "Reject H0: proportions are not equal.\n"
     ]
    }
   ],
   "source": [
    "Z, P = test_difference_proportions_accuracy(df_training, 'treatment') # Multiplied by two indicates a two tailed testing.\n",
    "print('Statistics=%.3f, p=%.3f' % (Z, P))\n",
    "if P < 0.05:\n",
    "    print('Reject H0: proportions are not equal.')\n",
    "else:\n",
    "    print('Cannot reject H0: proportions are equal.')"
   ]
  },
  {
   "cell_type": "markdown",
   "metadata": {},
   "source": [
    "**Result:** The evidence suggests rejection of H0. Proportion of accuracy for PAIRED and SOLO conditions during training rounds are not equal (Z=-6.377, p=.000)."
   ]
  },
  {
   "cell_type": "code",
   "execution_count": 26,
   "metadata": {},
   "outputs": [],
   "source": [
    "training_dyads = filter_variables(df_training, {\n",
    "    'stage==':'Training rounds',\n",
    "    'treatment==':'dyad'\n",
    "})\n",
    "training_solo = filter_variables(df_training, {\n",
    "    'stage==':'Training rounds',\n",
    "    'treatment==':'single'\n",
    "})"
   ]
  },
  {
   "cell_type": "code",
   "execution_count": 27,
   "metadata": {},
   "outputs": [
    {
     "name": "stdout",
     "output_type": "stream",
     "text": [
      "Statistics=6.389, p=0.000\n",
      "Reject H0: means are not equal.\n"
     ]
    }
   ],
   "source": [
    "stat, p = stats.ttest_ind(training_dyads['accuracy'],training_solo['accuracy'],)\n",
    "print('Statistics=%.3f, p=%.3f' % (stat, p))\n",
    "if p < 0.05:\n",
    "    print('Reject H0: means are not equal.')\n",
    "else:\n",
    "    print('Cannot reject H0: means are equal.')"
   ]
  },
  {
   "cell_type": "code",
   "execution_count": null,
   "metadata": {},
   "outputs": [],
   "source": []
  },
  {
   "cell_type": "markdown",
   "metadata": {},
   "source": [
    "**Test 2:**\n",
    "\n",
    "*Single vs. Dyad treatments during last two training rounds*"
   ]
  },
  {
   "cell_type": "code",
   "execution_count": 14,
   "metadata": {
    "scrolled": true
   },
   "outputs": [
    {
     "data": {
      "text/html": [
       "<div>\n",
       "<style scoped>\n",
       "    .dataframe tbody tr th:only-of-type {\n",
       "        vertical-align: middle;\n",
       "    }\n",
       "\n",
       "    .dataframe tbody tr th {\n",
       "        vertical-align: top;\n",
       "    }\n",
       "\n",
       "    .dataframe thead th {\n",
       "        text-align: right;\n",
       "    }\n",
       "</style>\n",
       "<table border=\"1\" class=\"dataframe\">\n",
       "  <thead>\n",
       "    <tr style=\"text-align: right;\">\n",
       "      <th>treatment</th>\n",
       "      <th>dyad</th>\n",
       "      <th>single</th>\n",
       "    </tr>\n",
       "    <tr>\n",
       "      <th>accuracy</th>\n",
       "      <th></th>\n",
       "      <th></th>\n",
       "    </tr>\n",
       "  </thead>\n",
       "  <tbody>\n",
       "    <tr>\n",
       "      <th>0</th>\n",
       "      <td>11</td>\n",
       "      <td>20</td>\n",
       "    </tr>\n",
       "    <tr>\n",
       "      <th>1</th>\n",
       "      <td>389</td>\n",
       "      <td>420</td>\n",
       "    </tr>\n",
       "  </tbody>\n",
       "</table>\n",
       "</div>"
      ],
      "text/plain": [
       "treatment  dyad  single\n",
       "accuracy               \n",
       "0            11      20\n",
       "1           389     420"
      ]
     },
     "execution_count": 14,
     "metadata": {},
     "output_type": "execute_result"
    }
   ],
   "source": [
    "df_training = filter_variables(data, {\n",
    "    'stage==':'Training rounds',\n",
    "    'round>':23\n",
    "})\n",
    "\n",
    "pd.crosstab(df_training['accuracy'], df_training['treatment'])"
   ]
  },
  {
   "cell_type": "code",
   "execution_count": 15,
   "metadata": {
    "scrolled": true
   },
   "outputs": [
    {
     "data": {
      "text/html": [
       "<div>\n",
       "<style scoped>\n",
       "    .dataframe tbody tr th:only-of-type {\n",
       "        vertical-align: middle;\n",
       "    }\n",
       "\n",
       "    .dataframe tbody tr th {\n",
       "        vertical-align: top;\n",
       "    }\n",
       "\n",
       "    .dataframe thead th {\n",
       "        text-align: right;\n",
       "    }\n",
       "</style>\n",
       "<table border=\"1\" class=\"dataframe\">\n",
       "  <thead>\n",
       "    <tr style=\"text-align: right;\">\n",
       "      <th>treatment</th>\n",
       "      <th>dyad</th>\n",
       "      <th>single</th>\n",
       "    </tr>\n",
       "    <tr>\n",
       "      <th>accuracy</th>\n",
       "      <th></th>\n",
       "      <th></th>\n",
       "    </tr>\n",
       "  </thead>\n",
       "  <tbody>\n",
       "    <tr>\n",
       "      <th>0</th>\n",
       "      <td>0.0275</td>\n",
       "      <td>0.045455</td>\n",
       "    </tr>\n",
       "    <tr>\n",
       "      <th>1</th>\n",
       "      <td>0.9725</td>\n",
       "      <td>0.954545</td>\n",
       "    </tr>\n",
       "  </tbody>\n",
       "</table>\n",
       "</div>"
      ],
      "text/plain": [
       "treatment    dyad    single\n",
       "accuracy                   \n",
       "0          0.0275  0.045455\n",
       "1          0.9725  0.954545"
      ]
     },
     "execution_count": 15,
     "metadata": {},
     "output_type": "execute_result"
    }
   ],
   "source": [
    "pd.crosstab(df_training['accuracy'], df_training['treatment']).apply(lambda r:r/r.sum(),axis=0)"
   ]
  },
  {
   "cell_type": "code",
   "execution_count": 16,
   "metadata": {},
   "outputs": [
    {
     "name": "stdout",
     "output_type": "stream",
     "text": [
      "Statistics=-1.379, p=0.168\n",
      "Cannot reject H0: proportions are equal.\n"
     ]
    }
   ],
   "source": [
    "Z, P = test_difference_proportions_accuracy(df_training, 'treatment') # Multiplied by two indicates a two tailed testing.\n",
    "print('Statistics=%.3f, p=%.3f' % (Z, P))\n",
    "if P < 0.05:\n",
    "    print('Reject H0: proportions are not equal.')\n",
    "else:\n",
    "    print('Cannot reject H0: proportions are equal.')"
   ]
  },
  {
   "cell_type": "markdown",
   "metadata": {},
   "source": [
    "**Result:** Not enough evidence to reject H0. Proportion of accuracy for PAIRED and SOLO conditions in the last 2 training rounds are equal (Z=-1.379, p=.168)."
   ]
  },
  {
   "cell_type": "markdown",
   "metadata": {},
   "source": [
    "**Test 3:**\n",
    "\n",
    "*Classification accuracy of expert dogs in Single vs. Dyad treatments during game rounds*"
   ]
  },
  {
   "cell_type": "code",
   "execution_count": 17,
   "metadata": {
    "scrolled": false
   },
   "outputs": [
    {
     "data": {
      "text/html": [
       "<div>\n",
       "<style scoped>\n",
       "    .dataframe tbody tr th:only-of-type {\n",
       "        vertical-align: middle;\n",
       "    }\n",
       "\n",
       "    .dataframe tbody tr th {\n",
       "        vertical-align: top;\n",
       "    }\n",
       "\n",
       "    .dataframe thead th {\n",
       "        text-align: right;\n",
       "    }\n",
       "</style>\n",
       "<table border=\"1\" class=\"dataframe\">\n",
       "  <thead>\n",
       "    <tr style=\"text-align: right;\">\n",
       "      <th>treatment</th>\n",
       "      <th>dyad</th>\n",
       "      <th>single</th>\n",
       "    </tr>\n",
       "    <tr>\n",
       "      <th>accuracy</th>\n",
       "      <th></th>\n",
       "      <th></th>\n",
       "    </tr>\n",
       "  </thead>\n",
       "  <tbody>\n",
       "    <tr>\n",
       "      <th>0</th>\n",
       "      <td>108</td>\n",
       "      <td>126</td>\n",
       "    </tr>\n",
       "    <tr>\n",
       "      <th>1</th>\n",
       "      <td>2341</td>\n",
       "      <td>2614</td>\n",
       "    </tr>\n",
       "  </tbody>\n",
       "</table>\n",
       "</div>"
      ],
      "text/plain": [
       "treatment  dyad  single\n",
       "accuracy               \n",
       "0           108     126\n",
       "1          2341    2614"
      ]
     },
     "execution_count": 17,
     "metadata": {},
     "output_type": "execute_result"
    }
   ],
   "source": [
    "df_game = filter_variables(data, {\n",
    "    'stage==':'Game rounds',\n",
    "    'expert_dog==':True\n",
    "})\n",
    "\n",
    "pd.crosstab(df_game['accuracy'], df_game['treatment'])"
   ]
  },
  {
   "cell_type": "code",
   "execution_count": 18,
   "metadata": {
    "scrolled": false
   },
   "outputs": [
    {
     "data": {
      "text/html": [
       "<div>\n",
       "<style scoped>\n",
       "    .dataframe tbody tr th:only-of-type {\n",
       "        vertical-align: middle;\n",
       "    }\n",
       "\n",
       "    .dataframe tbody tr th {\n",
       "        vertical-align: top;\n",
       "    }\n",
       "\n",
       "    .dataframe thead th {\n",
       "        text-align: right;\n",
       "    }\n",
       "</style>\n",
       "<table border=\"1\" class=\"dataframe\">\n",
       "  <thead>\n",
       "    <tr style=\"text-align: right;\">\n",
       "      <th>treatment</th>\n",
       "      <th>dyad</th>\n",
       "      <th>single</th>\n",
       "    </tr>\n",
       "    <tr>\n",
       "      <th>accuracy</th>\n",
       "      <th></th>\n",
       "      <th></th>\n",
       "    </tr>\n",
       "  </thead>\n",
       "  <tbody>\n",
       "    <tr>\n",
       "      <th>0</th>\n",
       "      <td>0.0441</td>\n",
       "      <td>0.045985</td>\n",
       "    </tr>\n",
       "    <tr>\n",
       "      <th>1</th>\n",
       "      <td>0.9559</td>\n",
       "      <td>0.954015</td>\n",
       "    </tr>\n",
       "  </tbody>\n",
       "</table>\n",
       "</div>"
      ],
      "text/plain": [
       "treatment    dyad    single\n",
       "accuracy                   \n",
       "0          0.0441  0.045985\n",
       "1          0.9559  0.954015"
      ]
     },
     "execution_count": 18,
     "metadata": {},
     "output_type": "execute_result"
    }
   ],
   "source": [
    "pd.crosstab(df_game['accuracy'], df_game['treatment']).apply(lambda r:r/r.sum(),axis=0)"
   ]
  },
  {
   "cell_type": "code",
   "execution_count": 19,
   "metadata": {},
   "outputs": [
    {
     "name": "stdout",
     "output_type": "stream",
     "text": [
      "Statistics=-0.327, p=0.744\n",
      "Cannot reject H0: proportions are equal.\n"
     ]
    }
   ],
   "source": [
    "Z, P = test_difference_proportions_accuracy(df_game, 'treatment') # Multiplied by two indicates a two tailed testing.\n",
    "print('Statistics=%.3f, p=%.3f' % (Z, P))\n",
    "if P < 0.05:\n",
    "    print('Reject H0: proportions are not equal.')\n",
    "else:\n",
    "    print('Cannot reject H0: proportions are equal.')"
   ]
  },
  {
   "cell_type": "markdown",
   "metadata": {},
   "source": [
    "**Result:** Not enough evidence to reject H0. Proportion of expert dog classification accuracy for PAIRED and SOLO conditions are equal (Z=-0.327, p=.744)."
   ]
  },
  {
   "cell_type": "markdown",
   "metadata": {},
   "source": [
    "**Test 4:**\n",
    "\n",
    "*Classification accuracy of novice dogs in Single vs. Dyad treatments during game rounds*"
   ]
  },
  {
   "cell_type": "code",
   "execution_count": 20,
   "metadata": {
    "scrolled": true
   },
   "outputs": [
    {
     "data": {
      "text/html": [
       "<div>\n",
       "<style scoped>\n",
       "    .dataframe tbody tr th:only-of-type {\n",
       "        vertical-align: middle;\n",
       "    }\n",
       "\n",
       "    .dataframe tbody tr th {\n",
       "        vertical-align: top;\n",
       "    }\n",
       "\n",
       "    .dataframe thead th {\n",
       "        text-align: right;\n",
       "    }\n",
       "</style>\n",
       "<table border=\"1\" class=\"dataframe\">\n",
       "  <thead>\n",
       "    <tr style=\"text-align: right;\">\n",
       "      <th>treatment</th>\n",
       "      <th>dyad</th>\n",
       "      <th>single</th>\n",
       "    </tr>\n",
       "    <tr>\n",
       "      <th>accuracy</th>\n",
       "      <th></th>\n",
       "      <th></th>\n",
       "    </tr>\n",
       "  </thead>\n",
       "  <tbody>\n",
       "    <tr>\n",
       "      <th>0</th>\n",
       "      <td>429</td>\n",
       "      <td>561</td>\n",
       "    </tr>\n",
       "    <tr>\n",
       "      <th>1</th>\n",
       "      <td>2007</td>\n",
       "      <td>2199</td>\n",
       "    </tr>\n",
       "  </tbody>\n",
       "</table>\n",
       "</div>"
      ],
      "text/plain": [
       "treatment  dyad  single\n",
       "accuracy               \n",
       "0           429     561\n",
       "1          2007    2199"
      ]
     },
     "execution_count": 20,
     "metadata": {},
     "output_type": "execute_result"
    }
   ],
   "source": [
    "df_game = filter_variables(data, {\n",
    "    'stage==':'Game rounds',\n",
    "    'expert_dog==':False\n",
    "})\n",
    "\n",
    "pd.crosstab(df_game['accuracy'], df_game['treatment'])"
   ]
  },
  {
   "cell_type": "code",
   "execution_count": 21,
   "metadata": {
    "scrolled": true
   },
   "outputs": [
    {
     "data": {
      "text/html": [
       "<div>\n",
       "<style scoped>\n",
       "    .dataframe tbody tr th:only-of-type {\n",
       "        vertical-align: middle;\n",
       "    }\n",
       "\n",
       "    .dataframe tbody tr th {\n",
       "        vertical-align: top;\n",
       "    }\n",
       "\n",
       "    .dataframe thead th {\n",
       "        text-align: right;\n",
       "    }\n",
       "</style>\n",
       "<table border=\"1\" class=\"dataframe\">\n",
       "  <thead>\n",
       "    <tr style=\"text-align: right;\">\n",
       "      <th>treatment</th>\n",
       "      <th>dyad</th>\n",
       "      <th>single</th>\n",
       "    </tr>\n",
       "    <tr>\n",
       "      <th>accuracy</th>\n",
       "      <th></th>\n",
       "      <th></th>\n",
       "    </tr>\n",
       "  </thead>\n",
       "  <tbody>\n",
       "    <tr>\n",
       "      <th>0</th>\n",
       "      <td>0.176108</td>\n",
       "      <td>0.203261</td>\n",
       "    </tr>\n",
       "    <tr>\n",
       "      <th>1</th>\n",
       "      <td>0.823892</td>\n",
       "      <td>0.796739</td>\n",
       "    </tr>\n",
       "  </tbody>\n",
       "</table>\n",
       "</div>"
      ],
      "text/plain": [
       "treatment      dyad    single\n",
       "accuracy                     \n",
       "0          0.176108  0.203261\n",
       "1          0.823892  0.796739"
      ]
     },
     "execution_count": 21,
     "metadata": {},
     "output_type": "execute_result"
    }
   ],
   "source": [
    "pd.crosstab(df_game['accuracy'], df_game['treatment']).apply(lambda r:r/r.sum(),axis=0)"
   ]
  },
  {
   "cell_type": "code",
   "execution_count": 22,
   "metadata": {},
   "outputs": [
    {
     "name": "stdout",
     "output_type": "stream",
     "text": [
      "Statistics=-2.487, p=0.013\n",
      "Reject H0: proportions are not equal.\n"
     ]
    }
   ],
   "source": [
    "Z, P = test_difference_proportions_accuracy(df_game, 'treatment') # Multiplied by two indicates a two tailed testing.\n",
    "print('Statistics=%.3f, p=%.3f' % (Z, P))\n",
    "if P < 0.05:\n",
    "    print('Reject H0: proportions are not equal.')\n",
    "else:\n",
    "    print('Cannot reject H0: proportions are equal.')"
   ]
  },
  {
   "cell_type": "markdown",
   "metadata": {},
   "source": [
    "**Result:** Evidence suggests rejecting H0. Proportion of novice dog classification accuracy for PAIRED and SOLO conditions are not equal (Z=-2.487, p=.013)."
   ]
  },
  {
   "cell_type": "markdown",
   "metadata": {},
   "source": [
    "**Test 5:**\n",
    "\n",
    "*Classification accuracy of novice dogs vs. player queried or not*"
   ]
  },
  {
   "cell_type": "code",
   "execution_count": 27,
   "metadata": {
    "scrolled": true
   },
   "outputs": [
    {
     "data": {
      "text/html": [
       "<div>\n",
       "<style scoped>\n",
       "    .dataframe tbody tr th:only-of-type {\n",
       "        vertical-align: middle;\n",
       "    }\n",
       "\n",
       "    .dataframe tbody tr th {\n",
       "        vertical-align: top;\n",
       "    }\n",
       "\n",
       "    .dataframe thead th {\n",
       "        text-align: right;\n",
       "    }\n",
       "</style>\n",
       "<table border=\"1\" class=\"dataframe\">\n",
       "  <thead>\n",
       "    <tr style=\"text-align: right;\">\n",
       "      <th>queried</th>\n",
       "      <th>0</th>\n",
       "      <th>1</th>\n",
       "    </tr>\n",
       "    <tr>\n",
       "      <th>accuracy</th>\n",
       "      <th></th>\n",
       "      <th></th>\n",
       "    </tr>\n",
       "  </thead>\n",
       "  <tbody>\n",
       "    <tr>\n",
       "      <th>0</th>\n",
       "      <td>318</td>\n",
       "      <td>111</td>\n",
       "    </tr>\n",
       "    <tr>\n",
       "      <th>1</th>\n",
       "      <td>1173</td>\n",
       "      <td>834</td>\n",
       "    </tr>\n",
       "  </tbody>\n",
       "</table>\n",
       "</div>"
      ],
      "text/plain": [
       "queried      0    1\n",
       "accuracy           \n",
       "0          318  111\n",
       "1         1173  834"
      ]
     },
     "execution_count": 27,
     "metadata": {},
     "output_type": "execute_result"
    }
   ],
   "source": [
    "df_game = filter_variables(data, {\n",
    "    'treatment==':'dyad',\n",
    "    'stage==':'Game rounds',\n",
    "    'expert_dog==':False\n",
    "})\n",
    "df_game['queried'] = df_game['queried'].apply(lambda x: 1 if x > 0 else 0)\n",
    "pd.crosstab(df_game['accuracy'], df_game['queried'])"
   ]
  },
  {
   "cell_type": "code",
   "execution_count": 28,
   "metadata": {
    "scrolled": true
   },
   "outputs": [
    {
     "data": {
      "text/html": [
       "<div>\n",
       "<style scoped>\n",
       "    .dataframe tbody tr th:only-of-type {\n",
       "        vertical-align: middle;\n",
       "    }\n",
       "\n",
       "    .dataframe tbody tr th {\n",
       "        vertical-align: top;\n",
       "    }\n",
       "\n",
       "    .dataframe thead th {\n",
       "        text-align: right;\n",
       "    }\n",
       "</style>\n",
       "<table border=\"1\" class=\"dataframe\">\n",
       "  <thead>\n",
       "    <tr style=\"text-align: right;\">\n",
       "      <th>queried</th>\n",
       "      <th>0</th>\n",
       "      <th>1</th>\n",
       "    </tr>\n",
       "    <tr>\n",
       "      <th>accuracy</th>\n",
       "      <th></th>\n",
       "      <th></th>\n",
       "    </tr>\n",
       "  </thead>\n",
       "  <tbody>\n",
       "    <tr>\n",
       "      <th>0</th>\n",
       "      <td>0.21328</td>\n",
       "      <td>0.11746</td>\n",
       "    </tr>\n",
       "    <tr>\n",
       "      <th>1</th>\n",
       "      <td>0.78672</td>\n",
       "      <td>0.88254</td>\n",
       "    </tr>\n",
       "  </tbody>\n",
       "</table>\n",
       "</div>"
      ],
      "text/plain": [
       "queried         0        1\n",
       "accuracy                  \n",
       "0         0.21328  0.11746\n",
       "1         0.78672  0.88254"
      ]
     },
     "execution_count": 28,
     "metadata": {},
     "output_type": "execute_result"
    }
   ],
   "source": [
    "pd.crosstab(df_game['accuracy'], df_game['queried']).apply(lambda r:r/r.sum(),axis=0)"
   ]
  },
  {
   "cell_type": "code",
   "execution_count": 29,
   "metadata": {},
   "outputs": [
    {
     "name": "stdout",
     "output_type": "stream",
     "text": [
      "Statistics=-6.050, p=0.000\n",
      "Reject H0: proportions are not equal.\n"
     ]
    }
   ],
   "source": [
    "Z, P = test_difference_proportions_accuracy(df_game, 'queried') # Multiplied by two indicates a two tailed testing.\n",
    "print('Statistics=%.3f, p=%.3f' % (Z, P))\n",
    "if P < 0.05:\n",
    "    print('Reject H0: proportions are not equal.')\n",
    "else:\n",
    "    print('Cannot reject H0: proportions are equal.')"
   ]
  },
  {
   "cell_type": "markdown",
   "metadata": {},
   "source": [
    "**Result:** Evidence suggests rejecting H0. Proportion of novice dog classification accuracy for PAIRED and SOLO conditions are not equal (Z=-2.487, p=.013)."
   ]
  },
  {
   "cell_type": "markdown",
   "metadata": {},
   "source": [
    "---"
   ]
  },
  {
   "cell_type": "code",
   "execution_count": 48,
   "metadata": {},
   "outputs": [
    {
     "data": {
      "text/html": [
       "<div>\n",
       "<style scoped>\n",
       "    .dataframe tbody tr th:only-of-type {\n",
       "        vertical-align: middle;\n",
       "    }\n",
       "\n",
       "    .dataframe tbody tr th {\n",
       "        vertical-align: top;\n",
       "    }\n",
       "\n",
       "    .dataframe thead th {\n",
       "        text-align: right;\n",
       "    }\n",
       "</style>\n",
       "<table border=\"1\" class=\"dataframe\">\n",
       "  <thead>\n",
       "    <tr style=\"text-align: right;\">\n",
       "      <th></th>\n",
       "      <th>player</th>\n",
       "      <th>round</th>\n",
       "      <th>num_queries</th>\n",
       "      <th>queried</th>\n",
       "      <th>yes/no</th>\n",
       "      <th>accuracy</th>\n",
       "      <th>accuracy_external</th>\n",
       "      <th>accuracy_internal</th>\n",
       "      <th>new_use</th>\n",
       "      <th>acc_accuracy</th>\n",
       "      <th>acc_queried</th>\n",
       "      <th>acc_internal</th>\n",
       "      <th>acc_external</th>\n",
       "    </tr>\n",
       "  </thead>\n",
       "  <tbody>\n",
       "    <tr>\n",
       "      <th>0</th>\n",
       "      <td>21409433577947</td>\n",
       "      <td>3</td>\n",
       "      <td>2.0</td>\n",
       "      <td>0.333333</td>\n",
       "      <td>0.500000</td>\n",
       "      <td>0.000000</td>\n",
       "      <td>0.000000</td>\n",
       "      <td>0.0</td>\n",
       "      <td>0.333333</td>\n",
       "      <td>0.000000</td>\n",
       "      <td>0.333333</td>\n",
       "      <td>0.0</td>\n",
       "      <td>0.000000</td>\n",
       "    </tr>\n",
       "    <tr>\n",
       "      <th>1</th>\n",
       "      <td>21409433577947</td>\n",
       "      <td>4</td>\n",
       "      <td>2.0</td>\n",
       "      <td>0.333333</td>\n",
       "      <td>0.500000</td>\n",
       "      <td>0.333333</td>\n",
       "      <td>0.333333</td>\n",
       "      <td>0.0</td>\n",
       "      <td>0.333333</td>\n",
       "      <td>0.333333</td>\n",
       "      <td>0.666667</td>\n",
       "      <td>0.0</td>\n",
       "      <td>0.333333</td>\n",
       "    </tr>\n",
       "    <tr>\n",
       "      <th>2</th>\n",
       "      <td>21409433577947</td>\n",
       "      <td>5</td>\n",
       "      <td>3.0</td>\n",
       "      <td>0.333333</td>\n",
       "      <td>0.000000</td>\n",
       "      <td>0.333333</td>\n",
       "      <td>0.333333</td>\n",
       "      <td>0.0</td>\n",
       "      <td>0.500000</td>\n",
       "      <td>0.666667</td>\n",
       "      <td>1.000000</td>\n",
       "      <td>0.0</td>\n",
       "      <td>0.666667</td>\n",
       "    </tr>\n",
       "    <tr>\n",
       "      <th>3</th>\n",
       "      <td>21409433577947</td>\n",
       "      <td>6</td>\n",
       "      <td>4.0</td>\n",
       "      <td>0.500000</td>\n",
       "      <td>0.166667</td>\n",
       "      <td>1.000000</td>\n",
       "      <td>0.500000</td>\n",
       "      <td>0.5</td>\n",
       "      <td>1.000000</td>\n",
       "      <td>1.666667</td>\n",
       "      <td>1.500000</td>\n",
       "      <td>0.5</td>\n",
       "      <td>1.166667</td>\n",
       "    </tr>\n",
       "    <tr>\n",
       "      <th>4</th>\n",
       "      <td>21409433577947</td>\n",
       "      <td>7</td>\n",
       "      <td>3.0</td>\n",
       "      <td>1.000000</td>\n",
       "      <td>0.333333</td>\n",
       "      <td>1.000000</td>\n",
       "      <td>1.000000</td>\n",
       "      <td>0.0</td>\n",
       "      <td>0.666667</td>\n",
       "      <td>2.666667</td>\n",
       "      <td>2.500000</td>\n",
       "      <td>0.5</td>\n",
       "      <td>2.166667</td>\n",
       "    </tr>\n",
       "  </tbody>\n",
       "</table>\n",
       "</div>"
      ],
      "text/plain": [
       "           player  round  num_queries   queried    yes/no  accuracy  \\\n",
       "0  21409433577947      3          2.0  0.333333  0.500000  0.000000   \n",
       "1  21409433577947      4          2.0  0.333333  0.500000  0.333333   \n",
       "2  21409433577947      5          3.0  0.333333  0.000000  0.333333   \n",
       "3  21409433577947      6          4.0  0.500000  0.166667  1.000000   \n",
       "4  21409433577947      7          3.0  1.000000  0.333333  1.000000   \n",
       "\n",
       "   accuracy_external  accuracy_internal   new_use  acc_accuracy  acc_queried  \\\n",
       "0           0.000000                0.0  0.333333      0.000000     0.333333   \n",
       "1           0.333333                0.0  0.333333      0.333333     0.666667   \n",
       "2           0.333333                0.0  0.500000      0.666667     1.000000   \n",
       "3           0.500000                0.5  1.000000      1.666667     1.500000   \n",
       "4           1.000000                0.0  0.666667      2.666667     2.500000   \n",
       "\n",
       "   acc_internal  acc_external  \n",
       "0           0.0      0.000000  \n",
       "1           0.0      0.333333  \n",
       "2           0.0      0.666667  \n",
       "3           0.5      1.166667  \n",
       "4           0.5      2.166667  "
      ]
     },
     "execution_count": 48,
     "metadata": {},
     "output_type": "execute_result"
    }
   ],
   "source": [
    "game_dyad = filter_variables(data, {\n",
    "    'treatment==':'dyad', \n",
    "    'stage==':'Game rounds',\n",
    "    'expert_dog==':False,\n",
    "    'round<': 30\n",
    "})\n",
    "game_dyad['num_queries'] = game_dyad['queried'].apply(lambda x: x if x>0 else 0)\n",
    "game_dyad['queried'] = game_dyad['queried'].apply(lambda x: 1 if x>0 else 0)\n",
    "game_dyad['answer'] = game_dyad['answered'].apply(lambda x: 1 if x>0 else 0)\n",
    "game_dyad['accuracy_external'] = game_dyad[['accuracy', 'queried']].apply(lambda x: 1 if ((x['queried']==1) & (x['accuracy']==1)) else 0, axis=1)\n",
    "game_dyad['accuracy_internal'] = game_dyad[['accuracy', 'queried']].apply(lambda x: 1 if ((x['queried']==0) & (x['accuracy']==1)) else 0, axis=1)\n",
    "\n",
    "df_use = game_dyad.groupby(['player', 'round']).agg({\n",
    "    'num_queries':'sum',\n",
    "    'queried':'mean',\n",
    "    'yes/no':'mean',\n",
    "    'accuracy':'mean',\n",
    "    'accuracy_external':'mean',\n",
    "    'accuracy_internal':'mean'\n",
    "}).reset_index()\n",
    "#df_use.columns = df_use.columns.get_level_values(0)\n",
    "#df_use.columns = ['player', 'round', 'num_queries', 'queried', 'yes/no', 'accuracy']\n",
    "df_use['new_use'] = df_use.groupby('player')['queried'].transform('shift',-1)\n",
    "df_use.sort_values(by=['player', 'round'], inplace=True)\n",
    "df_use['acc_accuracy'] = df_use.groupby('player')['accuracy'].cumsum()\n",
    "df_use['acc_queried'] = df_use.groupby('player')['queried'].cumsum()\n",
    "df_use['acc_internal'] = df_use.groupby('player')['accuracy_internal'].cumsum()\n",
    "df_use['acc_external'] = df_use.groupby('player')['accuracy_external'].cumsum()\n",
    "df_use.dropna()\n",
    "df_use.head()"
   ]
  },
  {
   "cell_type": "code",
   "execution_count": 45,
   "metadata": {},
   "outputs": [
    {
     "ename": "NameError",
     "evalue": "name 'smf' is not defined",
     "output_type": "error",
     "traceback": [
      "\u001b[1;31m---------------------------------------------------------------------------\u001b[0m",
      "\u001b[1;31mNameError\u001b[0m                                 Traceback (most recent call last)",
      "\u001b[1;32m<ipython-input-45-15e6d92c6913>\u001b[0m in \u001b[0;36m<module>\u001b[1;34m\u001b[0m\n\u001b[1;32m----> 1\u001b[1;33m \u001b[0mmod\u001b[0m \u001b[1;33m=\u001b[0m \u001b[0msmf\u001b[0m\u001b[1;33m.\u001b[0m\u001b[0mols\u001b[0m\u001b[1;33m(\u001b[0m\u001b[0mformula\u001b[0m\u001b[1;33m=\u001b[0m\u001b[1;34m'new_use ~  queried + acc_precision_individual + acc_accuracy_queried'\u001b[0m\u001b[1;33m,\u001b[0m \u001b[0mdata\u001b[0m\u001b[1;33m=\u001b[0m\u001b[0mdf_use\u001b[0m\u001b[1;33m)\u001b[0m\u001b[1;33m\u001b[0m\u001b[1;33m\u001b[0m\u001b[0m\n\u001b[0m\u001b[0;32m      2\u001b[0m \u001b[0mres\u001b[0m \u001b[1;33m=\u001b[0m \u001b[0mmod\u001b[0m\u001b[1;33m.\u001b[0m\u001b[0mfit\u001b[0m\u001b[1;33m(\u001b[0m\u001b[1;33m)\u001b[0m\u001b[1;33m\u001b[0m\u001b[1;33m\u001b[0m\u001b[0m\n\u001b[0;32m      3\u001b[0m \u001b[0mprint\u001b[0m\u001b[1;33m(\u001b[0m\u001b[0mres\u001b[0m\u001b[1;33m.\u001b[0m\u001b[0msummary\u001b[0m\u001b[1;33m(\u001b[0m\u001b[1;33m)\u001b[0m\u001b[1;33m)\u001b[0m\u001b[1;33m\u001b[0m\u001b[1;33m\u001b[0m\u001b[0m\n",
      "\u001b[1;31mNameError\u001b[0m: name 'smf' is not defined"
     ]
    }
   ],
   "source": [
    "mod = smf.ols(formula='new_use ~  queried + acc_precision_individual + acc_accuracy_queried', data=df_use)\n",
    "res = mod.fit()\n",
    "print(res.summary())"
   ]
  },
  {
   "cell_type": "code",
   "execution_count": null,
   "metadata": {},
   "outputs": [],
   "source": []
  },
  {
   "cell_type": "code",
   "execution_count": null,
   "metadata": {},
   "outputs": [],
   "source": []
  },
  {
   "cell_type": "code",
   "execution_count": null,
   "metadata": {},
   "outputs": [],
   "source": []
  },
  {
   "cell_type": "markdown",
   "metadata": {},
   "source": [
    "---"
   ]
  },
  {
   "cell_type": "markdown",
   "metadata": {},
   "source": [
    "**Test 6:** Self-report of understanding compared between paired and solo conditions."
   ]
  },
  {
   "cell_type": "code",
   "execution_count": 33,
   "metadata": {},
   "outputs": [
    {
     "name": "stdout",
     "output_type": "stream",
     "text": [
      "==========PAIRED condition==========\n",
      "Accuracy mean: 6.217948717948718\n",
      "Accuracy standard deviation: 1.1124728030813775\n",
      "Number of data points: 78\n",
      "Lost 1 player observation due to error in saving data in nodeGame\n",
      "\n",
      "==========SOLO condition==========\n",
      "Accuracy mean: 5.318181818181818\n",
      "Accuracy standard deviation: 1.3090792986829847\n",
      "Number of data points: 88\n"
     ]
    }
   ],
   "source": [
    "report_dyads = filter_variables(report_understanding, {\n",
    "    'treatment==':'dyad', \n",
    "    'expertise==':'experts'}\n",
    "                                 )[['player','report']]\n",
    "print(\"=\"*10+\"PAIRED condition\"+\"=\"*10)\n",
    "print('Accuracy mean:', report_dyads['report'].mean())\n",
    "print('Accuracy standard deviation:', report_dyads['report'].std())\n",
    "print('Number of data points:', report_dyads['report'].count())\n",
    "print('Lost 1 player observation due to error in saving data in nodeGame')\n",
    "\n",
    "print(\"\")\n",
    "\n",
    "report_solo = filter_variables(report_understanding, {\n",
    "    'treatment==':'single', \n",
    "    'expertise==':'experts'}\n",
    "                                 )[['player','report']]\n",
    "print(\"=\"*10+\"SOLO condition\"+\"=\"*10)\n",
    "print('Accuracy mean:', report_solo['report'].mean())\n",
    "print('Accuracy standard deviation:', report_solo['report'].std())\n",
    "print('Number of data points:', report_solo['report'].count())\n",
    "\n"
   ]
  },
  {
   "cell_type": "code",
   "execution_count": 34,
   "metadata": {},
   "outputs": [
    {
     "name": "stdout",
     "output_type": "stream",
     "text": [
      "Statistics=4.740, p=0.000\n",
      "Reject H0: means are not equal.\n"
     ]
    }
   ],
   "source": [
    "stat, p = stats.ttest_ind(report_dyads['report'],report_solo['report'],)\n",
    "print('Statistics=%.3f, p=%.3f' % (stat, p))\n",
    "if p < 0.05:\n",
    "    print('Reject H0: means are not equal.')\n",
    "else:\n",
    "    print('Cannot reject H0: means are equal.')"
   ]
  },
  {
   "cell_type": "code",
   "execution_count": 35,
   "metadata": {},
   "outputs": [
    {
     "name": "stderr",
     "output_type": "stream",
     "text": [
      "c:\\users\\edgar.andrade\\appdata\\local\\programs\\python\\python37-32\\lib\\site-packages\\seaborn\\distributions.py:2619: FutureWarning: `distplot` is a deprecated function and will be removed in a future version. Please adapt your code to use either `displot` (a figure-level function with similar flexibility) or `histplot` (an axes-level function for histograms).\n",
      "  warnings.warn(msg, FutureWarning)\n",
      "c:\\users\\edgar.andrade\\appdata\\local\\programs\\python\\python37-32\\lib\\site-packages\\matplotlib\\cbook\\__init__.py:1377: FutureWarning: Support for multi-dimensional indexing (e.g. `obj[:, None]`) is deprecated and will be removed in a future version.  Convert to a numpy array before indexing instead.\n",
      "  x[:, None]\n",
      "c:\\users\\edgar.andrade\\appdata\\local\\programs\\python\\python37-32\\lib\\site-packages\\matplotlib\\axes\\_base.py:237: FutureWarning: Support for multi-dimensional indexing (e.g. `obj[:, None]`) is deprecated and will be removed in a future version.  Convert to a numpy array before indexing instead.\n",
      "  x = x[:, np.newaxis]\n",
      "c:\\users\\edgar.andrade\\appdata\\local\\programs\\python\\python37-32\\lib\\site-packages\\matplotlib\\axes\\_base.py:239: FutureWarning: Support for multi-dimensional indexing (e.g. `obj[:, None]`) is deprecated and will be removed in a future version.  Convert to a numpy array before indexing instead.\n",
      "  y = y[:, np.newaxis]\n",
      "c:\\users\\edgar.andrade\\appdata\\local\\programs\\python\\python37-32\\lib\\site-packages\\seaborn\\distributions.py:2619: FutureWarning: `distplot` is a deprecated function and will be removed in a future version. Please adapt your code to use either `displot` (a figure-level function with similar flexibility) or `histplot` (an axes-level function for histograms).\n",
      "  warnings.warn(msg, FutureWarning)\n",
      "c:\\users\\edgar.andrade\\appdata\\local\\programs\\python\\python37-32\\lib\\site-packages\\matplotlib\\cbook\\__init__.py:1377: FutureWarning: Support for multi-dimensional indexing (e.g. `obj[:, None]`) is deprecated and will be removed in a future version.  Convert to a numpy array before indexing instead.\n",
      "  x[:, None]\n",
      "c:\\users\\edgar.andrade\\appdata\\local\\programs\\python\\python37-32\\lib\\site-packages\\matplotlib\\axes\\_base.py:237: FutureWarning: Support for multi-dimensional indexing (e.g. `obj[:, None]`) is deprecated and will be removed in a future version.  Convert to a numpy array before indexing instead.\n",
      "  x = x[:, np.newaxis]\n",
      "c:\\users\\edgar.andrade\\appdata\\local\\programs\\python\\python37-32\\lib\\site-packages\\matplotlib\\axes\\_base.py:239: FutureWarning: Support for multi-dimensional indexing (e.g. `obj[:, None]`) is deprecated and will be removed in a future version.  Convert to a numpy array before indexing instead.\n",
      "  y = y[:, np.newaxis]\n"
     ]
    },
    {
     "data": {
      "image/png": "[encoded data removed]",
      "text/plain": [
       "<Figure size 432x288 with 4 Axes>"
      ]
     },
     "metadata": {
      "needs_background": "light"
     },
     "output_type": "display_data"
    }
   ],
   "source": [
    "fig,ax = plt.subplots(2,2)\n",
    "ax[0,0].set_title(\"Paired condition\")\n",
    "ax[0,1].set_title(\"Solo condition\")\n",
    "sns.distplot(report_dyads['report'], ax=ax[0,0])\n",
    "sns.distplot(report_solo['report'], ax=ax[0,1])\n",
    "stats.probplot(report_dyads['report'], dist=\"norm\", plot=ax[1,0])\n",
    "stats.probplot(report_solo['report'], dist=\"norm\", plot=ax[1,1])\n",
    "plt.tight_layout()"
   ]
  },
  {
   "cell_type": "code",
   "execution_count": 36,
   "metadata": {},
   "outputs": [
    {
     "name": "stdout",
     "output_type": "stream",
     "text": [
      "Normality test for accuracy in PAIRED condition\n",
      "Statistics=0.717, p=0.000\n",
      "Sample is not Gaussian\n",
      "Normality test for accuracy in SOLO condition\n",
      "Statistics=0.909, p=0.000\n",
      "Sample is not Gaussian\n"
     ]
    }
   ],
   "source": [
    "stat, p = stats.shapiro(report_dyads['report'])\n",
    "print('Normality test for accuracy in PAIRED condition')\n",
    "print('Statistics=%.3f, p=%.3f' % (stat, p))\n",
    "if p < 0.05:\n",
    "    print('Sample is not Gaussian')\n",
    "else:\n",
    "    print('Sample is Gaussian')\n",
    "\n",
    "stat, p = stats.shapiro(report_solo['report'])\n",
    "print('Normality test for accuracy in SOLO condition')\n",
    "print('Statistics=%.3f, p=%.3f' % (stat, p))\n",
    "if p < 0.05:\n",
    "    print('Sample is not Gaussian')\n",
    "else:\n",
    "    print('Sample is Gaussian')"
   ]
  },
  {
   "cell_type": "code",
   "execution_count": 37,
   "metadata": {},
   "outputs": [
    {
     "name": "stdout",
     "output_type": "stream",
     "text": [
      "Statistics=2016.500, p=0.000\n"
     ]
    }
   ],
   "source": [
    "stat, p = stats.mannwhitneyu(\n",
    "    report_dyads['report'], \n",
    "    report_solo['report']\n",
    ")\n",
    "print('Statistics=%.3f, p=%.3f' % (stat, p))"
   ]
  },
  {
   "cell_type": "markdown",
   "metadata": {},
   "source": [
    "**Result of test 6:** Paired participants reported on average a greater understanding of their expert dogs than solo participants ($\\mbox{M}_{\\mbox{paired experts}}\\,{=}\\,6.22$, $\\mbox{SD}_{\\mbox{paired experts}}\\,{=}\\,1.11$, $\\mbox{M}_{\\mbox{solo experts}}\\,{=}\\,5.32$, $\\mbox{SD}_{\\mbox{solo experts}}\\,{=}\\,1.31$, $\\mbox{t}(164)\\,{=}\\,4.74$, $\\mbox{p}\\,{<}\\,.001$, note: non-parametric U test agrees with t-test)."
   ]
  },
  {
   "cell_type": "markdown",
   "metadata": {},
   "source": [
    "---"
   ]
  },
  {
   "cell_type": "markdown",
   "metadata": {},
   "source": [
    "**Test 7:** Correlation between *expert* accuracy and report, per condition."
   ]
  },
  {
   "cell_type": "markdown",
   "metadata": {},
   "source": [
    "As it turns out, there is a player who, albeit being an expert, reported a very low understanding and very low accuracy for one of their expert dog breeds. We will treat this data point as an outlier and will leave it out of the present analysis. Here is a visual presentation of such an outlier."
   ]
  },
  {
   "cell_type": "code",
   "execution_count": 10,
   "metadata": {},
   "outputs": [
    {
     "name": "stderr",
     "output_type": "stream",
     "text": [
      "/usr/local/lib/python3.9/site-packages/seaborn/_decorators.py:36: FutureWarning: Pass the following variable as a keyword arg: x. From version 0.12, the only valid positional argument will be `data`, and passing other arguments without an explicit keyword will result in an error or misinterpretation.\n",
      "  warnings.warn(\n",
      "/usr/local/lib/python3.9/site-packages/seaborn/_decorators.py:36: FutureWarning: Pass the following variable as a keyword arg: x. From version 0.12, the only valid positional argument will be `data`, and passing other arguments without an explicit keyword will result in an error or misinterpretation.\n",
      "  warnings.warn(\n",
      "/usr/local/lib/python3.9/site-packages/seaborn/_decorators.py:36: FutureWarning: Pass the following variable as a keyword arg: x. From version 0.12, the only valid positional argument will be `data`, and passing other arguments without an explicit keyword will result in an error or misinterpretation.\n",
      "  warnings.warn(\n"
     ]
    },
    {
     "data": {
      "image/png": "[encoded data removed]",
      "text/plain": [
       "<Figure size 648x432 with 6 Axes>"
      ]
     },
     "metadata": {
      "needs_background": "light"
     },
     "output_type": "display_data"
    }
   ],
   "source": [
    "report_understanding = pd.read_csv('rep-understanding.csv')\n",
    "report_dyads = filter_variables(report_understanding, {\n",
    "    'treatment==':'paired', \n",
    "    'expertise==':'experts'}\n",
    "                                 )[['player','report','accuracy']]\n",
    "fig, ax = plt.subplots(2,3,figsize=(9,6))\n",
    "sns.boxplot(report_dyads['accuracy'], ax=ax[0,0])\n",
    "sns.boxplot(report_dyads['report'], ax=ax[0,1])\n",
    "sns.regplot(x='accuracy', y='report', data=report_dyads, ax=ax[0,2])\n",
    "ax[0,0].set_title(\"With outlier\")\n",
    "ax[0,1].set_title(\"With outlier\")\n",
    "ax[0,2].set_title(\"With outlier\")\n",
    "\n",
    "report_dyads = report_dyads[report_dyads['accuracy']>0.25]\n",
    "\n",
    "sns.boxplot(report_dyads['accuracy'], ax=ax[1,0])\n",
    "sns.boxplot(report_dyads['report'], ax=ax[1,1])\n",
    "sns.regplot(x='accuracy', y='report', data=report_dyads, ax=ax[1,2])\n",
    "ax[1,0].set_title(\"Without outlier\")\n",
    "ax[1,1].set_title(\"Without outlier\")\n",
    "ax[1,2].set_title(\"Without outlier\")\n",
    "\n",
    "plt.tight_layout()\n"
   ]
  },
  {
   "cell_type": "code",
   "execution_count": 39,
   "metadata": {},
   "outputs": [
    {
     "name": "stdout",
     "output_type": "stream",
     "text": [
      "////////////////////No outlier////////////////////\n",
      "==========PAIRED EXPERTS==========\n",
      "Mean accuracy: 0.9713775372631759\n",
      "Mean report: 6.285714285714286\n",
      "Pearson correlation accuracy vs. report: 0.15330026227343127\n",
      "Significance: 0.18316109288082413\n",
      "Number of data points: 77\n",
      "\n",
      "==========SOLO EXPERTS==========\n",
      "Mean accuracy: 0.9533899636180259\n",
      "Mean report: 5.318181818181818\n",
      "Pearson correlation accuracy vs. report: 0.30309361663751927\n",
      "Significance: 0.0040986878971194666\n",
      "Number of data points: 88\n",
      "\n",
      "////////////////////With outlier////////////////////\n",
      "==========PAIRED EXPERTS==========\n",
      "Mean accuracy: 0.9602060303751865\n",
      "Mean report: 6.217948717948718\n",
      "Pearson correlation accuracy vs. report: 0.5489932886114601\n",
      "Significance: 1.946658720517271e-07\n",
      "Number of data points: 78\n",
      "\n",
      "==========SOLO EXPERTS==========\n",
      "Mean accuracy: 0.9533899636180259\n",
      "Mean report: 5.318181818181818\n",
      "Pearson correlation accuracy vs. report: 0.30309361663751927\n",
      "Significance: 0.0040986878971194666\n",
      "Number of data points: 88\n"
     ]
    }
   ],
   "source": [
    "report_dyads = filter_variables(report_understanding, {\n",
    "    'treatment==':'dyad', \n",
    "    'expertise==':'experts'}\n",
    "                                 )[['player','report','accuracy']]\n",
    "report_dyads = report_dyads[report_dyads['accuracy']>0.25]\n",
    "\n",
    "print(\"/\"*20 + \"No outlier\" + \"/\"*20)\n",
    "print(\"=\"*10+\"PAIRED EXPERTS\"+\"=\"*10)\n",
    "print(\"Mean accuracy:\", report_dyads['accuracy'].mean())\n",
    "print(\"Mean report:\", report_dyads['report'].mean())\n",
    "r, p = stats.pearsonr(report_dyads['accuracy'],report_dyads['report'])\n",
    "print(\"Pearson correlation accuracy vs. report:\", r)\n",
    "print(\"Significance:\", p)\n",
    "print(\"Number of data points:\", report_dyads.shape[0])\n",
    "\n",
    "print(\"\")\n",
    "\n",
    "report_solo = filter_variables(report_understanding, {\n",
    "    'treatment==':'single', \n",
    "    'expertise==':'experts'}\n",
    "                                 )[['player','report','accuracy']]\n",
    "print(\"=\"*10+\"SOLO EXPERTS\"+\"=\"*10)\n",
    "print(\"Mean accuracy:\", report_solo['accuracy'].mean())\n",
    "print(\"Mean report:\", report_solo['report'].mean())\n",
    "r, p = stats.pearsonr(report_solo['accuracy'],report_solo['report'])\n",
    "print(\"Pearson correlation accuracy vs. report:\", r)\n",
    "print(\"Significance:\", p)\n",
    "print(\"Number of data points:\", report_solo.shape[0])\n",
    "\n",
    "print(\"\")\n",
    "print(\"/\"*20 + \"With outlier\" + \"/\"*20)\n",
    "\n",
    "report_dyads = filter_variables(report_understanding, {\n",
    "    'treatment==':'dyad', \n",
    "    'expertise==':'experts'}\n",
    "                                 )[['player','report','accuracy']]\n",
    "\n",
    "print(\"=\"*10+\"PAIRED EXPERTS\"+\"=\"*10)\n",
    "print(\"Mean accuracy:\", report_dyads['accuracy'].mean())\n",
    "print(\"Mean report:\", report_dyads['report'].mean())\n",
    "r, p = stats.pearsonr(report_dyads['accuracy'],report_dyads['report'])\n",
    "print(\"Pearson correlation accuracy vs. report:\", r)\n",
    "print(\"Significance:\", p)\n",
    "print(\"Number of data points:\", report_dyads.shape[0])\n",
    "\n",
    "print(\"\")\n",
    "\n",
    "report_solo = filter_variables(report_understanding, {\n",
    "    'treatment==':'single', \n",
    "    'expertise==':'experts'}\n",
    "                                 )[['player','report','accuracy']]\n",
    "print(\"=\"*10+\"SOLO EXPERTS\"+\"=\"*10)\n",
    "print(\"Mean accuracy:\", report_solo['accuracy'].mean())\n",
    "print(\"Mean report:\", report_solo['report'].mean())\n",
    "r, p = stats.pearsonr(report_solo['accuracy'],report_solo['report'])\n",
    "print(\"Pearson correlation accuracy vs. report:\", r)\n",
    "print(\"Significance:\", p)\n",
    "print(\"Number of data points:\", report_solo.shape[0])"
   ]
  },
  {
   "cell_type": "code",
   "execution_count": 40,
   "metadata": {},
   "outputs": [
    {
     "data": {
      "text/plain": [
       "Text(0.5, 1.0, 'Single')"
      ]
     },
     "execution_count": 40,
     "metadata": {},
     "output_type": "execute_result"
    },
    {
     "data": {
      "image/png": "[encoded data removed]",
      "text/plain": [
       "<Figure size 432x216 with 2 Axes>"
      ]
     },
     "metadata": {
      "needs_background": "light"
     },
     "output_type": "display_data"
    }
   ],
   "source": [
    "fig, ax = plt.subplots(1,2,figsize=(6,3))\n",
    "sns.regplot(x='accuracy', y='report', data=report_dyads, scatter_kws={'alpha':0.5}, ax=ax[0])\n",
    "sns.regplot(x='accuracy', y='report', data=report_solo, scatter_kws={'alpha':0.5}, ax=ax[1])\n",
    "ax[0].set_title('Dyad')\n",
    "ax[1].set_title('Single')"
   ]
  },
  {
   "cell_type": "markdown",
   "metadata": {},
   "source": [
    "**Result of test 5:** Accuracy does not make a significant contribution to the report for dyadic experts ($\\mbox{r}(75)\\,{=}\\,.15$, $\\mbox{p}\\,{=}\\,.18$) as compared to a significant influence in the solo condition ($\\mbox{r}(86)\\,{=}\\,.3$, $\\mbox{p}\\,{<}\\,.01$)."
   ]
  },
  {
   "cell_type": "markdown",
   "metadata": {},
   "source": [
    "---"
   ]
  },
  {
   "cell_type": "markdown",
   "metadata": {},
   "source": [
    "**Test 6:** Correlation between *expert* response rate to novices' question vs. report."
   ]
  },
  {
   "cell_type": "code",
   "execution_count": 41,
   "metadata": {},
   "outputs": [
    {
     "name": "stdout",
     "output_type": "stream",
     "text": [
      "////////////////////No outlier////////////////////\n",
      "==========PAIRED EXPERTS==========\n",
      "Mean accuracy: 0.9014044475554871\n",
      "Mean report: 6.2615384615384615\n",
      "Pearson correlation player_responded vs. report: 0.2506858224483809\n",
      "Significance: 0.0439922519882274\n",
      "Number of data points: 65\n",
      " \n",
      "////////////////////Keep outlier////////////////////\n",
      "==========PAIRED EXPERTS==========\n",
      "Mean accuracy: 0.9012148178787205\n",
      "Mean report: 6.181818181818182\n",
      "Pearson correlation player_responded vs. report: 0.2123148263254182\n",
      "Significance: 0.08699443931757916\n",
      "Number of data points: 66\n"
     ]
    }
   ],
   "source": [
    "df_expertos_parejas = filter_variables(report_understanding, {\n",
    "    'treatment==':'dyad', \n",
    "    'expertise==':'experts'}\n",
    "                                 )[['player','report','accuracy','player_responded']]\n",
    "df_expertos_parejas = df_expertos_parejas[df_expertos_parejas['accuracy']>0.2]\n",
    "df_expertos_parejas = df_expertos_parejas[df_expertos_parejas['player_responded'].isna()==False]\n",
    "\n",
    "print(\"/\"*20 + \"No outlier\" + \"/\"*20)\n",
    "print(\"=\"*10+\"PAIRED EXPERTS\"+\"=\"*10)\n",
    "print(\"Mean accuracy:\", df_expertos_parejas['player_responded'].mean())\n",
    "print(\"Mean report:\", df_expertos_parejas['report'].mean())\n",
    "r, p = stats.pearsonr(df_expertos_parejas['player_responded'],df_expertos_parejas['report'])\n",
    "print(\"Pearson correlation player_responded vs. report:\", r)\n",
    "print(\"Significance:\", p)\n",
    "print(\"Number of data points:\", df_expertos_parejas.shape[0])\n",
    "\n",
    "print(\" \")\n",
    "\n",
    "df_expertos_parejas = filter_variables(report_understanding, {\n",
    "    'treatment==':'dyad', \n",
    "    'expertise==':'experts'}\n",
    "                                 )[['player','report','accuracy','player_responded']]\n",
    "df_expertos_parejas = df_expertos_parejas[df_expertos_parejas['player_responded'].isna()==False]\n",
    "\n",
    "print(\"/\"*20 + \"Keep outlier\" + \"/\"*20)\n",
    "print(\"=\"*10+\"PAIRED EXPERTS\"+\"=\"*10)\n",
    "print(\"Mean accuracy:\", df_expertos_parejas['player_responded'].mean())\n",
    "print(\"Mean report:\", df_expertos_parejas['report'].mean())\n",
    "r, p = stats.pearsonr(df_expertos_parejas['player_responded'],df_expertos_parejas['report'])\n",
    "print(\"Pearson correlation player_responded vs. report:\", r)\n",
    "print(\"Significance:\", p)\n",
    "print(\"Number of data points:\", df_expertos_parejas.shape[0])"
   ]
  },
  {
   "cell_type": "markdown",
   "metadata": {},
   "source": [
    "**Results of test 6:** The expert's response rate to the novice's questions commands a positive correlation with the report of understanding ($\\mbox{r}(63)\\,{=}\\,.25$, $\\mbox{p}\\,{=}\\,.044$)."
   ]
  },
  {
   "cell_type": "markdown",
   "metadata": {},
   "source": [
    "---"
   ]
  },
  {
   "cell_type": "markdown",
   "metadata": {},
   "source": [
    "**Test 7:** Descriptive statistics novices' report of understanding."
   ]
  },
  {
   "cell_type": "code",
   "execution_count": null,
   "metadata": {},
   "outputs": [],
   "source": [
    "report_dyads = filter_variables(report_understanding, {\n",
    "    'treatment==':'dyad', \n",
    "    'expertise==':'novices'}\n",
    "                                 )[['player','report']]\n",
    "\n",
    "print(\"=\"*10+\"PAIRED NOVICES\"+\"=\"*10)\n",
    "print(\"Mean report:\", report_dyads['report'].mean())\n",
    "print(\"Standard deviation report:\", report_dyads['report'].std())\n",
    "print(\"Number of data points:\", report_dyads.shape[0])\n",
    "\n",
    "print(\"\")\n",
    "\n",
    "report_solo = filter_variables(report_understanding, {\n",
    "    'treatment==':'single', \n",
    "    'expertise==':'novices'}\n",
    "                                 )[['player','report']]\n",
    "print(\"Mean report:\", report_solo['report'].mean())\n",
    "print(\"Standard deviation report:\", report_solo['report'].std())\n",
    "print(\"Number of data points:\", report_solo.shape[0])\n"
   ]
  },
  {
   "cell_type": "code",
   "execution_count": null,
   "metadata": {},
   "outputs": [],
   "source": [
    "stat, p = stats.ttest_ind(report_dyads['report'],report_solo['report'],)\n",
    "print('Statistics=%.3f, p=%.3f' % (stat, p))\n",
    "if p < 0.05:\n",
    "    print('Reject H0: means are not equal.')\n",
    "else:\n",
    "    print('Cannot reject H0: means are equal.')"
   ]
  },
  {
   "cell_type": "code",
   "execution_count": null,
   "metadata": {},
   "outputs": [],
   "source": [
    "fig,ax = plt.subplots(2,2)\n",
    "ax[0,0].set_title(\"Paired condition\")\n",
    "ax[0,1].set_title(\"Solo condition\")\n",
    "sns.distplot(report_dyads['report'], ax=ax[0,0])\n",
    "sns.distplot(report_solo['report'], ax=ax[0,1])\n",
    "stats.probplot(report_dyads['report'], dist=\"norm\", plot=ax[1,0])\n",
    "stats.probplot(report_solo['report'], dist=\"norm\", plot=ax[1,1])\n",
    "plt.tight_layout()"
   ]
  },
  {
   "cell_type": "code",
   "execution_count": null,
   "metadata": {},
   "outputs": [],
   "source": [
    "stat, p = stats.shapiro(report_dyads['report'])\n",
    "print('Normality test for accuracy in PAIRED condition')\n",
    "print('Statistics=%.3f, p=%.3f' % (stat, p))\n",
    "if p < 0.05:\n",
    "    print('Sample is not Gaussian')\n",
    "else:\n",
    "    print('Sample is Gaussian')\n",
    "\n",
    "stat, p = stats.shapiro(report_solo['report'])\n",
    "print('Normality test for accuracy in SOLO condition')\n",
    "print('Statistics=%.3f, p=%.3f' % (stat, p))\n",
    "if p < 0.05:\n",
    "    print('Sample is not Gaussian')\n",
    "else:\n",
    "    print('Sample is Gaussian')"
   ]
  },
  {
   "cell_type": "code",
   "execution_count": null,
   "metadata": {},
   "outputs": [],
   "source": [
    "stat, p = stats.mannwhitneyu(\n",
    "    report_dyads['report'], \n",
    "    report_solo['report']\n",
    ")\n",
    "print('Statistics=%.3f, p=%.3f' % (stat, p))"
   ]
  },
  {
   "cell_type": "markdown",
   "metadata": {},
   "source": [
    "---"
   ]
  },
  {
   "cell_type": "markdown",
   "metadata": {},
   "source": [
    "**Test 8:** Correlation of *novice* accuracy and report, per condition."
   ]
  },
  {
   "cell_type": "code",
   "execution_count": null,
   "metadata": {
    "scrolled": true
   },
   "outputs": [],
   "source": [
    "report_dyads = filter_variables(report_understanding, {\n",
    "    'treatment==':'dyad', \n",
    "    'expertise==':'novices'}\n",
    "                                 )[['player','report','accuracy']]\n",
    "print(\"=\"*10+\"PAIRED NOVICES\"+\"=\"*10)\n",
    "print(\"Mean accuracy:\", report_dyads['accuracy'].mean())\n",
    "print(\"Mean report:\", report_dyads['report'].mean())\n",
    "r, p = stats.pearsonr(report_dyads['accuracy'],report_dyads['report'])\n",
    "print(\"Pearson correlation accuracy vs. report:\", r)\n",
    "print(\"Significance:\", p)\n",
    "print(\"Number of data points:\", report_dyads.shape[0])\n",
    "\n",
    "print(\"\")\n",
    "\n",
    "report_solo = filter_variables(report_understanding, {\n",
    "    'treatment==':'single', \n",
    "    'expertise==':'novices'}\n",
    "                                 )[['player','report','accuracy']]\n",
    "print(\"=\"*10+\"SOLO NOVICES\"+\"=\"*10)\n",
    "print(\"Mean accuracy:\", report_solo['accuracy'].mean())\n",
    "print(\"Mean report:\", report_solo['report'].mean())\n",
    "r, p = stats.pearsonr(report_solo['accuracy'],report_solo['report'])\n",
    "print(\"Pearson correlation accuracy vs. report:\", r)\n",
    "print(\"Significance:\", p)\n",
    "print(\"Number of data points:\", report_solo.shape[0])\n"
   ]
  },
  {
   "cell_type": "markdown",
   "metadata": {},
   "source": [
    "**Result of test 8:** For solo novices, the report is highly correlated with accuracy ($\\mbox{r}(88)\\,{=}\\,.26$, $\\mbox{p}\\,{=}\\,.01$). But for paired novices the correlation is very low and not statistically significant ($\\mbox{r}(76)\\,{=}\\,.07$, $\\mbox{p}\\,{=}\\,.54$)."
   ]
  },
  {
   "cell_type": "markdown",
   "metadata": {},
   "source": [
    "---"
   ]
  },
  {
   "cell_type": "markdown",
   "metadata": {},
   "source": [
    "**Test 9:** Correlation between report with and rate of queries answered by expert partner."
   ]
  },
  {
   "cell_type": "code",
   "execution_count": null,
   "metadata": {},
   "outputs": [],
   "source": [
    "report_dyads = filter_variables(report_understanding, {\n",
    "    'treatment==':'dyad', \n",
    "    'expertise==':'novices'}\n",
    "                                 )[['player','report','accuracy','queried','answered']]\n",
    "report_dyads = report_dyads[report_dyads['answered'].isna()==False]\n",
    "print(\"=\"*10+\"PAIRED NOVICES\"+\"=\"*10)\n",
    "print(\"Mean accuracy:\", report_dyads['answered'].mean())\n",
    "print(\"Mean report:\", report_dyads['report'].mean())\n",
    "r, p = stats.pearsonr(report_dyads['answered'],report_dyads['report'])\n",
    "print(\"Pearson correlation answered vs. report:\", r)\n",
    "print(\"Significance:\", p)\n",
    "print(\"Number of data points:\", report_dyads.shape[0])"
   ]
  },
  {
   "cell_type": "markdown",
   "metadata": {},
   "source": [
    "**Result test 9:** There is an inverse correlation between the report of understanding with respect to the rate of response to the queries by the expert partner ($\\mbox{r}(65)\\,{=}\\,-.27$, $\\mbox{p}\\,{=}\\,.028$)."
   ]
  },
  {
   "cell_type": "markdown",
   "metadata": {},
   "source": [
    "---"
   ]
  }
 ],
 "metadata": {
  "kernelspec": {
   "display_name": "Python 3",
   "language": "python",
   "name": "python3"
  },
  "language_info": {
   "codemirror_mode": {
    "name": "ipython",
    "version": 3
   },
   "file_extension": ".py",
   "mimetype": "text/x-python",
   "name": "python",
   "nbconvert_exporter": "python",
   "pygments_lexer": "ipython3",
   "version": "3.9.7"
  }
 },
 "nbformat": 4,
 "nbformat_minor": 4
}
