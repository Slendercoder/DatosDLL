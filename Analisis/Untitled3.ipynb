{
 "cells": [
  {
   "cell_type": "code",
   "execution_count": 4,
   "metadata": {},
   "outputs": [],
   "source": [
    "import pandas as pd\n",
    "import matplotlib.pyplot as plt\n",
    "from matplotlib.gridspec import GridSpec\n",
    "import seaborn as sns\n",
    "import numpy as np\n",
    "#from statsmodels.formula.api import ols\n",
    "#import statsmodels.formula.api as smf\n",
    "from scipy import stats\n",
    "import scipy.stats.distributions as dist"
   ]
  },
  {
   "cell_type": "code",
   "execution_count": 6,
   "metadata": {},
   "outputs": [],
   "source": [
    "def filter_variables(df, dict_variables) :\n",
    "    inicial = True\n",
    "    for key in dict_variables.keys() :\n",
    "        if type(dict_variables[key]) == str:\n",
    "            if inicial :\n",
    "                filtro = f\"({key}\\'{dict_variables[key]}\\')\"\n",
    "                inicial = False\n",
    "            else:\n",
    "                filtro = filtro + f\" and ({key}\\'{dict_variables[key]}\\')\"\n",
    "        else:\n",
    "            if inicial :\n",
    "                filtro = f\"({key}{dict_variables[key]})\"\n",
    "                inicial = False\n",
    "            else:\n",
    "                filtro = filtro + f\" and ({key}{dict_variables[key]})\"\n",
    "\n",
    "    return pd.DataFrame(df.query(filtro))"
   ]
  },
  {
   "cell_type": "code",
   "execution_count": null,
   "metadata": {},
   "outputs": [],
   "source": [
    "data = pd.read_csv('performances.csv')\n",
    "data.shape"
   ]
  },
  {
   "cell_type": "code",
   "execution_count": 61,
   "metadata": {},
   "outputs": [
    {
     "data": {
      "text/html": [
       "<div>\n",
       "<style scoped>\n",
       "    .dataframe tbody tr th:only-of-type {\n",
       "        vertical-align: middle;\n",
       "    }\n",
       "\n",
       "    .dataframe tbody tr th {\n",
       "        vertical-align: top;\n",
       "    }\n",
       "\n",
       "    .dataframe thead th {\n",
       "        text-align: right;\n",
       "    }\n",
       "</style>\n",
       "<table border=\"1\" class=\"dataframe\">\n",
       "  <thead>\n",
       "    <tr style=\"text-align: right;\">\n",
       "      <th></th>\n",
       "      <th>treatment</th>\n",
       "      <th>stage</th>\n",
       "      <th>dyad</th>\n",
       "      <th>player</th>\n",
       "      <th>expert_in</th>\n",
       "      <th>novice_in</th>\n",
       "      <th>round</th>\n",
       "      <th>object</th>\n",
       "      <th>position</th>\n",
       "      <th>kind</th>\n",
       "      <th>classif</th>\n",
       "      <th>accuracy</th>\n",
       "      <th>expert_dog</th>\n",
       "      <th>queried</th>\n",
       "      <th>answer_correct</th>\n",
       "      <th>answered</th>\n",
       "      <th>yes/no</th>\n",
       "    </tr>\n",
       "  </thead>\n",
       "  <tbody>\n",
       "    <tr>\n",
       "      <th>0</th>\n",
       "      <td>single</td>\n",
       "      <td>Training rounds</td>\n",
       "      <td>32519-32519</td>\n",
       "      <td>325192931513079</td>\n",
       "      <td>terrier</td>\n",
       "      <td>hound</td>\n",
       "      <td>1</td>\n",
       "      <td>C11.jpg</td>\n",
       "      <td>frame1</td>\n",
       "      <td>C</td>\n",
       "      <td>C</td>\n",
       "      <td>1</td>\n",
       "      <td>True</td>\n",
       "      <td>NaN</td>\n",
       "      <td>NaN</td>\n",
       "      <td>NaN</td>\n",
       "      <td>NaN</td>\n",
       "    </tr>\n",
       "    <tr>\n",
       "      <th>1</th>\n",
       "      <td>single</td>\n",
       "      <td>Training rounds</td>\n",
       "      <td>32519-32519</td>\n",
       "      <td>325192931513079</td>\n",
       "      <td>terrier</td>\n",
       "      <td>hound</td>\n",
       "      <td>1</td>\n",
       "      <td>A1.jpg</td>\n",
       "      <td>frame2</td>\n",
       "      <td>A</td>\n",
       "      <td>C</td>\n",
       "      <td>0</td>\n",
       "      <td>True</td>\n",
       "      <td>NaN</td>\n",
       "      <td>NaN</td>\n",
       "      <td>NaN</td>\n",
       "      <td>NaN</td>\n",
       "    </tr>\n",
       "    <tr>\n",
       "      <th>2</th>\n",
       "      <td>single</td>\n",
       "      <td>Training rounds</td>\n",
       "      <td>32519-32519</td>\n",
       "      <td>325192931513079</td>\n",
       "      <td>terrier</td>\n",
       "      <td>hound</td>\n",
       "      <td>1</td>\n",
       "      <td>A7.jpg</td>\n",
       "      <td>frame3</td>\n",
       "      <td>A</td>\n",
       "      <td>A</td>\n",
       "      <td>1</td>\n",
       "      <td>True</td>\n",
       "      <td>NaN</td>\n",
       "      <td>NaN</td>\n",
       "      <td>NaN</td>\n",
       "      <td>NaN</td>\n",
       "    </tr>\n",
       "    <tr>\n",
       "      <th>3</th>\n",
       "      <td>single</td>\n",
       "      <td>Training rounds</td>\n",
       "      <td>32519-32519</td>\n",
       "      <td>325192931513079</td>\n",
       "      <td>terrier</td>\n",
       "      <td>hound</td>\n",
       "      <td>1</td>\n",
       "      <td>A6.jpg</td>\n",
       "      <td>frame4</td>\n",
       "      <td>A</td>\n",
       "      <td>A</td>\n",
       "      <td>1</td>\n",
       "      <td>True</td>\n",
       "      <td>NaN</td>\n",
       "      <td>NaN</td>\n",
       "      <td>NaN</td>\n",
       "      <td>NaN</td>\n",
       "    </tr>\n",
       "    <tr>\n",
       "      <th>4</th>\n",
       "      <td>single</td>\n",
       "      <td>Training rounds</td>\n",
       "      <td>32519-32519</td>\n",
       "      <td>325192931513079</td>\n",
       "      <td>terrier</td>\n",
       "      <td>hound</td>\n",
       "      <td>1</td>\n",
       "      <td>A5.jpg</td>\n",
       "      <td>frame5</td>\n",
       "      <td>A</td>\n",
       "      <td>A</td>\n",
       "      <td>1</td>\n",
       "      <td>True</td>\n",
       "      <td>NaN</td>\n",
       "      <td>NaN</td>\n",
       "      <td>NaN</td>\n",
       "      <td>NaN</td>\n",
       "    </tr>\n",
       "  </tbody>\n",
       "</table>\n",
       "</div>"
      ],
      "text/plain": [
       "  treatment            stage         dyad           player expert_in  \\\n",
       "0    single  Training rounds  32519-32519  325192931513079   terrier   \n",
       "1    single  Training rounds  32519-32519  325192931513079   terrier   \n",
       "2    single  Training rounds  32519-32519  325192931513079   terrier   \n",
       "3    single  Training rounds  32519-32519  325192931513079   terrier   \n",
       "4    single  Training rounds  32519-32519  325192931513079   terrier   \n",
       "\n",
       "  novice_in  round   object position kind classif  accuracy  expert_dog  \\\n",
       "0     hound      1  C11.jpg   frame1    C       C         1        True   \n",
       "1     hound      1   A1.jpg   frame2    A       C         0        True   \n",
       "2     hound      1   A7.jpg   frame3    A       A         1        True   \n",
       "3     hound      1   A6.jpg   frame4    A       A         1        True   \n",
       "4     hound      1   A5.jpg   frame5    A       A         1        True   \n",
       "\n",
       "   queried  answer_correct  answered  yes/no  \n",
       "0      NaN             NaN       NaN     NaN  \n",
       "1      NaN             NaN       NaN     NaN  \n",
       "2      NaN             NaN       NaN     NaN  \n",
       "3      NaN             NaN       NaN     NaN  \n",
       "4      NaN             NaN       NaN     NaN  "
      ]
     },
     "execution_count": 61,
     "metadata": {},
     "output_type": "execute_result"
    }
   ],
   "source": [
    "df_training = filter_variables(data, {\n",
    "    'stage==':'Training rounds'\n",
    "})\n",
    "df_training.head()"
   ]
  },
  {
   "cell_type": "code",
   "execution_count": 62,
   "metadata": {},
   "outputs": [
    {
     "data": {
      "text/plain": [
       "<AxesSubplot:xlabel='round', ylabel='accuracy'>"
      ]
     },
     "execution_count": 62,
     "metadata": {},
     "output_type": "execute_result"
    },
    {
     "data": {
      "image/png": "[encoded data removed]",
      "text/plain": [
       "<Figure size 432x288 with 1 Axes>"
      ]
     },
     "metadata": {
      "needs_background": "light"
     },
     "output_type": "display_data"
    }
   ],
   "source": [
    "sns.lineplot(x='round', y='accuracy', \n",
    "             hue='treatment', data=df_training,\n",
    "             estimator=lambda x:sum(x)/len(x),\n",
    "             ci=95\n",
    "            )"
   ]
  },
  {
   "cell_type": "code",
   "execution_count": 63,
   "metadata": {},
   "outputs": [
    {
     "data": {
      "text/html": [
       "<div>\n",
       "<style scoped>\n",
       "    .dataframe tbody tr th:only-of-type {\n",
       "        vertical-align: middle;\n",
       "    }\n",
       "\n",
       "    .dataframe tbody tr th {\n",
       "        vertical-align: top;\n",
       "    }\n",
       "\n",
       "    .dataframe thead th {\n",
       "        text-align: right;\n",
       "    }\n",
       "</style>\n",
       "<table border=\"1\" class=\"dataframe\">\n",
       "  <thead>\n",
       "    <tr style=\"text-align: right;\">\n",
       "      <th>treatment</th>\n",
       "      <th>dyad</th>\n",
       "      <th>single</th>\n",
       "    </tr>\n",
       "    <tr>\n",
       "      <th>accuracy</th>\n",
       "      <th></th>\n",
       "      <th></th>\n",
       "    </tr>\n",
       "  </thead>\n",
       "  <tbody>\n",
       "    <tr>\n",
       "      <th>0</th>\n",
       "      <td>385</td>\n",
       "      <td>633</td>\n",
       "    </tr>\n",
       "    <tr>\n",
       "      <th>1</th>\n",
       "      <td>4510</td>\n",
       "      <td>4822</td>\n",
       "    </tr>\n",
       "  </tbody>\n",
       "</table>\n",
       "</div>"
      ],
      "text/plain": [
       "treatment  dyad  single\n",
       "accuracy               \n",
       "0           385     633\n",
       "1          4510    4822"
      ]
     },
     "execution_count": 63,
     "metadata": {},
     "output_type": "execute_result"
    }
   ],
   "source": [
    "pd.crosstab(df_training['accuracy'], df_training['treatment'])"
   ]
  },
  {
   "cell_type": "code",
   "execution_count": 65,
   "metadata": {},
   "outputs": [
    {
     "data": {
      "text/html": [
       "<div>\n",
       "<style scoped>\n",
       "    .dataframe tbody tr th:only-of-type {\n",
       "        vertical-align: middle;\n",
       "    }\n",
       "\n",
       "    .dataframe tbody tr th {\n",
       "        vertical-align: top;\n",
       "    }\n",
       "\n",
       "    .dataframe thead th {\n",
       "        text-align: right;\n",
       "    }\n",
       "</style>\n",
       "<table border=\"1\" class=\"dataframe\">\n",
       "  <thead>\n",
       "    <tr style=\"text-align: right;\">\n",
       "      <th>treatment</th>\n",
       "      <th>dyad</th>\n",
       "      <th>single</th>\n",
       "    </tr>\n",
       "    <tr>\n",
       "      <th>accuracy</th>\n",
       "      <th></th>\n",
       "      <th></th>\n",
       "    </tr>\n",
       "  </thead>\n",
       "  <tbody>\n",
       "    <tr>\n",
       "      <th>0</th>\n",
       "      <td>0.078652</td>\n",
       "      <td>0.11604</td>\n",
       "    </tr>\n",
       "    <tr>\n",
       "      <th>1</th>\n",
       "      <td>0.921348</td>\n",
       "      <td>0.88396</td>\n",
       "    </tr>\n",
       "  </tbody>\n",
       "</table>\n",
       "</div>"
      ],
      "text/plain": [
       "treatment      dyad   single\n",
       "accuracy                    \n",
       "0          0.078652  0.11604\n",
       "1          0.921348  0.88396"
      ]
     },
     "execution_count": 65,
     "metadata": {},
     "output_type": "execute_result"
    }
   ],
   "source": [
    "pd.crosstab(df_training['accuracy'], df_training['treatment']).apply(lambda r:r/r.sum(),axis=0)"
   ]
  },
  {
   "cell_type": "code",
   "execution_count": 58,
   "metadata": {},
   "outputs": [
    {
     "name": "stdout",
     "output_type": "stream",
     "text": [
      "Computed p-value is 1.8048749754428522e-10\n",
      "Reject H0: proportions are not equal.\n"
     ]
    }
   ],
   "source": [
    "pvalue = test_difference_proportions_accuracy(df_training, 'treatment') # Multiplied by two indicates a two tailed testing.\n",
    "print(\"Computed p-value is\", pvalue)\n",
    "if pvalue < 0.05:\n",
    "    print('Reject H0: proportions are not equal.')\n",
    "else:\n",
    "    print('Cannot reject H0: proportions are equal.')"
   ]
  },
  {
   "cell_type": "code",
   "execution_count": 22,
   "metadata": {},
   "outputs": [],
   "source": [
    "df_game = filter_variables(data, {\n",
    "    'stage==':'Game rounds',\n",
    "    'expert_dog==':False\n",
    "})"
   ]
  },
  {
   "cell_type": "code",
   "execution_count": 45,
   "metadata": {},
   "outputs": [
    {
     "data": {
      "text/plain": [
       "<AxesSubplot:xlabel='round', ylabel='accuracy'>"
      ]
     },
     "execution_count": 45,
     "metadata": {},
     "output_type": "execute_result"
    },
    {
     "data": {
      "image/png": "[encoded data removed]",
      "text/plain": [
       "<Figure size 432x288 with 1 Axes>"
      ]
     },
     "metadata": {
      "needs_background": "light"
     },
     "output_type": "display_data"
    }
   ],
   "source": [
    "sns.lineplot(x='round', y='accuracy', \n",
    "             hue='treatment', data=df_game,\n",
    "             estimator=lambda x:sum(x)/len(x),\n",
    "             ci=95\n",
    "            )"
   ]
  },
  {
   "cell_type": "code",
   "execution_count": 24,
   "metadata": {},
   "outputs": [
    {
     "data": {
      "text/html": [
       "<div>\n",
       "<style scoped>\n",
       "    .dataframe tbody tr th:only-of-type {\n",
       "        vertical-align: middle;\n",
       "    }\n",
       "\n",
       "    .dataframe tbody tr th {\n",
       "        vertical-align: top;\n",
       "    }\n",
       "\n",
       "    .dataframe thead th {\n",
       "        text-align: right;\n",
       "    }\n",
       "</style>\n",
       "<table border=\"1\" class=\"dataframe\">\n",
       "  <thead>\n",
       "    <tr style=\"text-align: right;\">\n",
       "      <th>treatment</th>\n",
       "      <th>dyad</th>\n",
       "      <th>single</th>\n",
       "    </tr>\n",
       "    <tr>\n",
       "      <th>accuracy</th>\n",
       "      <th></th>\n",
       "      <th></th>\n",
       "    </tr>\n",
       "  </thead>\n",
       "  <tbody>\n",
       "    <tr>\n",
       "      <th>0</th>\n",
       "      <td>429</td>\n",
       "      <td>561</td>\n",
       "    </tr>\n",
       "    <tr>\n",
       "      <th>1</th>\n",
       "      <td>2007</td>\n",
       "      <td>2199</td>\n",
       "    </tr>\n",
       "  </tbody>\n",
       "</table>\n",
       "</div>"
      ],
      "text/plain": [
       "treatment  dyad  single\n",
       "accuracy               \n",
       "0           429     561\n",
       "1          2007    2199"
      ]
     },
     "execution_count": 24,
     "metadata": {},
     "output_type": "execute_result"
    }
   ],
   "source": [
    "pd.crosstab(df_game['accuracy'], df_game['treatment'])"
   ]
  },
  {
   "cell_type": "code",
   "execution_count": 25,
   "metadata": {},
   "outputs": [
    {
     "data": {
      "text/html": [
       "<div>\n",
       "<style scoped>\n",
       "    .dataframe tbody tr th:only-of-type {\n",
       "        vertical-align: middle;\n",
       "    }\n",
       "\n",
       "    .dataframe tbody tr th {\n",
       "        vertical-align: top;\n",
       "    }\n",
       "\n",
       "    .dataframe thead th {\n",
       "        text-align: right;\n",
       "    }\n",
       "</style>\n",
       "<table border=\"1\" class=\"dataframe\">\n",
       "  <thead>\n",
       "    <tr style=\"text-align: right;\">\n",
       "      <th>treatment</th>\n",
       "      <th>dyad</th>\n",
       "      <th>single</th>\n",
       "    </tr>\n",
       "    <tr>\n",
       "      <th>accuracy</th>\n",
       "      <th></th>\n",
       "      <th></th>\n",
       "    </tr>\n",
       "  </thead>\n",
       "  <tbody>\n",
       "    <tr>\n",
       "      <th>0</th>\n",
       "      <td>0.176108</td>\n",
       "      <td>0.203261</td>\n",
       "    </tr>\n",
       "    <tr>\n",
       "      <th>1</th>\n",
       "      <td>0.823892</td>\n",
       "      <td>0.796739</td>\n",
       "    </tr>\n",
       "  </tbody>\n",
       "</table>\n",
       "</div>"
      ],
      "text/plain": [
       "treatment      dyad    single\n",
       "accuracy                     \n",
       "0          0.176108  0.203261\n",
       "1          0.823892  0.796739"
      ]
     },
     "execution_count": 25,
     "metadata": {},
     "output_type": "execute_result"
    }
   ],
   "source": [
    "pd.crosstab(df_game['accuracy'], df_game['treatment']).apply(lambda r:r/r.sum(),axis=0)"
   ]
  },
  {
   "cell_type": "code",
   "execution_count": 26,
   "metadata": {},
   "outputs": [
    {
     "data": {
      "text/html": [
       "<div>\n",
       "<style scoped>\n",
       "    .dataframe tbody tr th:only-of-type {\n",
       "        vertical-align: middle;\n",
       "    }\n",
       "\n",
       "    .dataframe tbody tr th {\n",
       "        vertical-align: top;\n",
       "    }\n",
       "\n",
       "    .dataframe thead th {\n",
       "        text-align: right;\n",
       "    }\n",
       "</style>\n",
       "<table border=\"1\" class=\"dataframe\">\n",
       "  <thead>\n",
       "    <tr style=\"text-align: right;\">\n",
       "      <th></th>\n",
       "      <th>proportions_accuracy</th>\n",
       "      <th>total_counts</th>\n",
       "    </tr>\n",
       "    <tr>\n",
       "      <th>treatment</th>\n",
       "      <th></th>\n",
       "      <th></th>\n",
       "    </tr>\n",
       "  </thead>\n",
       "  <tbody>\n",
       "    <tr>\n",
       "      <th>dyad</th>\n",
       "      <td>0.823892</td>\n",
       "      <td>2436</td>\n",
       "    </tr>\n",
       "    <tr>\n",
       "      <th>single</th>\n",
       "      <td>0.796739</td>\n",
       "      <td>2760</td>\n",
       "    </tr>\n",
       "  </tbody>\n",
       "</table>\n",
       "</div>"
      ],
      "text/plain": [
       "           proportions_accuracy  total_counts\n",
       "treatment                                    \n",
       "dyad                   0.823892          2436\n",
       "single                 0.796739          2760"
      ]
     },
     "execution_count": 26,
     "metadata": {},
     "output_type": "execute_result"
    }
   ],
   "source": [
    "total_proportion_accuracy = df_game['accuracy'].mean()\n",
    "num_single = df_game[df_game['treatment']==\"single\"].shape[0]\n",
    "num_dyad = df_game[df_game['treatment']==\"dyad\"].shape[0]\n",
    "#This table helps us to calculate the SE.\n",
    "prop = df_game.groupby(\"treatment\")[\"accuracy\"].agg([lambda z: np.mean(z==1), \"size\"])\n",
    "prop.columns = ['proportions_accuracy','total_counts']\n",
    "prop.head()"
   ]
  },
  {
   "cell_type": "code",
   "execution_count": 27,
   "metadata": {},
   "outputs": [
    {
     "name": "stdout",
     "output_type": "stream",
     "text": [
      "Sample Standard Error 0.010917532093506408\n"
     ]
    }
   ],
   "source": [
    "#Calculating standard error\n",
    "variance = total_proportion_accuracy * (1 - total_proportion_accuracy)\n",
    "standard_error = np.sqrt(variance * (1 / prop.total_counts.single + 1 / prop.total_counts.dyad))\n",
    "print(\"Sample Standard Error\",standard_error)"
   ]
  },
  {
   "cell_type": "code",
   "execution_count": 28,
   "metadata": {},
   "outputs": [
    {
     "name": "stdout",
     "output_type": "stream",
     "text": [
      "The best estimate is -0.02715249518098095\n",
      "Computed Test Statistic is -2.487054303887127\n"
     ]
    }
   ],
   "source": [
    "# Calculate the test statistic \n",
    "best_estimate = (prop.proportions_accuracy.single - prop.proportions_accuracy.dyad)\n",
    "print(\"The best estimate is\",best_estimate)\n",
    "hypothesized_estimate = 0\n",
    "test_stat = (best_estimate-hypothesized_estimate) / standard_error\n",
    "print(\"Computed Test Statistic is\",test_stat)"
   ]
  },
  {
   "cell_type": "code",
   "execution_count": 29,
   "metadata": {},
   "outputs": [
    {
     "name": "stdout",
     "output_type": "stream",
     "text": [
      "Computed P-value is 0.012880573605038506\n"
     ]
    }
   ],
   "source": [
    "# Calculate the  p-value\n",
    "pvalue = 2*dist.norm.cdf(-np.abs(test_stat)) # Multiplied by two indicates a two tailed testing.\n",
    "print(\"Computed P-value is\", pvalue)"
   ]
  },
  {
   "cell_type": "code",
   "execution_count": 30,
   "metadata": {},
   "outputs": [],
   "source": [
    "def test_difference_proportions_accuracy(df, variable:str):\n",
    "    treatments = df[variable].unique().tolist()\n",
    "    assert(len(treatments) == 2)\n",
    "    treatment1 = treatments[0]\n",
    "    treatment2 = treatments[1]\n",
    "    total_proportion_accuracy = df['accuracy'].mean()\n",
    "    prop = df.groupby(variable)[\"accuracy\"].agg([lambda z: np.mean(z==1), \"size\"])\n",
    "    prop.columns = ['proportions_accuracy','total_counts']\n",
    "    variance = total_proportion_accuracy * (1 - total_proportion_accuracy)\n",
    "    standard_error = np.sqrt(variance * (1 / prop.total_counts[treatment1] + 1 / prop.total_counts[treatment2]))\n",
    "    best_estimate = (prop.proportions_accuracy[treatment1] - prop.proportions_accuracy[treatment2])\n",
    "    hypothesized_estimate = 0\n",
    "    test_stat = (best_estimate-hypothesized_estimate) / standard_error\n",
    "    return 2*dist.norm.cdf(-np.abs(test_stat)) # Multiplied by two indicates a two tailed testing.\n"
   ]
  },
  {
   "cell_type": "code",
   "execution_count": 31,
   "metadata": {},
   "outputs": [
    {
     "name": "stdout",
     "output_type": "stream",
     "text": [
      "Computed P-value is 0.012880573605038506\n"
     ]
    }
   ],
   "source": [
    "pvalue = test_difference_proportions_accuracy(df_game, 'treatment') # Multiplied by two indicates a two tailed testing.\n",
    "print(\"Computed P-value is\", pvalue)"
   ]
  },
  {
   "cell_type": "code",
   "execution_count": 36,
   "metadata": {},
   "outputs": [
    {
     "data": {
      "text/plain": [
       "<AxesSubplot:xlabel='treatment', ylabel='accuracy'>"
      ]
     },
     "execution_count": 36,
     "metadata": {},
     "output_type": "execute_result"
    },
    {
     "data": {
      "image/png": "[encoded data removed]",
      "text/plain": [
       "<Figure size 216x288 with 1 Axes>"
      ]
     },
     "metadata": {
      "needs_background": "light"
     },
     "output_type": "display_data"
    }
   ],
   "source": [
    "fig, ax = plt.subplots(figsize=(3,4))\n",
    "sns.barplot(x='treatment', y='accuracy', data=df_game, capsize=.2)"
   ]
  },
  {
   "cell_type": "code",
   "execution_count": null,
   "metadata": {},
   "outputs": [],
   "source": []
  },
  {
   "cell_type": "code",
   "execution_count": null,
   "metadata": {},
   "outputs": [],
   "source": []
  },
  {
   "cell_type": "code",
   "execution_count": null,
   "metadata": {},
   "outputs": [],
   "source": []
  },
  {
   "cell_type": "code",
   "execution_count": 14,
   "metadata": {},
   "outputs": [
    {
     "name": "stdout",
     "output_type": "stream",
     "text": [
      "0.14682580235331444\n",
      "0.8777514007871419\n",
      "0.21951455295961364\n",
      "0.6830999875414241\n",
      "0.8837940680877097\n",
      "0.5336312754127237\n",
      "0.6841478500667864\n",
      "0.39295633913365613\n",
      "0.7700176816075541\n",
      "0.09598135586117683\n",
      "0.8112015264349062\n",
      "0.152935024416633\n",
      "0.0518796170706871\n",
      "0.7990865281847505\n",
      "0.9466399990814812\n",
      "0.6104613709896018\n",
      "0.7810189828317622\n",
      "0.9796321991684958\n",
      "0.45608019217534956\n",
      "0.24730088750130985\n",
      "0.058725570887376476\n",
      "0.9117822204002637\n",
      "0.5145263294504822\n",
      "0.20438002175674042\n",
      "0.9467688403081148\n"
     ]
    }
   ],
   "source": [
    "for round, grp in df_game.groupby('round'):\n",
    "    pvalue = test_difference_proportions_accuracy(grp, 'treatment')\n",
    "    print(pvalue)"
   ]
  },
  {
   "cell_type": "code",
   "execution_count": 15,
   "metadata": {},
   "outputs": [
    {
     "data": {
      "text/html": [
       "<div>\n",
       "<style scoped>\n",
       "    .dataframe tbody tr th:only-of-type {\n",
       "        vertical-align: middle;\n",
       "    }\n",
       "\n",
       "    .dataframe tbody tr th {\n",
       "        vertical-align: top;\n",
       "    }\n",
       "\n",
       "    .dataframe thead th {\n",
       "        text-align: right;\n",
       "    }\n",
       "</style>\n",
       "<table border=\"1\" class=\"dataframe\">\n",
       "  <thead>\n",
       "    <tr style=\"text-align: right;\">\n",
       "      <th></th>\n",
       "      <th>treatment</th>\n",
       "      <th>stage</th>\n",
       "      <th>dyad</th>\n",
       "      <th>player</th>\n",
       "      <th>expert_in</th>\n",
       "      <th>novice_in</th>\n",
       "      <th>round</th>\n",
       "      <th>object</th>\n",
       "      <th>position</th>\n",
       "      <th>kind</th>\n",
       "      <th>classif</th>\n",
       "      <th>accuracy</th>\n",
       "      <th>expert_dog</th>\n",
       "      <th>queried</th>\n",
       "      <th>answer_correct</th>\n",
       "      <th>answered</th>\n",
       "      <th>yes/no</th>\n",
       "      <th>num_queries</th>\n",
       "    </tr>\n",
       "  </thead>\n",
       "  <tbody>\n",
       "    <tr>\n",
       "      <th>11206</th>\n",
       "      <td>dyad</td>\n",
       "      <td>Game rounds</td>\n",
       "      <td>45981-38174</td>\n",
       "      <td>459819203408978</td>\n",
       "      <td>hound</td>\n",
       "      <td>terrier</td>\n",
       "      <td>1</td>\n",
       "      <td>C1.jpg</td>\n",
       "      <td>frame2</td>\n",
       "      <td>C</td>\n",
       "      <td>A</td>\n",
       "      <td>0</td>\n",
       "      <td>False</td>\n",
       "      <td>0</td>\n",
       "      <td>NaN</td>\n",
       "      <td>NaN</td>\n",
       "      <td>NaN</td>\n",
       "      <td>0.0</td>\n",
       "    </tr>\n",
       "    <tr>\n",
       "      <th>11209</th>\n",
       "      <td>dyad</td>\n",
       "      <td>Game rounds</td>\n",
       "      <td>45981-38174</td>\n",
       "      <td>459819203408978</td>\n",
       "      <td>hound</td>\n",
       "      <td>terrier</td>\n",
       "      <td>1</td>\n",
       "      <td>A10.jpg</td>\n",
       "      <td>frame5</td>\n",
       "      <td>A</td>\n",
       "      <td>C</td>\n",
       "      <td>0</td>\n",
       "      <td>False</td>\n",
       "      <td>0</td>\n",
       "      <td>NaN</td>\n",
       "      <td>NaN</td>\n",
       "      <td>NaN</td>\n",
       "      <td>0.0</td>\n",
       "    </tr>\n",
       "    <tr>\n",
       "      <th>11210</th>\n",
       "      <td>dyad</td>\n",
       "      <td>Game rounds</td>\n",
       "      <td>45981-38174</td>\n",
       "      <td>38174543864515</td>\n",
       "      <td>terrier</td>\n",
       "      <td>hound</td>\n",
       "      <td>1</td>\n",
       "      <td>B1.jpg</td>\n",
       "      <td>frame1</td>\n",
       "      <td>B</td>\n",
       "      <td>B</td>\n",
       "      <td>1</td>\n",
       "      <td>False</td>\n",
       "      <td>0</td>\n",
       "      <td>NaN</td>\n",
       "      <td>NaN</td>\n",
       "      <td>NaN</td>\n",
       "      <td>0.0</td>\n",
       "    </tr>\n",
       "    <tr>\n",
       "      <th>11212</th>\n",
       "      <td>dyad</td>\n",
       "      <td>Game rounds</td>\n",
       "      <td>45981-38174</td>\n",
       "      <td>38174543864515</td>\n",
       "      <td>terrier</td>\n",
       "      <td>hound</td>\n",
       "      <td>1</td>\n",
       "      <td>B5.jpg</td>\n",
       "      <td>frame3</td>\n",
       "      <td>B</td>\n",
       "      <td>D</td>\n",
       "      <td>0</td>\n",
       "      <td>False</td>\n",
       "      <td>0</td>\n",
       "      <td>NaN</td>\n",
       "      <td>NaN</td>\n",
       "      <td>NaN</td>\n",
       "      <td>0.0</td>\n",
       "    </tr>\n",
       "    <tr>\n",
       "      <th>11213</th>\n",
       "      <td>dyad</td>\n",
       "      <td>Game rounds</td>\n",
       "      <td>45981-38174</td>\n",
       "      <td>38174543864515</td>\n",
       "      <td>terrier</td>\n",
       "      <td>hound</td>\n",
       "      <td>1</td>\n",
       "      <td>B8.jpg</td>\n",
       "      <td>frame4</td>\n",
       "      <td>B</td>\n",
       "      <td>D</td>\n",
       "      <td>0</td>\n",
       "      <td>False</td>\n",
       "      <td>0</td>\n",
       "      <td>NaN</td>\n",
       "      <td>NaN</td>\n",
       "      <td>NaN</td>\n",
       "      <td>0.0</td>\n",
       "    </tr>\n",
       "  </tbody>\n",
       "</table>\n",
       "</div>"
      ],
      "text/plain": [
       "      treatment        stage         dyad           player expert_in  \\\n",
       "11206      dyad  Game rounds  45981-38174  459819203408978     hound   \n",
       "11209      dyad  Game rounds  45981-38174  459819203408978     hound   \n",
       "11210      dyad  Game rounds  45981-38174   38174543864515   terrier   \n",
       "11212      dyad  Game rounds  45981-38174   38174543864515   terrier   \n",
       "11213      dyad  Game rounds  45981-38174   38174543864515   terrier   \n",
       "\n",
       "      novice_in  round   object position kind classif  accuracy  expert_dog  \\\n",
       "11206   terrier      1   C1.jpg   frame2    C       A         0       False   \n",
       "11209   terrier      1  A10.jpg   frame5    A       C         0       False   \n",
       "11210     hound      1   B1.jpg   frame1    B       B         1       False   \n",
       "11212     hound      1   B5.jpg   frame3    B       D         0       False   \n",
       "11213     hound      1   B8.jpg   frame4    B       D         0       False   \n",
       "\n",
       "       queried  answer_correct  answered  yes/no  num_queries  \n",
       "11206        0             NaN       NaN     NaN          0.0  \n",
       "11209        0             NaN       NaN     NaN          0.0  \n",
       "11210        0             NaN       NaN     NaN          0.0  \n",
       "11212        0             NaN       NaN     NaN          0.0  \n",
       "11213        0             NaN       NaN     NaN          0.0  "
      ]
     },
     "execution_count": 15,
     "metadata": {},
     "output_type": "execute_result"
    }
   ],
   "source": [
    "game_dyad = filter_variables(data, {\n",
    "    'treatment==':'dyad', \n",
    "    'stage==':'Game rounds',\n",
    "    'expert_dog==':False,\n",
    "    'round<': 30\n",
    "})\n",
    "game_dyad['num_queries'] = game_dyad['queried'].apply(lambda x: x if x>0 else 0)\n",
    "game_dyad['queried'] = game_dyad['queried'].apply(lambda x: 1 if x>0 else 0)\n",
    "game_dyad.head()"
   ]
  },
  {
   "cell_type": "code",
   "execution_count": 16,
   "metadata": {},
   "outputs": [
    {
     "data": {
      "text/html": [
       "<div>\n",
       "<style scoped>\n",
       "    .dataframe tbody tr th:only-of-type {\n",
       "        vertical-align: middle;\n",
       "    }\n",
       "\n",
       "    .dataframe tbody tr th {\n",
       "        vertical-align: top;\n",
       "    }\n",
       "\n",
       "    .dataframe thead th {\n",
       "        text-align: right;\n",
       "    }\n",
       "</style>\n",
       "<table border=\"1\" class=\"dataframe\">\n",
       "  <thead>\n",
       "    <tr style=\"text-align: right;\">\n",
       "      <th></th>\n",
       "      <th>player</th>\n",
       "      <th>round</th>\n",
       "      <th>num_queries</th>\n",
       "      <th>queried</th>\n",
       "      <th>acc_queried</th>\n",
       "    </tr>\n",
       "  </thead>\n",
       "  <tbody>\n",
       "    <tr>\n",
       "      <th>0</th>\n",
       "      <td>21409433577947</td>\n",
       "      <td>3</td>\n",
       "      <td>2.0</td>\n",
       "      <td>0.333333</td>\n",
       "      <td>0.333333</td>\n",
       "    </tr>\n",
       "    <tr>\n",
       "      <th>1</th>\n",
       "      <td>21409433577947</td>\n",
       "      <td>4</td>\n",
       "      <td>2.0</td>\n",
       "      <td>0.333333</td>\n",
       "      <td>0.666667</td>\n",
       "    </tr>\n",
       "    <tr>\n",
       "      <th>2</th>\n",
       "      <td>21409433577947</td>\n",
       "      <td>5</td>\n",
       "      <td>3.0</td>\n",
       "      <td>0.333333</td>\n",
       "      <td>1.000000</td>\n",
       "    </tr>\n",
       "    <tr>\n",
       "      <th>3</th>\n",
       "      <td>21409433577947</td>\n",
       "      <td>6</td>\n",
       "      <td>4.0</td>\n",
       "      <td>0.500000</td>\n",
       "      <td>1.500000</td>\n",
       "    </tr>\n",
       "    <tr>\n",
       "      <th>4</th>\n",
       "      <td>21409433577947</td>\n",
       "      <td>7</td>\n",
       "      <td>3.0</td>\n",
       "      <td>1.000000</td>\n",
       "      <td>2.500000</td>\n",
       "    </tr>\n",
       "  </tbody>\n",
       "</table>\n",
       "</div>"
      ],
      "text/plain": [
       "           player  round  num_queries   queried  acc_queried\n",
       "0  21409433577947      3          2.0  0.333333     0.333333\n",
       "1  21409433577947      4          2.0  0.333333     0.666667\n",
       "2  21409433577947      5          3.0  0.333333     1.000000\n",
       "3  21409433577947      6          4.0  0.500000     1.500000\n",
       "4  21409433577947      7          3.0  1.000000     2.500000"
      ]
     },
     "execution_count": 16,
     "metadata": {},
     "output_type": "execute_result"
    }
   ],
   "source": [
    "df_use = game_dyad.groupby(['player', 'round']).agg({\n",
    "    'num_queries':'sum',\n",
    "    'queried':'mean',\n",
    "}).reset_index()\n",
    "df_use['acc_queried'] = df_use.groupby('player')['queried'].cumsum()\n",
    "df_use.head()"
   ]
  },
  {
   "cell_type": "code",
   "execution_count": 17,
   "metadata": {},
   "outputs": [
    {
     "name": "stdout",
     "output_type": "stream",
     "text": [
      "p value: 1.449845554550943e-09\n"
     ]
    }
   ],
   "source": [
    "pvalue = test_difference_proportions_accuracy(game_dyad, 'queried')\n",
    "print('p value:', pvalue)"
   ]
  },
  {
   "cell_type": "code",
   "execution_count": 18,
   "metadata": {
    "scrolled": true
   },
   "outputs": [
    {
     "data": {
      "text/plain": [
       "<AxesSubplot:xlabel='queried', ylabel='accuracy'>"
      ]
     },
     "execution_count": 18,
     "metadata": {},
     "output_type": "execute_result"
    },
    {
     "data": {
      "image/png": "[encoded data removed]",
      "text/plain": [
       "<Figure size 432x288 with 1 Axes>"
      ]
     },
     "metadata": {
      "needs_background": "light"
     },
     "output_type": "display_data"
    }
   ],
   "source": [
    "sns.barplot(x='queried', y='accuracy', data=game_dyad, capsize=.2)"
   ]
  },
  {
   "cell_type": "code",
   "execution_count": 188,
   "metadata": {},
   "outputs": [
    {
     "data": {
      "text/plain": [
       "count    40.000000\n",
       "mean      9.701667\n",
       "std       8.086496\n",
       "min       0.000000\n",
       "25%       2.125000\n",
       "50%       7.450000\n",
       "75%      16.783333\n",
       "max      23.000000\n",
       "Name: acc_queried, dtype: float64"
      ]
     },
     "execution_count": 188,
     "metadata": {},
     "output_type": "execute_result"
    }
   ],
   "source": [
    "df_use.groupby('player')['acc_queried'].max().describe()"
   ]
  },
  {
   "cell_type": "code",
   "execution_count": 189,
   "metadata": {},
   "outputs": [
    {
     "data": {
      "text/html": [
       "<div>\n",
       "<style scoped>\n",
       "    .dataframe tbody tr th:only-of-type {\n",
       "        vertical-align: middle;\n",
       "    }\n",
       "\n",
       "    .dataframe tbody tr th {\n",
       "        vertical-align: top;\n",
       "    }\n",
       "\n",
       "    .dataframe thead th {\n",
       "        text-align: right;\n",
       "    }\n",
       "</style>\n",
       "<table border=\"1\" class=\"dataframe\">\n",
       "  <thead>\n",
       "    <tr style=\"text-align: right;\">\n",
       "      <th></th>\n",
       "      <th>player</th>\n",
       "      <th>round</th>\n",
       "      <th>num_queries</th>\n",
       "      <th>queried</th>\n",
       "      <th>acc_queried</th>\n",
       "      <th>use_grp</th>\n",
       "    </tr>\n",
       "  </thead>\n",
       "  <tbody>\n",
       "    <tr>\n",
       "      <th>0</th>\n",
       "      <td>21409433577947</td>\n",
       "      <td>3</td>\n",
       "      <td>2.0</td>\n",
       "      <td>0.333333</td>\n",
       "      <td>0.333333</td>\n",
       "      <td>very_low</td>\n",
       "    </tr>\n",
       "    <tr>\n",
       "      <th>1</th>\n",
       "      <td>21409433577947</td>\n",
       "      <td>4</td>\n",
       "      <td>2.0</td>\n",
       "      <td>0.333333</td>\n",
       "      <td>0.666667</td>\n",
       "      <td>low</td>\n",
       "    </tr>\n",
       "    <tr>\n",
       "      <th>2</th>\n",
       "      <td>21409433577947</td>\n",
       "      <td>5</td>\n",
       "      <td>3.0</td>\n",
       "      <td>0.333333</td>\n",
       "      <td>1.000000</td>\n",
       "      <td>low</td>\n",
       "    </tr>\n",
       "    <tr>\n",
       "      <th>3</th>\n",
       "      <td>21409433577947</td>\n",
       "      <td>6</td>\n",
       "      <td>4.0</td>\n",
       "      <td>0.500000</td>\n",
       "      <td>1.500000</td>\n",
       "      <td>low</td>\n",
       "    </tr>\n",
       "    <tr>\n",
       "      <th>4</th>\n",
       "      <td>21409433577947</td>\n",
       "      <td>7</td>\n",
       "      <td>3.0</td>\n",
       "      <td>1.000000</td>\n",
       "      <td>2.500000</td>\n",
       "      <td>low</td>\n",
       "    </tr>\n",
       "  </tbody>\n",
       "</table>\n",
       "</div>"
      ],
      "text/plain": [
       "           player  round  num_queries   queried  acc_queried   use_grp\n",
       "0  21409433577947      3          2.0  0.333333     0.333333  very_low\n",
       "1  21409433577947      4          2.0  0.333333     0.666667       low\n",
       "2  21409433577947      5          3.0  0.333333     1.000000       low\n",
       "3  21409433577947      6          4.0  0.500000     1.500000       low\n",
       "4  21409433577947      7          3.0  1.000000     2.500000       low"
      ]
     },
     "execution_count": 189,
     "metadata": {},
     "output_type": "execute_result"
    }
   ],
   "source": [
    "df_use['use_grp'] = pd.cut(df_use['acc_queried'], \n",
    "                                   bins=[0, .5, 7.5, 16.8, 25], \n",
    "                                   include_lowest=True,\n",
    "                                   labels=['very_low', 'low', 'mid', 'high'])\n",
    "df_use.head()"
   ]
  },
  {
   "cell_type": "code",
   "execution_count": 190,
   "metadata": {},
   "outputs": [
    {
     "data": {
      "text/html": [
       "<div>\n",
       "<style scoped>\n",
       "    .dataframe tbody tr th:only-of-type {\n",
       "        vertical-align: middle;\n",
       "    }\n",
       "\n",
       "    .dataframe tbody tr th {\n",
       "        vertical-align: top;\n",
       "    }\n",
       "\n",
       "    .dataframe thead th {\n",
       "        text-align: right;\n",
       "    }\n",
       "</style>\n",
       "<table border=\"1\" class=\"dataframe\">\n",
       "  <thead>\n",
       "    <tr style=\"text-align: right;\">\n",
       "      <th></th>\n",
       "      <th>player</th>\n",
       "      <th>round</th>\n",
       "      <th>num_queries</th>\n",
       "      <th>queried</th>\n",
       "      <th>acc_queried</th>\n",
       "      <th>use_grp</th>\n",
       "    </tr>\n",
       "  </thead>\n",
       "  <tbody>\n",
       "  </tbody>\n",
       "</table>\n",
       "</div>"
      ],
      "text/plain": [
       "Empty DataFrame\n",
       "Columns: [player, round, num_queries, queried, acc_queried, use_grp]\n",
       "Index: []"
      ]
     },
     "execution_count": 190,
     "metadata": {},
     "output_type": "execute_result"
    }
   ],
   "source": [
    "df_use[df_use['use_grp'].isna()]"
   ]
  },
  {
   "cell_type": "code",
   "execution_count": 191,
   "metadata": {},
   "outputs": [],
   "source": [
    "dict_use_grp = dict(zip(df_use['player'], df_use['use_grp']))\n",
    "game_dyad['use_grp'] = game_dyad['player'].map(dict_use_grp)\n",
    "df_extremes = pd.DataFrame(game_dyad[(game_dyad['use_grp']=='very_low') | (game_dyad['use_grp']=='high')])"
   ]
  },
  {
   "cell_type": "code",
   "execution_count": 192,
   "metadata": {},
   "outputs": [
    {
     "data": {
      "text/plain": [
       "<AxesSubplot:xlabel='round', ylabel='accuracy'>"
      ]
     },
     "execution_count": 192,
     "metadata": {},
     "output_type": "execute_result"
    },
    {
     "data": {
      "image/png": "[encoded data removed]",
      "text/plain": [
       "<Figure size 432x288 with 1 Axes>"
      ]
     },
     "metadata": {
      "needs_background": "light"
     },
     "output_type": "display_data"
    }
   ],
   "source": [
    "sns.lineplot(x='round', y='accuracy', \n",
    "             hue='use_grp', data=df_extremes,\n",
    "             ci=95\n",
    "            )"
   ]
  },
  {
   "cell_type": "code",
   "execution_count": 193,
   "metadata": {},
   "outputs": [
    {
     "name": "stdout",
     "output_type": "stream",
     "text": [
      "0.012198069468642117\n",
      "0.021721504010320757\n",
      "0.8527765917754351\n",
      "0.16626420916146145\n",
      "0.9083329294347078\n",
      "0.7538011572340367\n",
      "0.017884152755544985\n",
      "0.09071690093480289\n",
      "3.7231566325456016e-05\n",
      "0.4378134060070694\n",
      "0.001329615698769901\n",
      "0.5953645977817879\n",
      "0.1604603907525366\n",
      "0.002237857547804372\n",
      "0.8485720888307413\n",
      "0.28903354254194435\n",
      "0.00050671939916592\n",
      "0.7241594651964933\n",
      "0.0017279507741690477\n",
      "0.24753846024101755\n",
      "0.0620343608710421\n",
      "0.43371406902579557\n",
      "0.02056151738544065\n",
      "0.03180824149348401\n",
      "0.58621368107314\n"
     ]
    }
   ],
   "source": [
    "ps = []\n",
    "for round, grp in df_extremes.groupby('round'):\n",
    "    pvalue = test_difference_proportions_accuracy(grp, 'use_grp')\n",
    "    ps.append(pvalue)\n",
    "    print(pvalue)"
   ]
  },
  {
   "cell_type": "code",
   "execution_count": 194,
   "metadata": {},
   "outputs": [
    {
     "data": {
      "text/plain": [
       "Text(0.5, 0, 'round')"
      ]
     },
     "execution_count": 194,
     "metadata": {},
     "output_type": "execute_result"
    },
    {
     "data": {
      "image/png": "[encoded data removed]",
      "text/plain": [
       "<Figure size 432x288 with 2 Axes>"
      ]
     },
     "metadata": {
      "needs_background": "light"
     },
     "output_type": "display_data"
    }
   ],
   "source": [
    "fig, ax = plt.subplots(2,1)\n",
    "sns.lineplot(x='round', y='accuracy', \n",
    "             hue='use_grp', data=df_extremes,\n",
    "             ci=95, ax=ax[0]\n",
    "            )\n",
    "sns.lineplot(x=range(1, 26), y=ps, ax=ax[1])\n",
    "ax[1].axhline(.05, ls='--')\n",
    "ax[1].set_ylabel('p value')\n",
    "ax[1].set_xlabel('round')"
   ]
  },
  {
   "cell_type": "code",
   "execution_count": 195,
   "metadata": {},
   "outputs": [],
   "source": [
    "df_high = pd.DataFrame(game_dyad[game_dyad['use_grp']=='high'])\n",
    "df_no = filter_variables(data, {\n",
    "    'stage==':'Game rounds',\n",
    "    'expert_dog==':False,\n",
    "    'treatment==':'single' \n",
    "})\n",
    "df_no['use_grp'] = 'single'\n",
    "df1 = pd.concat([df_high, df_no])"
   ]
  },
  {
   "cell_type": "code",
   "execution_count": 196,
   "metadata": {},
   "outputs": [
    {
     "data": {
      "text/plain": [
       "Text(0.5, 0, 'round')"
      ]
     },
     "execution_count": 196,
     "metadata": {},
     "output_type": "execute_result"
    },
    {
     "data": {
      "image/png": "[encoded data removed]",
      "text/plain": [
       "<Figure size 432x288 with 2 Axes>"
      ]
     },
     "metadata": {
      "needs_background": "light"
     },
     "output_type": "display_data"
    }
   ],
   "source": [
    "ps = []\n",
    "for round, grp in df1.groupby('round'):\n",
    "    pvalue = test_difference_proportions_accuracy(grp, 'use_grp')\n",
    "    ps.append(pvalue)\n",
    "    \n",
    "fig, ax = plt.subplots(2,1)\n",
    "sns.lineplot(x='round', y='accuracy', \n",
    "             hue='use_grp', data=df1,\n",
    "             ci=95, ax=ax[0]\n",
    "            )\n",
    "sns.lineplot(x=range(1, 26), y=ps, ax=ax[1])\n",
    "ax[1].axhline(.05, ls='--')\n",
    "ax[1].set_ylabel('p value')\n",
    "ax[1].set_xlabel('round')"
   ]
  },
  {
   "cell_type": "code",
   "execution_count": 7,
   "metadata": {},
   "outputs": [
    {
     "ename": "NameError",
     "evalue": "name 'dict_use_grp' is not defined",
     "output_type": "error",
     "traceback": [
      "\u001b[1;31m---------------------------------------------------------------------------\u001b[0m",
      "\u001b[1;31mNameError\u001b[0m                                 Traceback (most recent call last)",
      "\u001b[1;32m<ipython-input-7-9ba7d7e57937>\u001b[0m in \u001b[0;36m<module>\u001b[1;34m\u001b[0m\n\u001b[0;32m      4\u001b[0m     'expertise==':'novices'}\n\u001b[0;32m      5\u001b[0m                                  )\n\u001b[1;32m----> 6\u001b[1;33m \u001b[0mreport_dyads\u001b[0m\u001b[1;33m[\u001b[0m\u001b[1;34m'use_grp'\u001b[0m\u001b[1;33m]\u001b[0m \u001b[1;33m=\u001b[0m \u001b[0mreport_dyads\u001b[0m\u001b[1;33m[\u001b[0m\u001b[1;34m'player'\u001b[0m\u001b[1;33m]\u001b[0m\u001b[1;33m.\u001b[0m\u001b[0mmap\u001b[0m\u001b[1;33m(\u001b[0m\u001b[0mdict_use_grp\u001b[0m\u001b[1;33m)\u001b[0m\u001b[1;33m\u001b[0m\u001b[1;33m\u001b[0m\u001b[0m\n\u001b[0m\u001b[0;32m      7\u001b[0m \u001b[0mreport_dyads\u001b[0m\u001b[1;33m.\u001b[0m\u001b[0mhead\u001b[0m\u001b[1;33m(\u001b[0m\u001b[1;33m)\u001b[0m\u001b[1;33m\u001b[0m\u001b[1;33m\u001b[0m\u001b[0m\n",
      "\u001b[1;31mNameError\u001b[0m: name 'dict_use_grp' is not defined"
     ]
    }
   ],
   "source": [
    "report_understanding = pd.read_csv('rep-understanding.csv')\n",
    "report_dyads = filter_variables(report_understanding, {\n",
    "    'treatment==':'dyad', \n",
    "    'expertise==':'novices'}\n",
    "                                 )\n",
    "report_dyads['use_grp'] = report_dyads['player'].map(dict_use_grp)\n",
    "report_dyads.head()"
   ]
  },
  {
   "cell_type": "code",
   "execution_count": 203,
   "metadata": {},
   "outputs": [
    {
     "data": {
      "text/plain": [
       "<AxesSubplot:xlabel='use_grp', ylabel='report'>"
      ]
     },
     "execution_count": 203,
     "metadata": {},
     "output_type": "execute_result"
    },
    {
     "data": {
      "image/png": "[encoded data removed]",
      "text/plain": [
       "<Figure size 432x288 with 1 Axes>"
      ]
     },
     "metadata": {
      "needs_background": "light"
     },
     "output_type": "display_data"
    }
   ],
   "source": [
    "sns.stripplot(x='use_grp', y='report', data=report_dyads, \n",
    "              order=['very_low', 'low', 'mid', 'high'])"
   ]
  }
 ],
 "metadata": {
  "kernelspec": {
   "display_name": "Python 3",
   "language": "python",
   "name": "python3"
  },
  "language_info": {
   "codemirror_mode": {
    "name": "ipython",
    "version": 3
   },
   "file_extension": ".py",
   "mimetype": "text/x-python",
   "name": "python",
   "nbconvert_exporter": "python",
   "pygments_lexer": "ipython3",
   "version": "3.7.1"
  }
 },
 "nbformat": 4,
 "nbformat_minor": 4
}
